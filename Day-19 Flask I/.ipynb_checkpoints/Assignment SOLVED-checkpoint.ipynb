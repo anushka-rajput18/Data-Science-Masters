{
 "cells": [
  {
   "cell_type": "markdown",
   "id": "cb6c1967",
   "metadata": {},
   "source": [
    "**Q1. What is Flask Framework? What are the advantages of Flask Framework?**"
   ]
  },
  {
   "cell_type": "markdown",
   "id": "0a5fcc49",
   "metadata": {},
   "source": [
    "**Flask** is a micro web framework written in Python that allows you to build web applications quickly and efficiently. It is lightweight and designed to be easy to use and flexible, making it a popular choice for developers who want to build web applications using Python.\n",
    "\n",
    "Some advantages of Flask framework are:\n",
    "\n",
    "1. LightWeight\n",
    "2. Flexible\n",
    "3. Easy to learn\n",
    "4. Large community\n",
    "5. Wide range of Extensions"
   ]
  },
  {
   "cell_type": "markdown",
   "id": "36e8dbf9",
   "metadata": {},
   "source": [
    "**Q2. Create a simple Flask application to display ‘Hello World!!’. Attach the screenshot of the output in\n",
    "Jupyter Notebook.**"
   ]
  },
  {
   "cell_type": "code",
   "execution_count": 1,
   "id": "7f25df90",
   "metadata": {
    "scrolled": true
   },
   "outputs": [
    {
     "name": "stdout",
     "output_type": "stream",
     "text": [
      " * Serving Flask app \"__main__\" (lazy loading)\n",
      " * Environment: production\n",
      "   WARNING: This is a development server. Do not use it in a production deployment.\n",
      "   Use a production WSGI server instead.\n",
      " * Debug mode: off\n"
     ]
    },
    {
     "name": "stderr",
     "output_type": "stream",
     "text": [
      " * Running on http://127.0.0.1:5000/ (Press CTRL+C to quit)\n",
      "127.0.0.1 - - [02/Apr/2023 21:26:40] \"\u001b[37mGET / HTTP/1.1\u001b[0m\" 200 -\n",
      "127.0.0.1 - - [02/Apr/2023 21:26:40] \"\u001b[33mGET /favicon.ico HTTP/1.1\u001b[0m\" 404 -\n"
     ]
    }
   ],
   "source": [
    "from flask import Flask\n",
    "\n",
    "app = Flask(__name__)\n",
    "\n",
    "@app.route('/')\n",
    "def hello():\n",
    "    return \"Hello World!!\"\n",
    "\n",
    "if __name__ == '__main__':\n",
    "    app.run()"
   ]
  },
  {
   "cell_type": "markdown",
   "id": "03ef4cea",
   "metadata": {},
   "source": [
    "<img src=\"output1.png\" style= \"width:500px; height:200px\"/>"
   ]
  },
  {
   "cell_type": "markdown",
   "id": "9cfd4ac7",
   "metadata": {},
   "source": [
    "**Q3. What is App routing in Flask? Why do we use app routes?**"
   ]
  },
  {
   "cell_type": "markdown",
   "id": "f52b5874",
   "metadata": {},
   "source": [
    "In Flask, routing refers to the process of mapping URLs to view functions, which allows Flask to know which view function to execute when a particular URL is requested by the user. An app route in Flask is a decorator function that is used to associate a URL with a view function. Flask checks the registered routes and matches the URL to a registered route. If a match is found, Flask executes the associated view function.\n",
    "\n",
    "App routing in Flask is used to organize web application URLs and handle user requests based on the requested URL. By separating different functionality into different view functions, it makes it easier to build complex web applications that have many pages and features. App routing also helps in writing cleaner and more maintainable code. It is an essential part of building RESTful web applications where each URL maps to a specific resource or action, and it allows developers to build applications that are easily scalable and extendable."
   ]
  },
  {
   "cell_type": "markdown",
   "id": "ca1166e9",
   "metadata": {},
   "source": [
    "**Q.4 Create a “/welcome” route to display the welcome message “Welcome to ABC Corporation” and a “/” route to show the following details:\n",
    "<br>Company Name: ABC Corporation\n",
    "<br>Location: India\n",
    "<br>Contact Detail: 999-999-9999**"
   ]
  },
  {
   "cell_type": "code",
   "execution_count": 3,
   "id": "5a479c77",
   "metadata": {},
   "outputs": [
    {
     "name": "stdout",
     "output_type": "stream",
     "text": [
      " * Serving Flask app \"__main__\" (lazy loading)\n",
      " * Environment: production\n",
      "   WARNING: This is a development server. Do not use it in a production deployment.\n",
      "   Use a production WSGI server instead.\n",
      " * Debug mode: off\n"
     ]
    },
    {
     "name": "stderr",
     "output_type": "stream",
     "text": [
      " * Running on http://127.0.0.1:5000/ (Press CTRL+C to quit)\n"
     ]
    }
   ],
   "source": [
    "from flask import Flask\n",
    "\n",
    "app = Flask(__name__)\n",
    "\n",
    "@app.route('/welcome')\n",
    "def welcome():\n",
    "    return 'Welcome to ABC Corporation'\n",
    "\n",
    "@app.route('/')\n",
    "def company_details():\n",
    "    return 'Company Name: ABC Corporation<br>Location: India<br>Contact Detail: 999-999-9999'\n",
    "\n",
    "if __name__ == '__main__':\n",
    "    app.run()\n"
   ]
  },
  {
   "cell_type": "code",
   "execution_count": 9,
   "id": "c40bbe8e",
   "metadata": {},
   "outputs": [
    {
     "data": {
      "text/html": [
       "<img src=\"output2.png\" width=\"600\" height=\"600\"/>"
      ],
      "text/plain": [
       "<IPython.core.display.Image object>"
      ]
     },
     "execution_count": 9,
     "metadata": {},
     "output_type": "execute_result"
    }
   ],
   "source": [
    "from IPython.display import Image\n",
    "  \n",
    "# get the image\n",
    "Image(url=\"output2.png\", width=600, height=600)"
   ]
  },
  {
   "cell_type": "code",
   "execution_count": 10,
   "id": "0d413ad7",
   "metadata": {},
   "outputs": [
    {
     "data": {
      "text/html": [
       "<img src=\"output3.png\" width=\"600\" height=\"600\"/>"
      ],
      "text/plain": [
       "<IPython.core.display.Image object>"
      ]
     },
     "execution_count": 10,
     "metadata": {},
     "output_type": "execute_result"
    }
   ],
   "source": [
    "from IPython.display import Image\n",
    "  \n",
    "# get the image\n",
    "Image(url=\"output3.png\", width=600, height=600)"
   ]
  },
  {
   "cell_type": "markdown",
   "id": "454b5737",
   "metadata": {},
   "source": [
    "**Q5. What function is used in Flask for URL Building? Write a Python code to demonstrate the working of the\n",
    "url_for() function.**"
   ]
  },
  {
   "cell_type": "markdown",
   "id": "bf60a521",
   "metadata": {},
   "source": [
    "The url_for() function in Flask is used for building URLs for a specific function based on its name. This function generates a URL for the specified function along with any arguments provided.\n",
    "\n",
    "Here's an example code that demonstrates the working of the url_for() function:"
   ]
  },
  {
   "cell_type": "code",
   "execution_count": 11,
   "id": "07e4f9ec",
   "metadata": {},
   "outputs": [
    {
     "name": "stdout",
     "output_type": "stream",
     "text": [
      " * Serving Flask app \"__main__\" (lazy loading)\n",
      " * Environment: production\n",
      "   WARNING: This is a development server. Do not use it in a production deployment.\n",
      "   Use a production WSGI server instead.\n",
      " * Debug mode: off\n"
     ]
    },
    {
     "name": "stderr",
     "output_type": "stream",
     "text": [
      " * Running on http://127.0.0.1:5000/ (Press CTRL+C to quit)\n"
     ]
    }
   ],
   "source": [
    "from flask import Flask, url_for\n",
    "\n",
    "app = Flask(__name__)\n",
    "\n",
    "@app.route('/hello/<name>')\n",
    "def hello(name):\n",
    "    return 'Hello, %s!' % name\n",
    "\n",
    "@app.route('/')\n",
    "def index():\n",
    "    # Generate a URL for the hello() function with the argument 'Alice'\n",
    "    url = url_for('hello', name='Alice')\n",
    "    # Display the generated URL\n",
    "    return 'The URL is: %s' % url\n",
    "\n",
    "if __name__ == '__main__':\n",
    "    app.run()"
   ]
  },
  {
   "cell_type": "code",
   "execution_count": 14,
   "id": "b38442bc",
   "metadata": {},
   "outputs": [
    {
     "data": {
      "text/html": [
       "<img src=\"output4.png\" width=\"600\" height=\"600\"/>"
      ],
      "text/plain": [
       "<IPython.core.display.Image object>"
      ]
     },
     "execution_count": 14,
     "metadata": {},
     "output_type": "execute_result"
    }
   ],
   "source": [
    "from IPython.display import Image\n",
    "  \n",
    "# get the image\n",
    "Image(url=\"output4.png\", width=600, height=600)"
   ]
  }
 ],
 "metadata": {
  "kernelspec": {
   "display_name": "Python 3",
   "language": "python",
   "name": "python3"
  },
  "language_info": {
   "codemirror_mode": {
    "name": "ipython",
    "version": 3
   },
   "file_extension": ".py",
   "mimetype": "text/x-python",
   "name": "python",
   "nbconvert_exporter": "python",
   "pygments_lexer": "ipython3",
   "version": "3.8.8"
  }
 },
 "nbformat": 4,
 "nbformat_minor": 5
}
