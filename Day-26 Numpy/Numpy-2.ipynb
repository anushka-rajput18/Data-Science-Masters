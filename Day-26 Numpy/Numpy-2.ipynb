{
 "cells": [
  {
   "cell_type": "code",
   "execution_count": 1,
   "id": "f4eb7ac1-ab45-40df-ae3b-906cef1047f3",
   "metadata": {
    "id": "f4eb7ac1-ab45-40df-ae3b-906cef1047f3"
   },
   "outputs": [],
   "source": [
    "import numpy as np"
   ]
  },
  {
   "cell_type": "code",
   "execution_count": 2,
   "id": "6ad2ff57-6901-4458-a8f3-667f48592bb8",
   "metadata": {
    "id": "6ad2ff57-6901-4458-a8f3-667f48592bb8",
    "outputId": "a7c9ddb7-c2f8-47bf-d0ac-8949d20722e9"
   },
   "outputs": [
    {
     "data": {
      "text/plain": [
       "[0, 1, 2, 3, 4]"
      ]
     },
     "execution_count": 2,
     "metadata": {},
     "output_type": "execute_result"
    }
   ],
   "source": [
    "list(range(5))"
   ]
  },
  {
   "cell_type": "code",
   "execution_count": 3,
   "id": "8094bd48-d10c-49b6-aba7-cca3deda8283",
   "metadata": {
    "id": "8094bd48-d10c-49b6-aba7-cca3deda8283",
    "outputId": "a367f2ac-1936-403e-c7c0-684ca38ad659"
   },
   "outputs": [
    {
     "data": {
      "text/plain": [
       "[0, 1, 2, 3, 4, 5, 6, 7, 8, 9]"
      ]
     },
     "execution_count": 3,
     "metadata": {},
     "output_type": "execute_result"
    }
   ],
   "source": [
    "list(range(0,10))"
   ]
  },
  {
   "cell_type": "code",
   "execution_count": 4,
   "id": "52336cd7-bac9-4e04-bd43-0c29ffc48ee7",
   "metadata": {
    "id": "52336cd7-bac9-4e04-bd43-0c29ffc48ee7",
    "outputId": "2f84aaa9-32ec-4c92-a8a6-9a32f7b35c3c"
   },
   "outputs": [
    {
     "ename": "TypeError",
     "evalue": "'float' object cannot be interpreted as an integer",
     "output_type": "error",
     "traceback": [
      "\u001b[1;31m---------------------------------------------------------------------------\u001b[0m",
      "\u001b[1;31mTypeError\u001b[0m                                 Traceback (most recent call last)",
      "\u001b[1;32m<ipython-input-4-0febcd6fe47e>\u001b[0m in \u001b[0;36m<module>\u001b[1;34m\u001b[0m\n\u001b[1;32m----> 1\u001b[1;33m \u001b[0mlist\u001b[0m\u001b[1;33m(\u001b[0m\u001b[0mrange\u001b[0m\u001b[1;33m(\u001b[0m\u001b[1;36m0.4\u001b[0m\u001b[1;33m,\u001b[0m\u001b[1;36m10.4\u001b[0m\u001b[1;33m)\u001b[0m\u001b[1;33m)\u001b[0m\u001b[1;33m\u001b[0m\u001b[1;33m\u001b[0m\u001b[0m\n\u001b[0m",
      "\u001b[1;31mTypeError\u001b[0m: 'float' object cannot be interpreted as an integer"
     ]
    }
   ],
   "source": [
    "list(range(0.4,10.4))"
   ]
  },
  {
   "cell_type": "code",
   "execution_count": 5,
   "id": "02d44a45-dd57-4c71-a1f7-fe9123165544",
   "metadata": {
    "id": "02d44a45-dd57-4c71-a1f7-fe9123165544",
    "outputId": "ca0e53ca-8898-4108-c1d2-fe9e5a240f1c"
   },
   "outputs": [
    {
     "data": {
      "text/plain": [
       "[0.4,\n",
       " 0.6000000000000001,\n",
       " 0.8000000000000002,\n",
       " 1.0000000000000002,\n",
       " 1.2000000000000002,\n",
       " 1.4000000000000004,\n",
       " 1.6000000000000005,\n",
       " 1.8000000000000003,\n",
       " 2.0000000000000004,\n",
       " 2.2000000000000006,\n",
       " 2.400000000000001,\n",
       " 2.6000000000000005,\n",
       " 2.8000000000000007,\n",
       " 3.000000000000001,\n",
       " 3.2000000000000006,\n",
       " 3.400000000000001,\n",
       " 3.600000000000001,\n",
       " 3.800000000000001,\n",
       " 4.000000000000002,\n",
       " 4.200000000000001,\n",
       " 4.400000000000002,\n",
       " 4.600000000000001,\n",
       " 4.800000000000002,\n",
       " 5.000000000000002,\n",
       " 5.200000000000002,\n",
       " 5.400000000000002,\n",
       " 5.600000000000002,\n",
       " 5.8000000000000025,\n",
       " 6.000000000000002,\n",
       " 6.200000000000002,\n",
       " 6.400000000000002,\n",
       " 6.600000000000002,\n",
       " 6.8000000000000025,\n",
       " 7.000000000000003,\n",
       " 7.200000000000003,\n",
       " 7.400000000000003,\n",
       " 7.600000000000003,\n",
       " 7.8000000000000025,\n",
       " 8.000000000000002,\n",
       " 8.200000000000003,\n",
       " 8.400000000000004,\n",
       " 8.600000000000003,\n",
       " 8.800000000000002,\n",
       " 9.000000000000004,\n",
       " 9.200000000000003,\n",
       " 9.400000000000004,\n",
       " 9.600000000000003,\n",
       " 9.800000000000004,\n",
       " 10.000000000000004,\n",
       " 10.200000000000003]"
      ]
     },
     "execution_count": 5,
     "metadata": {},
     "output_type": "execute_result"
    }
   ],
   "source": [
    "list(np.arange(.4 , 10.4 , 0.2)) #takes float also"
   ]
  },
  {
   "cell_type": "code",
   "execution_count": 7,
   "id": "bd52d9de-67b0-4d7d-82e6-6185194fe090",
   "metadata": {
    "id": "bd52d9de-67b0-4d7d-82e6-6185194fe090",
    "outputId": "1e81f542-f831-48b6-da7f-5fe5e8d6b44a"
   },
   "outputs": [
    {
     "data": {
      "text/plain": [
       "array([1.        , 1.21052632, 1.42105263, 1.63157895, 1.84210526,\n",
       "       2.05263158, 2.26315789, 2.47368421, 2.68421053, 2.89473684,\n",
       "       3.10526316, 3.31578947, 3.52631579, 3.73684211, 3.94736842,\n",
       "       4.15789474, 4.36842105, 4.57894737, 4.78947368, 5.        ])"
      ]
     },
     "execution_count": 7,
     "metadata": {},
     "output_type": "execute_result"
    }
   ],
   "source": [
    "np.linspace(1,5 , 20) "
   ]
  },
  {
   "cell_type": "code",
   "execution_count": 8,
   "id": "47bfa42d-377f-4422-8ebf-e90007531d1e",
   "metadata": {
    "id": "47bfa42d-377f-4422-8ebf-e90007531d1e",
    "outputId": "9975cdb0-fda6-41f6-87b7-2ed30d11dca5"
   },
   "outputs": [
    {
     "data": {
      "text/plain": [
       "array([ 2.        ,  2.72158   ,  3.70349885,  5.0396842 ,  6.85795186,\n",
       "        9.33223232, 12.69920842, 17.28095582, 23.51575188, 32.        ])"
      ]
     },
     "execution_count": 8,
     "metadata": {},
     "output_type": "execute_result"
    }
   ],
   "source": [
    "np.logspace(1,5 , 10, base=2)"
   ]
  },
  {
   "cell_type": "code",
   "execution_count": 9,
   "id": "0f9365d5-2c47-4722-9f71-c7a54105e03f",
   "metadata": {
    "id": "0f9365d5-2c47-4722-9f71-c7a54105e03f",
    "outputId": "9467bbc3-353f-4817-8b15-dd9766c5375b"
   },
   "outputs": [
    {
     "data": {
      "text/plain": [
       "array([0., 0., 0., 0., 0.])"
      ]
     },
     "execution_count": 9,
     "metadata": {},
     "output_type": "execute_result"
    }
   ],
   "source": [
    "np.zeros(5)"
   ]
  },
  {
   "cell_type": "code",
   "execution_count": 10,
   "id": "03d25beb-4b78-4453-97b3-10a8b5a01b3b",
   "metadata": {
    "id": "03d25beb-4b78-4453-97b3-10a8b5a01b3b",
    "outputId": "38253df7-9367-47a9-b3c9-3686743007b5"
   },
   "outputs": [
    {
     "data": {
      "text/plain": [
       "array([[0., 0., 0., 0.],\n",
       "       [0., 0., 0., 0.],\n",
       "       [0., 0., 0., 0.]])"
      ]
     },
     "execution_count": 10,
     "metadata": {},
     "output_type": "execute_result"
    }
   ],
   "source": [
    "np.zeros((3,4))"
   ]
  },
  {
   "cell_type": "code",
   "execution_count": 11,
   "id": "577bb7c5-b873-4960-973d-ac054ee8586a",
   "metadata": {
    "id": "577bb7c5-b873-4960-973d-ac054ee8586a",
    "outputId": "59cd4df3-e934-4885-bf50-419afacdefcd"
   },
   "outputs": [
    {
     "data": {
      "text/plain": [
       "array([[[0., 0.],\n",
       "        [0., 0.],\n",
       "        [0., 0.],\n",
       "        [0., 0.]],\n",
       "\n",
       "       [[0., 0.],\n",
       "        [0., 0.],\n",
       "        [0., 0.],\n",
       "        [0., 0.]],\n",
       "\n",
       "       [[0., 0.],\n",
       "        [0., 0.],\n",
       "        [0., 0.],\n",
       "        [0., 0.]]])"
      ]
     },
     "execution_count": 11,
     "metadata": {},
     "output_type": "execute_result"
    }
   ],
   "source": [
    "np.zeros((3,4,2))"
   ]
  },
  {
   "cell_type": "code",
   "execution_count": 12,
   "id": "6cbf74a6-68ab-42fc-8c61-bd406649fd30",
   "metadata": {
    "id": "6cbf74a6-68ab-42fc-8c61-bd406649fd30",
    "outputId": "3549d53d-9d37-4f76-f72b-941345e4a681"
   },
   "outputs": [
    {
     "data": {
      "text/plain": [
       "array([[[[0., 0., 0.],\n",
       "         [0., 0., 0.]],\n",
       "\n",
       "        [[0., 0., 0.],\n",
       "         [0., 0., 0.]],\n",
       "\n",
       "        [[0., 0., 0.],\n",
       "         [0., 0., 0.]],\n",
       "\n",
       "        [[0., 0., 0.],\n",
       "         [0., 0., 0.]]],\n",
       "\n",
       "\n",
       "       [[[0., 0., 0.],\n",
       "         [0., 0., 0.]],\n",
       "\n",
       "        [[0., 0., 0.],\n",
       "         [0., 0., 0.]],\n",
       "\n",
       "        [[0., 0., 0.],\n",
       "         [0., 0., 0.]],\n",
       "\n",
       "        [[0., 0., 0.],\n",
       "         [0., 0., 0.]]],\n",
       "\n",
       "\n",
       "       [[[0., 0., 0.],\n",
       "         [0., 0., 0.]],\n",
       "\n",
       "        [[0., 0., 0.],\n",
       "         [0., 0., 0.]],\n",
       "\n",
       "        [[0., 0., 0.],\n",
       "         [0., 0., 0.]],\n",
       "\n",
       "        [[0., 0., 0.],\n",
       "         [0., 0., 0.]]]])"
      ]
     },
     "execution_count": 12,
     "metadata": {},
     "output_type": "execute_result"
    }
   ],
   "source": [
    "np.zeros((3,4,2,3))"
   ]
  },
  {
   "cell_type": "code",
   "execution_count": 13,
   "id": "ceaf4317-b934-454f-872c-64de7151cee1",
   "metadata": {
    "id": "ceaf4317-b934-454f-872c-64de7151cee1",
    "outputId": "1d9b5bc6-4673-40a7-b615-8661bce494b0"
   },
   "outputs": [
    {
     "data": {
      "text/plain": [
       "array([1., 1., 1., 1., 1.])"
      ]
     },
     "execution_count": 13,
     "metadata": {},
     "output_type": "execute_result"
    }
   ],
   "source": [
    "np.ones(5)"
   ]
  },
  {
   "cell_type": "code",
   "execution_count": 14,
   "id": "1f8e3bd2-a288-4904-9d18-9d1585465872",
   "metadata": {
    "id": "1f8e3bd2-a288-4904-9d18-9d1585465872"
   },
   "outputs": [],
   "source": [
    "arr = np.ones((3,4))"
   ]
  },
  {
   "cell_type": "code",
   "execution_count": 15,
   "id": "ffe88073-4122-40f8-ba07-d5c2d092d809",
   "metadata": {
    "id": "ffe88073-4122-40f8-ba07-d5c2d092d809",
    "outputId": "21deb59e-3314-4dff-c06a-009cdbe6143f"
   },
   "outputs": [
    {
     "data": {
      "text/plain": [
       "array([[1., 1., 1., 1.],\n",
       "       [1., 1., 1., 1.],\n",
       "       [1., 1., 1., 1.]])"
      ]
     },
     "execution_count": 15,
     "metadata": {},
     "output_type": "execute_result"
    }
   ],
   "source": [
    "arr\n"
   ]
  },
  {
   "cell_type": "code",
   "execution_count": 16,
   "id": "605edc6f-f08d-4f87-95fb-e3877de87157",
   "metadata": {
    "id": "605edc6f-f08d-4f87-95fb-e3877de87157",
    "outputId": "bc604e15-e6ec-425c-fed1-645ba794b401"
   },
   "outputs": [
    {
     "data": {
      "text/plain": [
       "array([[6., 6., 6., 6.],\n",
       "       [6., 6., 6., 6.],\n",
       "       [6., 6., 6., 6.]])"
      ]
     },
     "execution_count": 16,
     "metadata": {},
     "output_type": "execute_result"
    }
   ],
   "source": [
    "arr+5"
   ]
  },
  {
   "cell_type": "code",
   "execution_count": 17,
   "id": "d00b3ebd-3e6e-4117-b105-b1762748bbbe",
   "metadata": {
    "id": "d00b3ebd-3e6e-4117-b105-b1762748bbbe",
    "outputId": "81218d97-f74a-49e0-9159-7d3afbd16531"
   },
   "outputs": [
    {
     "data": {
      "text/plain": [
       "array([[4., 4., 4., 4.],\n",
       "       [4., 4., 4., 4.],\n",
       "       [4., 4., 4., 4.]])"
      ]
     },
     "execution_count": 17,
     "metadata": {},
     "output_type": "execute_result"
    }
   ],
   "source": [
    "arr*4"
   ]
  },
  {
   "cell_type": "code",
   "execution_count": null,
   "id": "931c2e09-ff23-42ac-966a-c243bd1f474e",
   "metadata": {
    "id": "931c2e09-ff23-42ac-966a-c243bd1f474e",
    "outputId": "cfad5bee-e8cd-4d2c-fe78-9fe177263a67"
   },
   "outputs": [
    {
     "data": {
      "text/plain": [
       "array([[4., 4., 4., 4.],\n",
       "       [4., 4., 4., 4.],\n",
       "       [4., 4., 4., 4.]])"
      ]
     },
     "execution_count": 25,
     "metadata": {},
     "output_type": "execute_result"
    }
   ],
   "source": [
    "np.empty((3,4))"
   ]
  },
  {
   "cell_type": "code",
   "execution_count": 18,
   "id": "6b111844-9f00-4f9f-878c-4382a1c55e6e",
   "metadata": {
    "id": "6b111844-9f00-4f9f-878c-4382a1c55e6e"
   },
   "outputs": [],
   "source": [
    "arr1 = np.eye(5)"
   ]
  },
  {
   "cell_type": "code",
   "execution_count": 19,
   "id": "27b887cc-29ac-489d-847a-60a6ac7e693d",
   "metadata": {
    "id": "27b887cc-29ac-489d-847a-60a6ac7e693d",
    "outputId": "18de7baa-0001-49f4-8664-c2bee74c2fd3"
   },
   "outputs": [
    {
     "data": {
      "text/plain": [
       "array([[1., 0., 0., 0., 0.],\n",
       "       [0., 1., 0., 0., 0.],\n",
       "       [0., 0., 1., 0., 0.],\n",
       "       [0., 0., 0., 1., 0.],\n",
       "       [0., 0., 0., 0., 1.]])"
      ]
     },
     "execution_count": 19,
     "metadata": {},
     "output_type": "execute_result"
    }
   ],
   "source": [
    "arr1"
   ]
  },
  {
   "cell_type": "code",
   "execution_count": 20,
   "id": "643d5960-2309-47f1-81a1-c6468dd7e35a",
   "metadata": {
    "id": "643d5960-2309-47f1-81a1-c6468dd7e35a"
   },
   "outputs": [],
   "source": [
    "import pandas as pd"
   ]
  },
  {
   "cell_type": "code",
   "execution_count": 21,
   "id": "219bbe39-4a25-4ba2-a9b4-2b1b4342f92e",
   "metadata": {
    "id": "219bbe39-4a25-4ba2-a9b4-2b1b4342f92e",
    "outputId": "b341e295-1ac1-41a5-8b95-702e82a4219e"
   },
   "outputs": [
    {
     "data": {
      "text/html": [
       "<div>\n",
       "<style scoped>\n",
       "    .dataframe tbody tr th:only-of-type {\n",
       "        vertical-align: middle;\n",
       "    }\n",
       "\n",
       "    .dataframe tbody tr th {\n",
       "        vertical-align: top;\n",
       "    }\n",
       "\n",
       "    .dataframe thead th {\n",
       "        text-align: right;\n",
       "    }\n",
       "</style>\n",
       "<table border=\"1\" class=\"dataframe\">\n",
       "  <thead>\n",
       "    <tr style=\"text-align: right;\">\n",
       "      <th></th>\n",
       "      <th>0</th>\n",
       "      <th>1</th>\n",
       "      <th>2</th>\n",
       "      <th>3</th>\n",
       "      <th>4</th>\n",
       "    </tr>\n",
       "  </thead>\n",
       "  <tbody>\n",
       "    <tr>\n",
       "      <th>0</th>\n",
       "      <td>1.0</td>\n",
       "      <td>0.0</td>\n",
       "      <td>0.0</td>\n",
       "      <td>0.0</td>\n",
       "      <td>0.0</td>\n",
       "    </tr>\n",
       "    <tr>\n",
       "      <th>1</th>\n",
       "      <td>0.0</td>\n",
       "      <td>1.0</td>\n",
       "      <td>0.0</td>\n",
       "      <td>0.0</td>\n",
       "      <td>0.0</td>\n",
       "    </tr>\n",
       "    <tr>\n",
       "      <th>2</th>\n",
       "      <td>0.0</td>\n",
       "      <td>0.0</td>\n",
       "      <td>1.0</td>\n",
       "      <td>0.0</td>\n",
       "      <td>0.0</td>\n",
       "    </tr>\n",
       "    <tr>\n",
       "      <th>3</th>\n",
       "      <td>0.0</td>\n",
       "      <td>0.0</td>\n",
       "      <td>0.0</td>\n",
       "      <td>1.0</td>\n",
       "      <td>0.0</td>\n",
       "    </tr>\n",
       "    <tr>\n",
       "      <th>4</th>\n",
       "      <td>0.0</td>\n",
       "      <td>0.0</td>\n",
       "      <td>0.0</td>\n",
       "      <td>0.0</td>\n",
       "      <td>1.0</td>\n",
       "    </tr>\n",
       "  </tbody>\n",
       "</table>\n",
       "</div>"
      ],
      "text/plain": [
       "     0    1    2    3    4\n",
       "0  1.0  0.0  0.0  0.0  0.0\n",
       "1  0.0  1.0  0.0  0.0  0.0\n",
       "2  0.0  0.0  1.0  0.0  0.0\n",
       "3  0.0  0.0  0.0  1.0  0.0\n",
       "4  0.0  0.0  0.0  0.0  1.0"
      ]
     },
     "execution_count": 21,
     "metadata": {},
     "output_type": "execute_result"
    }
   ],
   "source": [
    "pd.DataFrame(arr1)"
   ]
  },
  {
   "cell_type": "code",
   "execution_count": 22,
   "id": "dfaa657a-b92a-413b-a2d9-68e89bef008a",
   "metadata": {
    "id": "dfaa657a-b92a-413b-a2d9-68e89bef008a",
    "outputId": "f49d1a11-c97c-4825-923b-a1c23be9277e"
   },
   "outputs": [
    {
     "data": {
      "text/plain": [
       "array([[0.71535374, 0.8971083 , 0.83956478],\n",
       "       [0.12071878, 0.57501784, 0.20720551]])"
      ]
     },
     "execution_count": 22,
     "metadata": {},
     "output_type": "execute_result"
    }
   ],
   "source": [
    "np.random.rand(2,3)"
   ]
  },
  {
   "cell_type": "code",
   "execution_count": 23,
   "id": "79025b17-fe17-4d65-8efa-2cd7c71079c4",
   "metadata": {
    "id": "79025b17-fe17-4d65-8efa-2cd7c71079c4",
    "outputId": "b19bdc6f-6f6b-4e19-f020-39140385539f"
   },
   "outputs": [
    {
     "data": {
      "text/plain": [
       "array([[-0.15275861, -0.90461904,  1.31502238],\n",
       "       [-0.44063793, -1.47369329,  0.71976918]])"
      ]
     },
     "execution_count": 23,
     "metadata": {},
     "output_type": "execute_result"
    }
   ],
   "source": [
    "np.random.randn(2,3)"
   ]
  },
  {
   "cell_type": "code",
   "execution_count": 24,
   "id": "65919f07-1169-412b-8f75-23b818722dce",
   "metadata": {
    "id": "65919f07-1169-412b-8f75-23b818722dce"
   },
   "outputs": [],
   "source": [
    "arr2 = np.random.randint(1,5 , (3,4))"
   ]
  },
  {
   "cell_type": "code",
   "execution_count": 25,
   "id": "4305e97b-a913-4680-90e8-7a65405d8638",
   "metadata": {
    "id": "4305e97b-a913-4680-90e8-7a65405d8638",
    "outputId": "0ec3bfef-3f06-4272-932c-74f5433d6cbc"
   },
   "outputs": [
    {
     "data": {
      "text/plain": [
       "array([[2, 4, 1, 1],\n",
       "       [1, 2, 1, 4],\n",
       "       [1, 4, 1, 2]])"
      ]
     },
     "execution_count": 25,
     "metadata": {},
     "output_type": "execute_result"
    }
   ],
   "source": [
    "arr2"
   ]
  },
  {
   "cell_type": "code",
   "execution_count": 26,
   "id": "3d0b3148-ec8a-41cd-a445-939b165e6c93",
   "metadata": {
    "id": "3d0b3148-ec8a-41cd-a445-939b165e6c93",
    "outputId": "cc116125-f220-4a7f-9003-2d8342be67da"
   },
   "outputs": [
    {
     "data": {
      "text/plain": [
       "12"
      ]
     },
     "execution_count": 26,
     "metadata": {},
     "output_type": "execute_result"
    }
   ],
   "source": [
    "arr2.size"
   ]
  },
  {
   "cell_type": "code",
   "execution_count": 27,
   "id": "f7697967-c185-48f2-bbb6-893f66cac8ed",
   "metadata": {
    "id": "f7697967-c185-48f2-bbb6-893f66cac8ed",
    "outputId": "657c7344-f6aa-4690-a544-3a4e7d701e2c"
   },
   "outputs": [
    {
     "data": {
      "text/plain": [
       "(3, 4)"
      ]
     },
     "execution_count": 27,
     "metadata": {},
     "output_type": "execute_result"
    }
   ],
   "source": [
    "arr2.shape"
   ]
  },
  {
   "cell_type": "code",
   "execution_count": 28,
   "id": "4391c927-4448-46d4-9b51-322a1ce677b6",
   "metadata": {
    "id": "4391c927-4448-46d4-9b51-322a1ce677b6",
    "outputId": "47fe46f8-6fe0-42a6-fbcc-a004843df17e"
   },
   "outputs": [
    {
     "data": {
      "text/plain": [
       "array([[2, 4],\n",
       "       [1, 1],\n",
       "       [1, 2],\n",
       "       [1, 4],\n",
       "       [1, 4],\n",
       "       [1, 2]])"
      ]
     },
     "execution_count": 28,
     "metadata": {},
     "output_type": "execute_result"
    }
   ],
   "source": [
    "arr2.reshape(6,2)"
   ]
  },
  {
   "cell_type": "code",
   "execution_count": 29,
   "id": "90f6653e-2e83-4265-879a-7cb97f57cf0b",
   "metadata": {
    "id": "90f6653e-2e83-4265-879a-7cb97f57cf0b",
    "outputId": "f1c7a515-0484-4a30-d997-bacb1a312035"
   },
   "outputs": [
    {
     "data": {
      "text/plain": [
       "array([[2, 4, 1, 1, 1, 2],\n",
       "       [1, 4, 1, 4, 1, 2]])"
      ]
     },
     "execution_count": 29,
     "metadata": {},
     "output_type": "execute_result"
    }
   ],
   "source": [
    "arr2.reshape(2,6)"
   ]
  },
  {
   "cell_type": "code",
   "execution_count": 30,
   "id": "93aba146-ef10-4f8c-9636-01073fa6d631",
   "metadata": {
    "id": "93aba146-ef10-4f8c-9636-01073fa6d631",
    "outputId": "766de343-6df5-4d35-f714-39a7d02450ab"
   },
   "outputs": [
    {
     "data": {
      "text/plain": [
       "array([[2, 4, 1],\n",
       "       [1, 1, 2],\n",
       "       [1, 4, 1],\n",
       "       [4, 1, 2]])"
      ]
     },
     "execution_count": 30,
     "metadata": {},
     "output_type": "execute_result"
    }
   ],
   "source": [
    "arr2.reshape(4,3)"
   ]
  },
  {
   "cell_type": "code",
   "execution_count": 31,
   "id": "1c4ca3e1-2ead-4887-83f1-af770a1a0499",
   "metadata": {
    "id": "1c4ca3e1-2ead-4887-83f1-af770a1a0499",
    "outputId": "409ab471-3826-4a47-8456-07aea0a7ba75"
   },
   "outputs": [
    {
     "data": {
      "text/plain": [
       "array([[2, 4, 1],\n",
       "       [1, 1, 2],\n",
       "       [1, 4, 1],\n",
       "       [4, 1, 2]])"
      ]
     },
     "execution_count": 31,
     "metadata": {},
     "output_type": "execute_result"
    }
   ],
   "source": [
    "arr2.reshape(4,-1)"
   ]
  },
  {
   "cell_type": "code",
   "execution_count": 32,
   "id": "d2178328-a10a-4011-b380-9f0115b1a869",
   "metadata": {
    "id": "d2178328-a10a-4011-b380-9f0115b1a869",
    "outputId": "ee9396ee-0344-417a-ca44-401540de67d1"
   },
   "outputs": [
    {
     "data": {
      "text/plain": [
       "array([[2, 4, 1],\n",
       "       [1, 1, 2],\n",
       "       [1, 4, 1],\n",
       "       [4, 1, 2]])"
      ]
     },
     "execution_count": 32,
     "metadata": {},
     "output_type": "execute_result"
    }
   ],
   "source": [
    "arr2.reshape(4,-1432453453)"
   ]
  },
  {
   "cell_type": "code",
   "execution_count": 33,
   "id": "8b3c4b06-d054-470b-b716-9c0f9d3bcabd",
   "metadata": {
    "id": "8b3c4b06-d054-470b-b716-9c0f9d3bcabd",
    "outputId": "e470131b-9401-4d5c-ab04-6f7f7300293a"
   },
   "outputs": [
    {
     "data": {
      "text/plain": [
       "array([[[[[[2]]],\n",
       "\n",
       "\n",
       "         [[[4]]],\n",
       "\n",
       "\n",
       "         [[[1]]]],\n",
       "\n",
       "\n",
       "\n",
       "        [[[[1]]],\n",
       "\n",
       "\n",
       "         [[[1]]],\n",
       "\n",
       "\n",
       "         [[[2]]]]],\n",
       "\n",
       "\n",
       "\n",
       "\n",
       "       [[[[[1]]],\n",
       "\n",
       "\n",
       "         [[[4]]],\n",
       "\n",
       "\n",
       "         [[[1]]]],\n",
       "\n",
       "\n",
       "\n",
       "        [[[[4]]],\n",
       "\n",
       "\n",
       "         [[[1]]],\n",
       "\n",
       "\n",
       "         [[[2]]]]]])"
      ]
     },
     "execution_count": 33,
     "metadata": {},
     "output_type": "execute_result"
    }
   ],
   "source": [
    "arr2.reshape(2,2,3,1,1,1)"
   ]
  },
  {
   "cell_type": "code",
   "execution_count": 34,
   "id": "ef3470a6-a634-448e-b420-c74a6e6edc15",
   "metadata": {
    "id": "ef3470a6-a634-448e-b420-c74a6e6edc15"
   },
   "outputs": [],
   "source": [
    "arr1 = np.random.randint(1,10 , (5,6))"
   ]
  },
  {
   "cell_type": "code",
   "execution_count": 35,
   "id": "72bd6ee7-58df-4bf9-9e9b-bc6418e3c8b9",
   "metadata": {
    "id": "72bd6ee7-58df-4bf9-9e9b-bc6418e3c8b9",
    "outputId": "4e05ed3b-5217-4c93-da12-41d1bc9393b6"
   },
   "outputs": [
    {
     "data": {
      "text/plain": [
       "array([[1, 7, 2, 1, 7, 2],\n",
       "       [9, 1, 4, 7, 7, 9],\n",
       "       [2, 5, 8, 1, 7, 8],\n",
       "       [8, 3, 3, 6, 4, 8],\n",
       "       [7, 1, 1, 8, 5, 3]])"
      ]
     },
     "execution_count": 35,
     "metadata": {},
     "output_type": "execute_result"
    }
   ],
   "source": [
    "arr1"
   ]
  },
  {
   "cell_type": "code",
   "execution_count": 36,
   "id": "9478cee0-7758-47cb-a0eb-1a995c2e45da",
   "metadata": {
    "id": "9478cee0-7758-47cb-a0eb-1a995c2e45da",
    "outputId": "e4029a7a-c2f0-4d99-b4dd-c2b2f9f12066"
   },
   "outputs": [
    {
     "data": {
      "text/plain": [
       "array([[False, False, False, False, False, False],\n",
       "       [ True, False, False, False, False,  True],\n",
       "       [False, False, False, False, False, False],\n",
       "       [False, False, False, False, False, False],\n",
       "       [False, False, False, False, False, False]])"
      ]
     },
     "execution_count": 36,
     "metadata": {},
     "output_type": "execute_result"
    }
   ],
   "source": [
    "arr1 >8"
   ]
  },
  {
   "cell_type": "code",
   "execution_count": 37,
   "id": "b0ccfeb6-d74a-497e-a762-468b08b7c982",
   "metadata": {
    "id": "b0ccfeb6-d74a-497e-a762-468b08b7c982",
    "outputId": "291f69d7-e3ba-47cd-ce22-e53e944aff35"
   },
   "outputs": [
    {
     "data": {
      "text/plain": [
       "array([9, 9])"
      ]
     },
     "execution_count": 37,
     "metadata": {},
     "output_type": "execute_result"
    }
   ],
   "source": [
    "arr1[arr1 >8]"
   ]
  },
  {
   "cell_type": "code",
   "execution_count": 38,
   "id": "2ffff376-fb8c-42ac-af6d-bdfdd11c4710",
   "metadata": {
    "id": "2ffff376-fb8c-42ac-af6d-bdfdd11c4710",
    "outputId": "4b0c2558-2770-44da-87c5-f6fd31fe978e"
   },
   "outputs": [
    {
     "data": {
      "text/plain": [
       "array([[1, 7, 2, 1, 7, 2],\n",
       "       [9, 1, 4, 7, 7, 9],\n",
       "       [2, 5, 8, 1, 7, 8],\n",
       "       [8, 3, 3, 6, 4, 8],\n",
       "       [7, 1, 1, 8, 5, 3]])"
      ]
     },
     "execution_count": 38,
     "metadata": {},
     "output_type": "execute_result"
    }
   ],
   "source": [
    "arr1"
   ]
  },
  {
   "cell_type": "code",
   "execution_count": 39,
   "id": "dc1e38e7-e847-40a1-9b1f-6bc2c19404ec",
   "metadata": {
    "id": "dc1e38e7-e847-40a1-9b1f-6bc2c19404ec",
    "outputId": "7da700af-2f84-42f7-dc0b-554a450fba97"
   },
   "outputs": [
    {
     "data": {
      "text/plain": [
       "array([1, 7])"
      ]
     },
     "execution_count": 39,
     "metadata": {},
     "output_type": "execute_result"
    }
   ],
   "source": [
    "arr1[0,[0,1]]"
   ]
  },
  {
   "cell_type": "code",
   "execution_count": 40,
   "id": "98d6be45-256a-4f51-82f8-22171e3e4c63",
   "metadata": {
    "id": "98d6be45-256a-4f51-82f8-22171e3e4c63",
    "outputId": "f4272926-cc13-4359-f703-dc90705d14fa"
   },
   "outputs": [
    {
     "data": {
      "text/plain": [
       "array([[8, 1],\n",
       "       [3, 6]])"
      ]
     },
     "execution_count": 40,
     "metadata": {},
     "output_type": "execute_result"
    }
   ],
   "source": [
    "arr1[2:4 , [2,3]]"
   ]
  },
  {
   "cell_type": "code",
   "execution_count": 41,
   "id": "3a9a44f2-fa9b-4ac4-be4e-77ed9ce2e6ce",
   "metadata": {
    "id": "3a9a44f2-fa9b-4ac4-be4e-77ed9ce2e6ce"
   },
   "outputs": [],
   "source": [
    "arr1 = np.random.randint(1,3 , (3,3))\n",
    "arr2 = np.random.randint(1,3 , (3,3))"
   ]
  },
  {
   "cell_type": "code",
   "execution_count": 42,
   "id": "fb3cb28f-f80a-4e01-82ff-dd31efc24832",
   "metadata": {
    "id": "fb3cb28f-f80a-4e01-82ff-dd31efc24832",
    "outputId": "b08885de-6c24-4b38-cb57-174f3487108d"
   },
   "outputs": [
    {
     "data": {
      "text/plain": [
       "array([[2, 2, 2],\n",
       "       [1, 2, 1],\n",
       "       [2, 2, 2]])"
      ]
     },
     "execution_count": 42,
     "metadata": {},
     "output_type": "execute_result"
    }
   ],
   "source": [
    "arr1"
   ]
  },
  {
   "cell_type": "code",
   "execution_count": 43,
   "id": "cba3d5e0-2632-4d3e-a054-6b56ffba8cf5",
   "metadata": {
    "id": "cba3d5e0-2632-4d3e-a054-6b56ffba8cf5",
    "outputId": "704ecaf3-43f7-40ad-806a-7891ec8095e9"
   },
   "outputs": [
    {
     "data": {
      "text/plain": [
       "array([[1, 2, 1],\n",
       "       [2, 1, 1],\n",
       "       [2, 1, 2]])"
      ]
     },
     "execution_count": 43,
     "metadata": {},
     "output_type": "execute_result"
    }
   ],
   "source": [
    "arr2"
   ]
  },
  {
   "cell_type": "code",
   "execution_count": 44,
   "id": "92d6fcbd-45f4-4d4b-8978-bbf1950d397b",
   "metadata": {
    "id": "92d6fcbd-45f4-4d4b-8978-bbf1950d397b",
    "outputId": "a616f711-07f5-49e9-b356-4f5bdf953581"
   },
   "outputs": [
    {
     "data": {
      "text/plain": [
       "array([[3, 4, 3],\n",
       "       [3, 3, 2],\n",
       "       [4, 3, 4]])"
      ]
     },
     "execution_count": 44,
     "metadata": {},
     "output_type": "execute_result"
    }
   ],
   "source": [
    "arr1+arr2\n"
   ]
  },
  {
   "cell_type": "code",
   "execution_count": 45,
   "id": "3da8590b-5ad7-471c-a1a4-d6d02025faae",
   "metadata": {
    "id": "3da8590b-5ad7-471c-a1a4-d6d02025faae",
    "outputId": "ae5f0b70-af5d-4af1-8c95-9d741be14450"
   },
   "outputs": [
    {
     "data": {
      "text/plain": [
       "array([[ 1,  0,  1],\n",
       "       [-1,  1,  0],\n",
       "       [ 0,  1,  0]])"
      ]
     },
     "execution_count": 45,
     "metadata": {},
     "output_type": "execute_result"
    }
   ],
   "source": [
    "arr1-arr2"
   ]
  },
  {
   "cell_type": "code",
   "execution_count": 46,
   "id": "8949c3b5-4176-4a8d-bc14-0dc5f949e646",
   "metadata": {
    "id": "8949c3b5-4176-4a8d-bc14-0dc5f949e646",
    "outputId": "869acedf-9a0e-4410-e275-0b1359b1856d"
   },
   "outputs": [
    {
     "data": {
      "text/plain": [
       "array([[2, 4, 2],\n",
       "       [2, 2, 1],\n",
       "       [4, 2, 4]])"
      ]
     },
     "execution_count": 46,
     "metadata": {},
     "output_type": "execute_result"
    }
   ],
   "source": [
    "arr1*arr2"
   ]
  },
  {
   "cell_type": "code",
   "execution_count": 47,
   "id": "3fb053cb-8409-40ca-9b71-c05054861fd3",
   "metadata": {
    "id": "3fb053cb-8409-40ca-9b71-c05054861fd3",
    "outputId": "4b3fa234-165a-46a2-e268-845004390e45"
   },
   "outputs": [
    {
     "data": {
      "text/plain": [
       "array([[2, 2, 2],\n",
       "       [1, 2, 1],\n",
       "       [2, 2, 2]])"
      ]
     },
     "execution_count": 47,
     "metadata": {},
     "output_type": "execute_result"
    }
   ],
   "source": [
    "arr1"
   ]
  },
  {
   "cell_type": "code",
   "execution_count": 48,
   "id": "182d965e-c128-474c-9c06-b5580e206d7b",
   "metadata": {
    "id": "182d965e-c128-474c-9c06-b5580e206d7b",
    "outputId": "694aaa20-517b-4fe3-b2bb-4241b508e39b"
   },
   "outputs": [
    {
     "data": {
      "text/plain": [
       "array([[1, 2, 1],\n",
       "       [2, 1, 1],\n",
       "       [2, 1, 2]])"
      ]
     },
     "execution_count": 48,
     "metadata": {},
     "output_type": "execute_result"
    }
   ],
   "source": [
    "arr2"
   ]
  },
  {
   "cell_type": "code",
   "execution_count": 49,
   "id": "5652b641-e510-46f0-a209-8c7538f329ca",
   "metadata": {
    "id": "5652b641-e510-46f0-a209-8c7538f329ca",
    "outputId": "6ab91d27-685b-4f96-9b80-3dda02037cc4"
   },
   "outputs": [
    {
     "data": {
      "text/plain": [
       "array([[10,  8,  8],\n",
       "       [ 7,  5,  5],\n",
       "       [10,  8,  8]])"
      ]
     },
     "execution_count": 49,
     "metadata": {},
     "output_type": "execute_result"
    }
   ],
   "source": [
    "arr1@arr2 #@ means matrix multiplication"
   ]
  },
  {
   "cell_type": "code",
   "execution_count": 50,
   "id": "2af9a212-a36f-4e2d-bfc4-72b964c95be8",
   "metadata": {
    "id": "2af9a212-a36f-4e2d-bfc4-72b964c95be8",
    "outputId": "f789ba91-d8fc-451d-e0b9-b7ea0e52ca95"
   },
   "outputs": [
    {
     "data": {
      "text/plain": [
       "array([[2. , 1. , 2. ],\n",
       "       [0.5, 2. , 1. ],\n",
       "       [1. , 2. , 1. ]])"
      ]
     },
     "execution_count": 50,
     "metadata": {},
     "output_type": "execute_result"
    }
   ],
   "source": [
    "arr1/arr2"
   ]
  },
  {
   "cell_type": "code",
   "execution_count": 51,
   "id": "dc4c98e7-a52b-43a1-b247-6228cd446cc2",
   "metadata": {
    "id": "dc4c98e7-a52b-43a1-b247-6228cd446cc2",
    "outputId": "a4b49791-f2f0-4611-8410-8dc0be5f1fa3"
   },
   "outputs": [
    {
     "name": "stderr",
     "output_type": "stream",
     "text": [
      "<ipython-input-51-2e1dc0d9289f>:1: RuntimeWarning: divide by zero encountered in true_divide\n",
      "  arr1/0\n"
     ]
    },
    {
     "data": {
      "text/plain": [
       "array([[inf, inf, inf],\n",
       "       [inf, inf, inf],\n",
       "       [inf, inf, inf]])"
      ]
     },
     "execution_count": 51,
     "metadata": {},
     "output_type": "execute_result"
    }
   ],
   "source": [
    "arr1/0"
   ]
  },
  {
   "cell_type": "code",
   "execution_count": 52,
   "id": "3afcfe0f-0820-4520-b646-af3633c27a36",
   "metadata": {
    "id": "3afcfe0f-0820-4520-b646-af3633c27a36"
   },
   "outputs": [],
   "source": [
    "#Numpy – Broadcasting."
   ]
  },
  {
   "cell_type": "code",
   "execution_count": 53,
   "id": "74e7a914-764f-4fbb-8bed-e8f1feabff8b",
   "metadata": {
    "id": "74e7a914-764f-4fbb-8bed-e8f1feabff8b"
   },
   "outputs": [],
   "source": [
    "arr = np.zeros((3,4))"
   ]
  },
  {
   "cell_type": "code",
   "execution_count": 54,
   "id": "e341bca5-c747-416f-92d5-f51a67099e12",
   "metadata": {
    "id": "e341bca5-c747-416f-92d5-f51a67099e12",
    "outputId": "07cd2efe-e2d8-4023-875e-36ae5a9e7541"
   },
   "outputs": [
    {
     "data": {
      "text/plain": [
       "array([[0., 0., 0., 0.],\n",
       "       [0., 0., 0., 0.],\n",
       "       [0., 0., 0., 0.]])"
      ]
     },
     "execution_count": 54,
     "metadata": {},
     "output_type": "execute_result"
    }
   ],
   "source": [
    "arr"
   ]
  },
  {
   "cell_type": "code",
   "execution_count": 55,
   "id": "8c525cb0-43d1-4d1b-9d8c-62bf989c2efb",
   "metadata": {
    "id": "8c525cb0-43d1-4d1b-9d8c-62bf989c2efb",
    "outputId": "fedff224-37a0-4ea1-d6c9-838b0ba2fb7e"
   },
   "outputs": [
    {
     "data": {
      "text/plain": [
       "array([[5., 5., 5., 5.],\n",
       "       [5., 5., 5., 5.],\n",
       "       [5., 5., 5., 5.]])"
      ]
     },
     "execution_count": 55,
     "metadata": {},
     "output_type": "execute_result"
    }
   ],
   "source": [
    "arr+5"
   ]
  },
  {
   "cell_type": "code",
   "execution_count": 56,
   "id": "bf9c53e5-c425-480d-8d44-53ed76689bb0",
   "metadata": {
    "id": "bf9c53e5-c425-480d-8d44-53ed76689bb0"
   },
   "outputs": [],
   "source": [
    "a = np.array([1,2,3,4])"
   ]
  },
  {
   "cell_type": "code",
   "execution_count": 57,
   "id": "16002d75-f04f-4367-b2e3-c11420443b20",
   "metadata": {
    "id": "16002d75-f04f-4367-b2e3-c11420443b20",
    "outputId": "c41d3b7f-09bb-4f0d-ae92-a30c66a2e890"
   },
   "outputs": [
    {
     "data": {
      "text/plain": [
       "array([[1., 2., 3., 4.],\n",
       "       [1., 2., 3., 4.],\n",
       "       [1., 2., 3., 4.]])"
      ]
     },
     "execution_count": 57,
     "metadata": {},
     "output_type": "execute_result"
    }
   ],
   "source": [
    "arr+a"
   ]
  },
  {
   "cell_type": "code",
   "execution_count": 58,
   "id": "ba30cb19-98b5-45fd-bfde-dd4db42fbda5",
   "metadata": {
    "id": "ba30cb19-98b5-45fd-bfde-dd4db42fbda5"
   },
   "outputs": [],
   "source": [
    "b = np.array([[3,4,5]])"
   ]
  },
  {
   "cell_type": "code",
   "execution_count": 61,
   "id": "15cd47b2-0078-4fca-bd4d-b0060d871ff4",
   "metadata": {
    "id": "15cd47b2-0078-4fca-bd4d-b0060d871ff4"
   },
   "outputs": [
    {
     "data": {
      "text/plain": [
       "array([[3., 3., 3., 3.],\n",
       "       [4., 4., 4., 4.],\n",
       "       [5., 5., 5., 5.]])"
      ]
     },
     "execution_count": 61,
     "metadata": {},
     "output_type": "execute_result"
    }
   ],
   "source": [
    "arr1 = arr+b.T\n",
    "arr1"
   ]
  },
  {
   "cell_type": "code",
   "execution_count": 62,
   "id": "509f0f29-5f78-49b5-a0f1-54d7bfeb105f",
   "metadata": {
    "id": "509f0f29-5f78-49b5-a0f1-54d7bfeb105f",
    "outputId": "b4d8a62a-c8e4-4228-c7aa-379f7d6106e1"
   },
   "outputs": [
    {
     "data": {
      "text/plain": [
       "array([[3],\n",
       "       [4],\n",
       "       [5]])"
      ]
     },
     "execution_count": 62,
     "metadata": {},
     "output_type": "execute_result"
    }
   ],
   "source": [
    "b.T"
   ]
  },
  {
   "cell_type": "code",
   "execution_count": 63,
   "id": "d68b4217-c3de-4fc2-8471-0668b96ac971",
   "metadata": {
    "id": "d68b4217-c3de-4fc2-8471-0668b96ac971",
    "outputId": "f6aeefb0-0791-46f2-a9b8-26ec108ab8ba"
   },
   "outputs": [
    {
     "data": {
      "text/plain": [
       "array([[3., 3., 3., 3.],\n",
       "       [4., 4., 4., 4.],\n",
       "       [5., 5., 5., 5.]])"
      ]
     },
     "execution_count": 63,
     "metadata": {},
     "output_type": "execute_result"
    }
   ],
   "source": [
    "arr1"
   ]
  },
  {
   "cell_type": "code",
   "execution_count": 64,
   "id": "f48b9ce1-9573-4b66-8d87-45511d7303b3",
   "metadata": {
    "id": "f48b9ce1-9573-4b66-8d87-45511d7303b3",
    "outputId": "713dd998-7b11-416a-f35a-00a4f94bd3b9"
   },
   "outputs": [
    {
     "data": {
      "text/plain": [
       "array([[1.73205081, 1.73205081, 1.73205081, 1.73205081],\n",
       "       [2.        , 2.        , 2.        , 2.        ],\n",
       "       [2.23606798, 2.23606798, 2.23606798, 2.23606798]])"
      ]
     },
     "execution_count": 64,
     "metadata": {},
     "output_type": "execute_result"
    }
   ],
   "source": [
    "np.sqrt(arr1)"
   ]
  },
  {
   "cell_type": "code",
   "execution_count": 65,
   "id": "6a6cb7f1-5616-4bcb-9c1c-4a7abff3ca2e",
   "metadata": {
    "id": "6a6cb7f1-5616-4bcb-9c1c-4a7abff3ca2e",
    "outputId": "855ff4f3-f8f5-4fcc-fafe-8f41f2e97d3b"
   },
   "outputs": [
    {
     "data": {
      "text/plain": [
       "array([[0.47712125, 0.47712125, 0.47712125, 0.47712125],\n",
       "       [0.60205999, 0.60205999, 0.60205999, 0.60205999],\n",
       "       [0.69897   , 0.69897   , 0.69897   , 0.69897   ]])"
      ]
     },
     "execution_count": 65,
     "metadata": {},
     "output_type": "execute_result"
    }
   ],
   "source": [
    "np.log10(arr1)"
   ]
  },
  {
   "cell_type": "code",
   "execution_count": 66,
   "id": "798094f3-a992-48cc-a5fd-c8c16e652657",
   "metadata": {
    "id": "798094f3-a992-48cc-a5fd-c8c16e652657",
    "outputId": "dba5eb0c-977e-4448-edab-5aa27b72fd2c"
   },
   "outputs": [
    {
     "data": {
      "text/plain": [
       "array([[ 20.08553692,  20.08553692,  20.08553692,  20.08553692],\n",
       "       [ 54.59815003,  54.59815003,  54.59815003,  54.59815003],\n",
       "       [148.4131591 , 148.4131591 , 148.4131591 , 148.4131591 ]])"
      ]
     },
     "execution_count": 66,
     "metadata": {},
     "output_type": "execute_result"
    }
   ],
   "source": [
    "np.exp(arr1)"
   ]
  },
  {
   "cell_type": "code",
   "execution_count": 67,
   "id": "bb7cfaf8-1459-4497-ab74-389c2afba0f4",
   "metadata": {
    "id": "bb7cfaf8-1459-4497-ab74-389c2afba0f4",
    "outputId": "1e3c1457-9725-4831-c9a2-f64edfad5fa7"
   },
   "outputs": [
    {
     "data": {
      "text/plain": [
       "3.0"
      ]
     },
     "execution_count": 67,
     "metadata": {},
     "output_type": "execute_result"
    }
   ],
   "source": [
    "np.min(arr1)"
   ]
  },
  {
   "cell_type": "code",
   "execution_count": 68,
   "id": "d50f84dc-9c64-404e-a40e-f345a5397b18",
   "metadata": {
    "id": "d50f84dc-9c64-404e-a40e-f345a5397b18",
    "outputId": "99238be9-da13-4ff7-bd01-483c48e8b4be"
   },
   "outputs": [
    {
     "data": {
      "text/plain": [
       "5.0"
      ]
     },
     "execution_count": 68,
     "metadata": {},
     "output_type": "execute_result"
    }
   ],
   "source": [
    "np.max(arr1)"
   ]
  }
 ],
 "metadata": {
  "colab": {
   "provenance": []
  },
  "kernelspec": {
   "display_name": "Python 3",
   "language": "python",
   "name": "python3"
  },
  "language_info": {
   "codemirror_mode": {
    "name": "ipython",
    "version": 3
   },
   "file_extension": ".py",
   "mimetype": "text/x-python",
   "name": "python",
   "nbconvert_exporter": "python",
   "pygments_lexer": "ipython3",
   "version": "3.8.8"
  }
 },
 "nbformat": 4,
 "nbformat_minor": 5
}
