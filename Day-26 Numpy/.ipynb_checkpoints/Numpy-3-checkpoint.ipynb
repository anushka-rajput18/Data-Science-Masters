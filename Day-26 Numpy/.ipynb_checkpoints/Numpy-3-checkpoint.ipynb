{
 "cells": [
  {
   "cell_type": "code",
   "execution_count": 1,
   "id": "70f59085-15eb-4fc3-97a3-09ad75aa6b92",
   "metadata": {
    "id": "70f59085-15eb-4fc3-97a3-09ad75aa6b92"
   },
   "outputs": [],
   "source": [
    "import numpy as np"
   ]
  },
  {
   "cell_type": "code",
   "execution_count": 2,
   "id": "94f3ea4a-6691-4d4f-b141-f82433cb992b",
   "metadata": {
    "id": "94f3ea4a-6691-4d4f-b141-f82433cb992b"
   },
   "outputs": [],
   "source": [
    "#Numpy - Array Manipulation."
   ]
  },
  {
   "cell_type": "code",
   "execution_count": 3,
   "id": "18c374d6-7014-4baf-832b-5890404e3897",
   "metadata": {
    "id": "18c374d6-7014-4baf-832b-5890404e3897"
   },
   "outputs": [],
   "source": [
    "arr = np.random.randint(1,10 , (4,4))"
   ]
  },
  {
   "cell_type": "code",
   "execution_count": 4,
   "id": "2bb18a8b-fa50-4064-b444-48661da4e6e2",
   "metadata": {
    "id": "2bb18a8b-fa50-4064-b444-48661da4e6e2",
    "outputId": "e1e27a16-4414-4fab-e041-0bc798e306df"
   },
   "outputs": [
    {
     "data": {
      "text/plain": [
       "array([[6, 3, 8, 4],\n",
       "       [8, 4, 8, 1],\n",
       "       [3, 3, 8, 8],\n",
       "       [1, 4, 3, 3]])"
      ]
     },
     "execution_count": 4,
     "metadata": {},
     "output_type": "execute_result"
    }
   ],
   "source": [
    "arr"
   ]
  },
  {
   "cell_type": "code",
   "execution_count": 5,
   "id": "7383b31a-00b7-416a-b657-da4b446b6eef",
   "metadata": {
    "id": "7383b31a-00b7-416a-b657-da4b446b6eef",
    "outputId": "05e70bfb-6094-4b23-9fd5-3f6bac3af256"
   },
   "outputs": [
    {
     "data": {
      "text/plain": [
       "array([[6, 3],\n",
       "       [8, 4],\n",
       "       [8, 4],\n",
       "       [8, 1],\n",
       "       [3, 3],\n",
       "       [8, 8],\n",
       "       [1, 4],\n",
       "       [3, 3]])"
      ]
     },
     "execution_count": 5,
     "metadata": {},
     "output_type": "execute_result"
    }
   ],
   "source": [
    "arr.reshape(8,2)"
   ]
  },
  {
   "cell_type": "code",
   "execution_count": 6,
   "id": "b6da154c-d8c3-4d87-b913-e7e7f5c19eac",
   "metadata": {
    "id": "b6da154c-d8c3-4d87-b913-e7e7f5c19eac",
    "outputId": "e77ef107-1bb2-45ac-a44c-f5f06a36ae6f"
   },
   "outputs": [
    {
     "data": {
      "text/plain": [
       "array([[6, 3, 8, 4],\n",
       "       [8, 4, 8, 1],\n",
       "       [3, 3, 8, 8],\n",
       "       [1, 4, 3, 3]])"
      ]
     },
     "execution_count": 6,
     "metadata": {},
     "output_type": "execute_result"
    }
   ],
   "source": [
    "arr"
   ]
  },
  {
   "cell_type": "code",
   "execution_count": 7,
   "id": "e2067f8a-390e-4881-8617-db9c570fafca",
   "metadata": {
    "id": "e2067f8a-390e-4881-8617-db9c570fafca",
    "outputId": "5d7fc3b1-166d-4023-c425-34389b9fbbe7"
   },
   "outputs": [
    {
     "data": {
      "text/plain": [
       "array([[6, 8, 3, 1],\n",
       "       [3, 4, 3, 4],\n",
       "       [8, 8, 8, 3],\n",
       "       [4, 1, 8, 3]])"
      ]
     },
     "execution_count": 7,
     "metadata": {},
     "output_type": "execute_result"
    }
   ],
   "source": [
    "arr.T"
   ]
  },
  {
   "cell_type": "code",
   "execution_count": null,
   "id": "d490d1c8-ff01-457c-bacf-22cfeda16c2e",
   "metadata": {
    "id": "d490d1c8-ff01-457c-bacf-22cfeda16c2e",
    "outputId": "5296e584-fc25-4279-e547-9564d0e0390f"
   },
   "outputs": [
    {
     "data": {
      "text/plain": [
       "array([5, 5, 2, 3, 2, 8, 5, 8, 4, 5, 9, 5, 8, 5, 1, 4])"
      ]
     },
     "execution_count": 8,
     "metadata": {},
     "output_type": "execute_result"
    }
   ],
   "source": [
    "arr.flatten()"
   ]
  },
  {
   "cell_type": "code",
   "execution_count": null,
   "id": "59700b0b-ab9b-4e35-81d4-9185d33cf66a",
   "metadata": {
    "id": "59700b0b-ab9b-4e35-81d4-9185d33cf66a",
    "outputId": "967ea0bd-af0c-456a-a0e0-2192fabda12f"
   },
   "outputs": [
    {
     "data": {
      "text/plain": [
       "array([[5, 5, 2, 3],\n",
       "       [2, 8, 5, 8],\n",
       "       [4, 5, 9, 5],\n",
       "       [8, 5, 1, 4]])"
      ]
     },
     "execution_count": 9,
     "metadata": {},
     "output_type": "execute_result"
    }
   ],
   "source": [
    "arr"
   ]
  },
  {
   "cell_type": "code",
   "execution_count": null,
   "id": "b72995bf-6b99-4f99-842b-d93b0a1f3565",
   "metadata": {
    "id": "b72995bf-6b99-4f99-842b-d93b0a1f3565",
    "outputId": "5ff3dd43-89be-4cf0-d83e-6acf75d19983"
   },
   "outputs": [
    {
     "data": {
      "text/plain": [
       "array([[[5, 5, 2, 3]],\n",
       "\n",
       "       [[2, 8, 5, 8]],\n",
       "\n",
       "       [[4, 5, 9, 5]],\n",
       "\n",
       "       [[8, 5, 1, 4]]])"
      ]
     },
     "execution_count": 11,
     "metadata": {},
     "output_type": "execute_result"
    }
   ],
   "source": [
    "np.expand_dims(arr,axis=1)"
   ]
  },
  {
   "cell_type": "code",
   "execution_count": null,
   "id": "55974e7a-dab7-4422-b72a-9b749dd83dbd",
   "metadata": {
    "id": "55974e7a-dab7-4422-b72a-9b749dd83dbd",
    "outputId": "3968ad71-205f-4554-dd44-3059460d2cc0"
   },
   "outputs": [
    {
     "data": {
      "text/plain": [
       "array([[[5, 5, 2, 3],\n",
       "        [2, 8, 5, 8],\n",
       "        [4, 5, 9, 5],\n",
       "        [8, 5, 1, 4]]])"
      ]
     },
     "execution_count": 12,
     "metadata": {},
     "output_type": "execute_result"
    }
   ],
   "source": [
    "np.expand_dims(arr,axis=0)"
   ]
  },
  {
   "cell_type": "code",
   "execution_count": null,
   "id": "b34a5681-4013-4a06-a398-85d588faacaf",
   "metadata": {
    "id": "b34a5681-4013-4a06-a398-85d588faacaf"
   },
   "outputs": [],
   "source": [
    "data = np.array([[1] , [2] , [3]])"
   ]
  },
  {
   "cell_type": "code",
   "execution_count": null,
   "id": "121d008b-bd18-422c-b7f4-881d42e4cb42",
   "metadata": {
    "id": "121d008b-bd18-422c-b7f4-881d42e4cb42",
    "outputId": "28783973-bf60-4010-a122-72d6f886e414"
   },
   "outputs": [
    {
     "data": {
      "text/plain": [
       "array([1, 2, 3])"
      ]
     },
     "execution_count": 14,
     "metadata": {},
     "output_type": "execute_result"
    }
   ],
   "source": [
    "np.squeeze(data)"
   ]
  },
  {
   "cell_type": "code",
   "execution_count": null,
   "id": "70d8fe92-e22c-4f83-a124-70362eb1451f",
   "metadata": {
    "id": "70d8fe92-e22c-4f83-a124-70362eb1451f",
    "outputId": "23c6dffd-70db-4f4b-87b3-a05aa77040de"
   },
   "outputs": [
    {
     "data": {
      "text/plain": [
       "array([1, 1, 1, 1, 2, 2, 2, 2, 3, 3, 3, 3])"
      ]
     },
     "execution_count": 16,
     "metadata": {},
     "output_type": "execute_result"
    }
   ],
   "source": [
    "np.repeat(data,4)"
   ]
  },
  {
   "cell_type": "code",
   "execution_count": null,
   "id": "531a9065-1281-4f8a-ada4-d4741644e33e",
   "metadata": {
    "id": "531a9065-1281-4f8a-ada4-d4741644e33e",
    "outputId": "3e58642e-e8e6-4174-a99d-7007cb77f2c1"
   },
   "outputs": [
    {
     "data": {
      "text/plain": [
       "array([[2],\n",
       "       [3],\n",
       "       [1]])"
      ]
     },
     "execution_count": 18,
     "metadata": {},
     "output_type": "execute_result"
    }
   ],
   "source": [
    "np.roll(data,2)"
   ]
  },
  {
   "cell_type": "code",
   "execution_count": null,
   "id": "ebc3ee04-8e88-4787-879c-ae2569c9cb14",
   "metadata": {
    "id": "ebc3ee04-8e88-4787-879c-ae2569c9cb14",
    "outputId": "ca46960b-4eed-49ee-8e6f-c8873ee3c41a"
   },
   "outputs": [
    {
     "data": {
      "text/plain": [
       "array([[1, 0, 0, 0],\n",
       "       [0, 2, 0, 0],\n",
       "       [0, 0, 3, 0],\n",
       "       [0, 0, 0, 4]])"
      ]
     },
     "execution_count": 20,
     "metadata": {},
     "output_type": "execute_result"
    }
   ],
   "source": [
    "np.diag(np.array([1,2,3,4]))"
   ]
  },
  {
   "cell_type": "code",
   "execution_count": null,
   "id": "7faab151-070f-416c-87c9-215dfef0483f",
   "metadata": {
    "id": "7faab151-070f-416c-87c9-215dfef0483f"
   },
   "outputs": [],
   "source": [
    "#Numpy - Binary Operators."
   ]
  },
  {
   "cell_type": "code",
   "execution_count": null,
   "id": "9a26ad23-9872-457d-8765-e07389b3b36c",
   "metadata": {
    "id": "9a26ad23-9872-457d-8765-e07389b3b36c"
   },
   "outputs": [],
   "source": [
    "arr1 = np.random.randint(1,10 , (3,4))\n",
    "arr2 = np.random.randint(1,10 , (3,4))"
   ]
  },
  {
   "cell_type": "code",
   "execution_count": null,
   "id": "26951d0b-7aec-4713-a3cc-4d8a12f41931",
   "metadata": {
    "id": "26951d0b-7aec-4713-a3cc-4d8a12f41931",
    "outputId": "ee3e142e-6d78-4cc9-dda7-43478afb87ad"
   },
   "outputs": [
    {
     "data": {
      "text/plain": [
       "array([[1, 6, 7, 9],\n",
       "       [3, 4, 4, 2],\n",
       "       [7, 9, 6, 9]])"
      ]
     },
     "execution_count": 24,
     "metadata": {},
     "output_type": "execute_result"
    }
   ],
   "source": [
    "arr1"
   ]
  },
  {
   "cell_type": "code",
   "execution_count": null,
   "id": "f634503e-5f85-4405-ae63-8fe00d580bd2",
   "metadata": {
    "id": "f634503e-5f85-4405-ae63-8fe00d580bd2",
    "outputId": "fd128d6f-6f32-4993-919d-6414f6ec163b"
   },
   "outputs": [
    {
     "data": {
      "text/plain": [
       "array([[5, 8, 9, 1],\n",
       "       [2, 8, 8, 4],\n",
       "       [6, 8, 5, 2]])"
      ]
     },
     "execution_count": 25,
     "metadata": {},
     "output_type": "execute_result"
    }
   ],
   "source": [
    "arr2"
   ]
  },
  {
   "cell_type": "code",
   "execution_count": null,
   "id": "5c017cd3-4058-4989-bf4d-1b98726f9d00",
   "metadata": {
    "id": "5c017cd3-4058-4989-bf4d-1b98726f9d00",
    "outputId": "96c53549-9918-4aa7-a2ea-ff7d09f1acff"
   },
   "outputs": [
    {
     "data": {
      "text/plain": [
       "array([[ 6, 14, 16, 10],\n",
       "       [ 5, 12, 12,  6],\n",
       "       [13, 17, 11, 11]])"
      ]
     },
     "execution_count": 26,
     "metadata": {},
     "output_type": "execute_result"
    }
   ],
   "source": [
    "arr1+arr2"
   ]
  },
  {
   "cell_type": "code",
   "execution_count": null,
   "id": "95b051a0-6b03-49aa-b7f6-319aed9a4a8f",
   "metadata": {
    "id": "95b051a0-6b03-49aa-b7f6-319aed9a4a8f",
    "outputId": "b99bd6a7-19c7-47c1-c653-50182ac31180"
   },
   "outputs": [
    {
     "data": {
      "text/plain": [
       "array([[ 5, 48, 63,  9],\n",
       "       [ 6, 32, 32,  8],\n",
       "       [42, 72, 30, 18]])"
      ]
     },
     "execution_count": 27,
     "metadata": {},
     "output_type": "execute_result"
    }
   ],
   "source": [
    "arr1*arr2"
   ]
  },
  {
   "cell_type": "code",
   "execution_count": null,
   "id": "558e6566-a96e-4401-9f09-b57e8f2d7d47",
   "metadata": {
    "id": "558e6566-a96e-4401-9f09-b57e8f2d7d47",
    "outputId": "5b74cafa-1fdd-47d4-c9cd-d7e26b6f87a0"
   },
   "outputs": [
    {
     "data": {
      "text/plain": [
       "array([[0.2       , 0.75      , 0.77777778, 9.        ],\n",
       "       [1.5       , 0.5       , 0.5       , 0.5       ],\n",
       "       [1.16666667, 1.125     , 1.2       , 4.5       ]])"
      ]
     },
     "execution_count": 28,
     "metadata": {},
     "output_type": "execute_result"
    }
   ],
   "source": [
    "arr1/arr2"
   ]
  },
  {
   "cell_type": "code",
   "execution_count": null,
   "id": "4127be23-7a17-4d7f-a5a3-5088b8c76efe",
   "metadata": {
    "id": "4127be23-7a17-4d7f-a5a3-5088b8c76efe",
    "outputId": "36f0c14e-6639-4fb2-cc08-899e0fd61571"
   },
   "outputs": [
    {
     "data": {
      "text/plain": [
       "array([[-4, -2, -2,  8],\n",
       "       [ 1, -4, -4, -2],\n",
       "       [ 1,  1,  1,  7]])"
      ]
     },
     "execution_count": 29,
     "metadata": {},
     "output_type": "execute_result"
    }
   ],
   "source": [
    "arr1-arr2"
   ]
  },
  {
   "cell_type": "code",
   "execution_count": null,
   "id": "caf3f5c8-9be9-4752-a6ea-f984f7039c60",
   "metadata": {
    "id": "caf3f5c8-9be9-4752-a6ea-f984f7039c60",
    "outputId": "81ec8f5c-63de-439b-b0d7-1c1a540e22aa"
   },
   "outputs": [
    {
     "data": {
      "text/plain": [
       "array([[       1,  1679616, 40353607,        9],\n",
       "       [       9,    65536,    65536,       16],\n",
       "       [  117649, 43046721,     7776,       81]])"
      ]
     },
     "execution_count": 30,
     "metadata": {},
     "output_type": "execute_result"
    }
   ],
   "source": [
    "arr1**arr2"
   ]
  },
  {
   "cell_type": "code",
   "execution_count": null,
   "id": "3984513b-84b3-49b1-a44c-8cbe50943945",
   "metadata": {
    "id": "3984513b-84b3-49b1-a44c-8cbe50943945",
    "outputId": "f986bda6-d383-435b-c4c3-9f71a0770ae4"
   },
   "outputs": [
    {
     "data": {
      "text/plain": [
       "array([[ -2,  -7,  -8, -10],\n",
       "       [ -4,  -5,  -5,  -3],\n",
       "       [ -8, -10,  -7, -10]])"
      ]
     },
     "execution_count": 31,
     "metadata": {},
     "output_type": "execute_result"
    }
   ],
   "source": [
    "~arr1"
   ]
  },
  {
   "cell_type": "code",
   "execution_count": null,
   "id": "95c14e51-0714-45e5-865c-c6b33d9dd460",
   "metadata": {
    "id": "95c14e51-0714-45e5-865c-c6b33d9dd460",
    "outputId": "cf77fa69-2df5-4069-b94f-01e4ca2985b5"
   },
   "outputs": [
    {
     "data": {
      "text/plain": [
       "array([[1, 6, 7, 9],\n",
       "       [3, 4, 4, 2],\n",
       "       [7, 9, 6, 9]])"
      ]
     },
     "execution_count": 32,
     "metadata": {},
     "output_type": "execute_result"
    }
   ],
   "source": [
    "arr1"
   ]
  },
  {
   "cell_type": "code",
   "execution_count": null,
   "id": "11e6826c-95d9-4cfd-b2a7-1d41a94cf4e0",
   "metadata": {
    "id": "11e6826c-95d9-4cfd-b2a7-1d41a94cf4e0",
    "outputId": "20f79530-8ade-4754-e8b6-dd5a86f4ad06"
   },
   "outputs": [
    {
     "data": {
      "text/plain": [
       "array([[False, False, False,  True],\n",
       "       [ True, False, False, False],\n",
       "       [ True,  True,  True,  True]])"
      ]
     },
     "execution_count": 33,
     "metadata": {},
     "output_type": "execute_result"
    }
   ],
   "source": [
    "arr1>arr2"
   ]
  },
  {
   "cell_type": "code",
   "execution_count": null,
   "id": "86763bce-c374-4e3b-b028-fe33c4c2d917",
   "metadata": {
    "id": "86763bce-c374-4e3b-b028-fe33c4c2d917"
   },
   "outputs": [],
   "source": [
    "#Numpy - String Functions."
   ]
  },
  {
   "cell_type": "code",
   "execution_count": null,
   "id": "4e9d8358-b5b3-4083-bbb5-8b2d8b8afa50",
   "metadata": {
    "id": "4e9d8358-b5b3-4083-bbb5-8b2d8b8afa50"
   },
   "outputs": [],
   "source": [
    "arr = np.array([\"sudh\" , \"kumar\"])"
   ]
  },
  {
   "cell_type": "code",
   "execution_count": null,
   "id": "3593e240-7c06-4182-8087-e563c94994fe",
   "metadata": {
    "id": "3593e240-7c06-4182-8087-e563c94994fe",
    "outputId": "807099b7-4a42-4a3b-afb0-a5f271c7b6c4"
   },
   "outputs": [
    {
     "data": {
      "text/plain": [
       "array(['sudh', 'kumar'], dtype='<U5')"
      ]
     },
     "execution_count": 36,
     "metadata": {},
     "output_type": "execute_result"
    }
   ],
   "source": [
    "arr"
   ]
  },
  {
   "cell_type": "code",
   "execution_count": null,
   "id": "d6d03f2f-4904-450b-804f-b56fee4e23c7",
   "metadata": {
    "id": "d6d03f2f-4904-450b-804f-b56fee4e23c7",
    "outputId": "97493566-48e1-4a09-a799-bc6794d960bc"
   },
   "outputs": [
    {
     "data": {
      "text/plain": [
       "array(['SUDH', 'KUMAR'], dtype='<U5')"
      ]
     },
     "execution_count": 37,
     "metadata": {},
     "output_type": "execute_result"
    }
   ],
   "source": [
    "np.char.upper(arr)"
   ]
  },
  {
   "cell_type": "code",
   "execution_count": null,
   "id": "fdda8b87-78c9-4c52-88a2-3c14fdfabe16",
   "metadata": {
    "id": "fdda8b87-78c9-4c52-88a2-3c14fdfabe16",
    "outputId": "a9c83811-84ed-43d3-d679-9b909665ee8f"
   },
   "outputs": [
    {
     "data": {
      "text/plain": [
       "array(['Sudh', 'Kumar'], dtype='<U5')"
      ]
     },
     "execution_count": 38,
     "metadata": {},
     "output_type": "execute_result"
    }
   ],
   "source": [
    "np.char.capitalize(arr)"
   ]
  },
  {
   "cell_type": "code",
   "execution_count": null,
   "id": "ab86f1ae-ad97-41e6-b018-074c05729651",
   "metadata": {
    "id": "ab86f1ae-ad97-41e6-b018-074c05729651",
    "outputId": "d7ca75da-46ab-44e1-e912-340cbb3deb5c"
   },
   "outputs": [
    {
     "data": {
      "text/plain": [
       "array(['Sudh', 'Kumar'], dtype='<U5')"
      ]
     },
     "execution_count": 39,
     "metadata": {},
     "output_type": "execute_result"
    }
   ],
   "source": [
    "np.char.title(arr)"
   ]
  },
  {
   "cell_type": "code",
   "execution_count": null,
   "id": "0ea3632e-770e-47aa-bc6f-c8fa866ef333",
   "metadata": {
    "id": "0ea3632e-770e-47aa-bc6f-c8fa866ef333"
   },
   "outputs": [],
   "source": [
    "#Numpy - Mathematical Functions."
   ]
  },
  {
   "cell_type": "code",
   "execution_count": null,
   "id": "5f6a7d0b-317e-4a49-bb96-a26862b56952",
   "metadata": {
    "id": "5f6a7d0b-317e-4a49-bb96-a26862b56952",
    "outputId": "a27326d7-143c-4414-dc20-db475f2296c5"
   },
   "outputs": [
    {
     "data": {
      "text/plain": [
       "array([[1, 6, 7, 9],\n",
       "       [3, 4, 4, 2],\n",
       "       [7, 9, 6, 9]])"
      ]
     },
     "execution_count": 41,
     "metadata": {},
     "output_type": "execute_result"
    }
   ],
   "source": [
    "arr1"
   ]
  },
  {
   "cell_type": "code",
   "execution_count": null,
   "id": "26284ba4-da67-4fc0-b7af-1e01419cd9ac",
   "metadata": {
    "id": "26284ba4-da67-4fc0-b7af-1e01419cd9ac",
    "outputId": "1e85fd08-0e20-44ed-8719-fa866615d1d9"
   },
   "outputs": [
    {
     "data": {
      "text/plain": [
       "array([[ 0.84147098, -0.2794155 ,  0.6569866 ,  0.41211849],\n",
       "       [ 0.14112001, -0.7568025 , -0.7568025 ,  0.90929743],\n",
       "       [ 0.6569866 ,  0.41211849, -0.2794155 ,  0.41211849]])"
      ]
     },
     "execution_count": 42,
     "metadata": {},
     "output_type": "execute_result"
    }
   ],
   "source": [
    "np.sin(arr1)"
   ]
  },
  {
   "cell_type": "code",
   "execution_count": null,
   "id": "48d91f83-70b2-489d-a99e-247e01efdc4a",
   "metadata": {
    "id": "48d91f83-70b2-489d-a99e-247e01efdc4a",
    "outputId": "e8e9077b-7489-4d5f-ab25-305fe3473387"
   },
   "outputs": [
    {
     "data": {
      "text/plain": [
       "array([[ 0.54030231,  0.96017029,  0.75390225, -0.91113026],\n",
       "       [-0.9899925 , -0.65364362, -0.65364362, -0.41614684],\n",
       "       [ 0.75390225, -0.91113026,  0.96017029, -0.91113026]])"
      ]
     },
     "execution_count": 43,
     "metadata": {},
     "output_type": "execute_result"
    }
   ],
   "source": [
    "np.cos(arr1)"
   ]
  },
  {
   "cell_type": "code",
   "execution_count": null,
   "id": "189fdb82-a3cc-42bf-9920-65e4d5f79a22",
   "metadata": {
    "id": "189fdb82-a3cc-42bf-9920-65e4d5f79a22",
    "outputId": "68df2990-e9ac-44b1-a10c-02989ca2efec"
   },
   "outputs": [
    {
     "data": {
      "text/plain": [
       "array([[ 1.55740772, -0.29100619,  0.87144798, -0.45231566],\n",
       "       [-0.14254654,  1.15782128,  1.15782128, -2.18503986],\n",
       "       [ 0.87144798, -0.45231566, -0.29100619, -0.45231566]])"
      ]
     },
     "execution_count": 44,
     "metadata": {},
     "output_type": "execute_result"
    }
   ],
   "source": [
    "np.tan(arr1)"
   ]
  },
  {
   "cell_type": "code",
   "execution_count": null,
   "id": "bc6ef3d8-38c9-41e8-bf7a-5504a501aad5",
   "metadata": {
    "id": "bc6ef3d8-38c9-41e8-bf7a-5504a501aad5",
    "outputId": "e0500e29-c109-44f2-b15a-7d3467ea0785"
   },
   "outputs": [
    {
     "data": {
      "text/plain": [
       "array([[0.        , 0.77815125, 0.84509804, 0.95424251],\n",
       "       [0.47712125, 0.60205999, 0.60205999, 0.30103   ],\n",
       "       [0.84509804, 0.95424251, 0.77815125, 0.95424251]])"
      ]
     },
     "execution_count": 45,
     "metadata": {},
     "output_type": "execute_result"
    }
   ],
   "source": [
    "np.log10(arr1)"
   ]
  },
  {
   "cell_type": "code",
   "execution_count": null,
   "id": "e4a11d55-550a-44a5-9462-3161074d51cc",
   "metadata": {
    "id": "e4a11d55-550a-44a5-9462-3161074d51cc",
    "outputId": "f891b6d2-744b-4e8e-cc6c-69e39e4ea67d"
   },
   "outputs": [
    {
     "data": {
      "text/plain": [
       "array([[2.71828183e+00, 4.03428793e+02, 1.09663316e+03, 8.10308393e+03],\n",
       "       [2.00855369e+01, 5.45981500e+01, 5.45981500e+01, 7.38905610e+00],\n",
       "       [1.09663316e+03, 8.10308393e+03, 4.03428793e+02, 8.10308393e+03]])"
      ]
     },
     "execution_count": 46,
     "metadata": {},
     "output_type": "execute_result"
    }
   ],
   "source": [
    "np.exp(arr1)"
   ]
  },
  {
   "cell_type": "code",
   "execution_count": null,
   "id": "1013d24a-f318-4252-a945-96a34263afca",
   "metadata": {
    "id": "1013d24a-f318-4252-a945-96a34263afca",
    "outputId": "3369af6f-2d5c-464d-a07c-0c9f0f182d25"
   },
   "outputs": [
    {
     "data": {
      "text/plain": [
       "array([[ 1, 36, 49, 81],\n",
       "       [ 9, 16, 16,  4],\n",
       "       [49, 81, 36, 81]])"
      ]
     },
     "execution_count": 47,
     "metadata": {},
     "output_type": "execute_result"
    }
   ],
   "source": [
    "np.power(arr1,2)"
   ]
  },
  {
   "cell_type": "code",
   "execution_count": null,
   "id": "b6a5b346-22fe-4463-b427-dba2cd7f5501",
   "metadata": {
    "id": "b6a5b346-22fe-4463-b427-dba2cd7f5501",
    "outputId": "4d927f91-8a6b-4ba3-ad7c-7d1ffc16b616"
   },
   "outputs": [
    {
     "data": {
      "text/plain": [
       "5.583333333333333"
      ]
     },
     "execution_count": 48,
     "metadata": {},
     "output_type": "execute_result"
    }
   ],
   "source": [
    "np.mean(arr1\n",
    "       )"
   ]
  },
  {
   "cell_type": "code",
   "execution_count": null,
   "id": "9617d19c-0c15-47ed-8597-3cebed5f8eed",
   "metadata": {
    "id": "9617d19c-0c15-47ed-8597-3cebed5f8eed",
    "outputId": "5aecb784-72f4-45f6-8770-6980fbf184b6"
   },
   "outputs": [
    {
     "data": {
      "text/plain": [
       "6.0"
      ]
     },
     "execution_count": 49,
     "metadata": {},
     "output_type": "execute_result"
    }
   ],
   "source": [
    "np.median(arr1)"
   ]
  },
  {
   "cell_type": "code",
   "execution_count": null,
   "id": "47b963c9-89ff-4ac3-8fc2-f2761c8dd747",
   "metadata": {
    "id": "47b963c9-89ff-4ac3-8fc2-f2761c8dd747",
    "outputId": "afe465bd-72af-4a70-8e85-29f1064cd441"
   },
   "outputs": [
    {
     "data": {
      "text/plain": [
       "2.6601482832520613"
      ]
     },
     "execution_count": 51,
     "metadata": {},
     "output_type": "execute_result"
    }
   ],
   "source": [
    "np.std(arr1)"
   ]
  },
  {
   "cell_type": "code",
   "execution_count": null,
   "id": "68b4695e-d8ae-450e-9a44-fc97d1865438",
   "metadata": {
    "id": "68b4695e-d8ae-450e-9a44-fc97d1865438",
    "outputId": "04982934-9321-4814-a652-c22bb03ba11d"
   },
   "outputs": [
    {
     "data": {
      "text/plain": [
       "7.076388888888889"
      ]
     },
     "execution_count": 52,
     "metadata": {},
     "output_type": "execute_result"
    }
   ],
   "source": [
    "np.var(arr1)"
   ]
  },
  {
   "cell_type": "code",
   "execution_count": null,
   "id": "54370914-e24b-437a-93d9-3868db47d942",
   "metadata": {
    "id": "54370914-e24b-437a-93d9-3868db47d942",
    "outputId": "52c30a55-975c-4ee8-c85b-4eac9ef35a8f"
   },
   "outputs": [
    {
     "data": {
      "text/plain": [
       "1"
      ]
     },
     "execution_count": 53,
     "metadata": {},
     "output_type": "execute_result"
    }
   ],
   "source": [
    "np.min(arr1)"
   ]
  },
  {
   "cell_type": "code",
   "execution_count": null,
   "id": "e63d0dad-bca3-4b62-a16a-78fe46aac859",
   "metadata": {
    "id": "e63d0dad-bca3-4b62-a16a-78fe46aac859",
    "outputId": "5e17ad26-9596-460d-fa29-694a1b610f08"
   },
   "outputs": [
    {
     "data": {
      "text/plain": [
       "9"
      ]
     },
     "execution_count": 54,
     "metadata": {},
     "output_type": "execute_result"
    }
   ],
   "source": [
    "np.max(arr1)"
   ]
  },
  {
   "cell_type": "code",
   "execution_count": null,
   "id": "16807d5c-ddde-424d-9781-37804dc7fee2",
   "metadata": {
    "id": "16807d5c-ddde-424d-9781-37804dc7fee2"
   },
   "outputs": [],
   "source": [
    "#Numpy - Arithmetic Operations."
   ]
  },
  {
   "cell_type": "code",
   "execution_count": null,
   "id": "6e3eaa31-fa42-4862-8366-2db7d457062b",
   "metadata": {
    "id": "6e3eaa31-fa42-4862-8366-2db7d457062b",
    "outputId": "00a76851-da3c-4d47-a75e-55011e5b9ed3"
   },
   "outputs": [
    {
     "data": {
      "text/plain": [
       "array([[1, 6, 7, 9],\n",
       "       [3, 4, 4, 2],\n",
       "       [7, 9, 6, 9]])"
      ]
     },
     "execution_count": 56,
     "metadata": {},
     "output_type": "execute_result"
    }
   ],
   "source": [
    "arr1"
   ]
  },
  {
   "cell_type": "code",
   "execution_count": null,
   "id": "7fc8e766-7952-42ff-a1ad-7e55561ddc24",
   "metadata": {
    "id": "7fc8e766-7952-42ff-a1ad-7e55561ddc24",
    "outputId": "289d3205-01ff-4a23-e6ca-7a04a31533f9"
   },
   "outputs": [
    {
     "data": {
      "text/plain": [
       "array([[5, 8, 9, 1],\n",
       "       [2, 8, 8, 4],\n",
       "       [6, 8, 5, 2]])"
      ]
     },
     "execution_count": 57,
     "metadata": {},
     "output_type": "execute_result"
    }
   ],
   "source": [
    "arr2"
   ]
  },
  {
   "cell_type": "code",
   "execution_count": null,
   "id": "924f83db-e526-414c-b347-a1e113bbd127",
   "metadata": {
    "id": "924f83db-e526-414c-b347-a1e113bbd127",
    "outputId": "c30bdf6b-8d39-4951-ac4a-eb2dfe22abd8"
   },
   "outputs": [
    {
     "data": {
      "text/plain": [
       "array([[-4, -2, -2,  8],\n",
       "       [ 1, -4, -4, -2],\n",
       "       [ 1,  1,  1,  7]])"
      ]
     },
     "execution_count": 58,
     "metadata": {},
     "output_type": "execute_result"
    }
   ],
   "source": [
    "arr1-arr2"
   ]
  },
  {
   "cell_type": "code",
   "execution_count": null,
   "id": "bbd75fb7-d89c-466a-bf1e-b98c1316c647",
   "metadata": {
    "id": "bbd75fb7-d89c-466a-bf1e-b98c1316c647",
    "outputId": "847d2ea4-da4b-4c81-e192-380ddb1d68a7"
   },
   "outputs": [
    {
     "data": {
      "text/plain": [
       "array([[-4, -2, -2,  8],\n",
       "       [ 1, -4, -4, -2],\n",
       "       [ 1,  1,  1,  7]])"
      ]
     },
     "execution_count": 59,
     "metadata": {},
     "output_type": "execute_result"
    }
   ],
   "source": [
    "np.subtract(arr1,arr2)"
   ]
  },
  {
   "cell_type": "code",
   "execution_count": null,
   "id": "74056e98-1005-44c2-a7a9-8d1597c594aa",
   "metadata": {
    "id": "74056e98-1005-44c2-a7a9-8d1597c594aa",
    "outputId": "de3e4c70-c2f1-4155-a5ae-16375ac38f78"
   },
   "outputs": [
    {
     "data": {
      "text/plain": [
       "array([[ 5, 48, 63,  9],\n",
       "       [ 6, 32, 32,  8],\n",
       "       [42, 72, 30, 18]])"
      ]
     },
     "execution_count": 60,
     "metadata": {},
     "output_type": "execute_result"
    }
   ],
   "source": [
    "np.multiply(arr1,arr2)"
   ]
  },
  {
   "cell_type": "code",
   "execution_count": null,
   "id": "7d319616-7dbc-49ee-a9eb-1ac1bb5bcf32",
   "metadata": {
    "id": "7d319616-7dbc-49ee-a9eb-1ac1bb5bcf32",
    "outputId": "1af09b99-d8cd-4363-8ad5-45120a5dc672"
   },
   "outputs": [
    {
     "data": {
      "text/plain": [
       "array([[1, 6, 7, 0],\n",
       "       [1, 4, 4, 2],\n",
       "       [1, 1, 1, 1]])"
      ]
     },
     "execution_count": 61,
     "metadata": {},
     "output_type": "execute_result"
    }
   ],
   "source": [
    "np.mod(arr1,arr2)"
   ]
  },
  {
   "cell_type": "code",
   "execution_count": null,
   "id": "ecea2d4f-6660-4b0d-b1b8-f1a7fadce393",
   "metadata": {
    "id": "ecea2d4f-6660-4b0d-b1b8-f1a7fadce393",
    "outputId": "dfe21369-4163-431c-88ad-fcfc8d746218"
   },
   "outputs": [
    {
     "data": {
      "text/plain": [
       "array([[       1,  1679616, 40353607,        9],\n",
       "       [       9,    65536,    65536,       16],\n",
       "       [  117649, 43046721,     7776,       81]])"
      ]
     },
     "execution_count": 62,
     "metadata": {},
     "output_type": "execute_result"
    }
   ],
   "source": [
    "np.power(arr1,arr2)"
   ]
  },
  {
   "cell_type": "code",
   "execution_count": null,
   "id": "4941ee37-a5cb-48b2-8e16-9ec01c0d24b8",
   "metadata": {
    "id": "4941ee37-a5cb-48b2-8e16-9ec01c0d24b8",
    "outputId": "75b6f010-affd-438d-f634-ad68ed6b247a"
   },
   "outputs": [
    {
     "data": {
      "text/plain": [
       "array([[1.        , 2.44948974, 2.64575131, 3.        ],\n",
       "       [1.73205081, 2.        , 2.        , 1.41421356],\n",
       "       [2.64575131, 3.        , 2.44948974, 3.        ]])"
      ]
     },
     "execution_count": 63,
     "metadata": {},
     "output_type": "execute_result"
    }
   ],
   "source": [
    "np.sqrt(arr1)"
   ]
  },
  {
   "cell_type": "code",
   "execution_count": null,
   "id": "876de89e-1084-442f-85c3-b5e5199c8913",
   "metadata": {
    "id": "876de89e-1084-442f-85c3-b5e5199c8913"
   },
   "outputs": [],
   "source": [
    "#Numpy - Statistical Functions."
   ]
  },
  {
   "cell_type": "code",
   "execution_count": null,
   "id": "cf9916d8-440c-46e4-a38c-a3e614fb648c",
   "metadata": {
    "id": "cf9916d8-440c-46e4-a38c-a3e614fb648c",
    "outputId": "e54e2856-4269-4a88-c5da-ac415f46ca8d"
   },
   "outputs": [
    {
     "data": {
      "text/plain": [
       "array([[1, 6, 7, 9],\n",
       "       [3, 4, 4, 2],\n",
       "       [7, 9, 6, 9]])"
      ]
     },
     "execution_count": 66,
     "metadata": {},
     "output_type": "execute_result"
    }
   ],
   "source": [
    "arr1"
   ]
  },
  {
   "cell_type": "code",
   "execution_count": null,
   "id": "b011fa23-16e0-47e6-a75f-92ce7f5c6fce",
   "metadata": {
    "id": "b011fa23-16e0-47e6-a75f-92ce7f5c6fce",
    "outputId": "0269799f-4487-4f1b-bf0e-918e5e2e924b"
   },
   "outputs": [
    {
     "data": {
      "text/plain": [
       "5.583333333333333"
      ]
     },
     "execution_count": 67,
     "metadata": {},
     "output_type": "execute_result"
    }
   ],
   "source": [
    "np.mean(arr1)"
   ]
  },
  {
   "cell_type": "code",
   "execution_count": null,
   "id": "ee5aa283-3a6a-4e38-9cb9-aa881e61469a",
   "metadata": {
    "id": "ee5aa283-3a6a-4e38-9cb9-aa881e61469a",
    "outputId": "fac64ddd-1fe9-4f38-de33-6f2c133562f1"
   },
   "outputs": [
    {
     "data": {
      "text/plain": [
       "2.6601482832520613"
      ]
     },
     "execution_count": 68,
     "metadata": {},
     "output_type": "execute_result"
    }
   ],
   "source": [
    "np.std(arr1)"
   ]
  },
  {
   "cell_type": "code",
   "execution_count": null,
   "id": "425d6db7-29d5-46e3-aa0c-12d052b961b8",
   "metadata": {
    "id": "425d6db7-29d5-46e3-aa0c-12d052b961b8",
    "outputId": "b758ad67-51d1-4a65-d3da-f31bca0b851d"
   },
   "outputs": [
    {
     "data": {
      "text/plain": [
       "6.0"
      ]
     },
     "execution_count": 69,
     "metadata": {},
     "output_type": "execute_result"
    }
   ],
   "source": [
    "np.median(arr1)"
   ]
  },
  {
   "cell_type": "code",
   "execution_count": null,
   "id": "51512996-398f-4258-b6db-defaffeadb92",
   "metadata": {
    "id": "51512996-398f-4258-b6db-defaffeadb92"
   },
   "outputs": [],
   "source": []
  }
 ],
 "metadata": {
  "colab": {
   "provenance": []
  },
  "kernelspec": {
   "display_name": "Python 3",
   "language": "python",
   "name": "python3"
  },
  "language_info": {
   "codemirror_mode": {
    "name": "ipython",
    "version": 3
   },
   "file_extension": ".py",
   "mimetype": "text/x-python",
   "name": "python",
   "nbconvert_exporter": "python",
   "pygments_lexer": "ipython3",
   "version": "3.8.8"
  }
 },
 "nbformat": 4,
 "nbformat_minor": 5
}
