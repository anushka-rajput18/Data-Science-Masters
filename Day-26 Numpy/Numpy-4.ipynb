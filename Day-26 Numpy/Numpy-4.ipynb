{
 "cells": [
  {
   "cell_type": "code",
   "execution_count": 1,
   "id": "305f75c5-2626-4244-ba94-4a55c39c72e2",
   "metadata": {
    "id": "305f75c5-2626-4244-ba94-4a55c39c72e2"
   },
   "outputs": [],
   "source": [
    "##Sort, Search & Counting Functions."
   ]
  },
  {
   "cell_type": "code",
   "execution_count": 2,
   "id": "7965ef66-f531-4d0b-951c-d0e7c9894614",
   "metadata": {
    "id": "7965ef66-f531-4d0b-951c-d0e7c9894614"
   },
   "outputs": [],
   "source": [
    "import numpy as np"
   ]
  },
  {
   "cell_type": "code",
   "execution_count": 3,
   "id": "43f851f5-0cf6-411d-b4a5-164c412085ba",
   "metadata": {
    "id": "43f851f5-0cf6-411d-b4a5-164c412085ba"
   },
   "outputs": [],
   "source": [
    "arr = np.array([4,2,8,5,3,9,12,56])"
   ]
  },
  {
   "cell_type": "code",
   "execution_count": 4,
   "id": "26c74608-5189-493f-84dc-c3d5480184a8",
   "metadata": {
    "id": "26c74608-5189-493f-84dc-c3d5480184a8",
    "outputId": "c8516bcc-6420-4e25-9548-0cd83e7b355d"
   },
   "outputs": [
    {
     "data": {
      "text/plain": [
       "array([ 4,  2,  8,  5,  3,  9, 12, 56])"
      ]
     },
     "execution_count": 4,
     "metadata": {},
     "output_type": "execute_result"
    }
   ],
   "source": [
    "arr"
   ]
  },
  {
   "cell_type": "code",
   "execution_count": 5,
   "id": "dc3ed9a3-9b26-4db4-8d72-3820236ce6b6",
   "metadata": {
    "id": "dc3ed9a3-9b26-4db4-8d72-3820236ce6b6",
    "outputId": "4a4280e1-6668-4a51-e56b-54f367fa3569"
   },
   "outputs": [
    {
     "data": {
      "text/plain": [
       "array([ 2,  3,  4,  5,  8,  9, 12, 56])"
      ]
     },
     "execution_count": 5,
     "metadata": {},
     "output_type": "execute_result"
    }
   ],
   "source": [
    "np.sort(arr)"
   ]
  },
  {
   "cell_type": "code",
   "execution_count": 6,
   "id": "c1765731-8205-4930-8eda-6e9d984e1cf9",
   "metadata": {
    "id": "c1765731-8205-4930-8eda-6e9d984e1cf9",
    "outputId": "6d1cf645-35f5-4308-97b4-daf2e19424ab"
   },
   "outputs": [
    {
     "data": {
      "text/plain": [
       "5"
      ]
     },
     "execution_count": 6,
     "metadata": {},
     "output_type": "execute_result"
    }
   ],
   "source": [
    "np.searchsorted(arr,6)"
   ]
  },
  {
   "cell_type": "code",
   "execution_count": 7,
   "id": "a46d2084-a86f-4bba-8585-6519f1ad6c57",
   "metadata": {
    "id": "a46d2084-a86f-4bba-8585-6519f1ad6c57"
   },
   "outputs": [],
   "source": [
    "arr1 = np.array([0,324,645,65,6,6,0,0,0,234])"
   ]
  },
  {
   "cell_type": "code",
   "execution_count": 8,
   "id": "b30f2d01-d1a6-411e-8273-c2af6d0e921e",
   "metadata": {
    "id": "b30f2d01-d1a6-411e-8273-c2af6d0e921e",
    "outputId": "8b84dad4-a8f3-4b1a-8eba-74e93f9b0a2e"
   },
   "outputs": [
    {
     "data": {
      "text/plain": [
       "6"
      ]
     },
     "execution_count": 8,
     "metadata": {},
     "output_type": "execute_result"
    }
   ],
   "source": [
    "np.count_nonzero(arr1)"
   ]
  },
  {
   "cell_type": "code",
   "execution_count": 9,
   "id": "0f37b5c2-0148-4689-85f7-58e49c2bb16f",
   "metadata": {
    "id": "0f37b5c2-0148-4689-85f7-58e49c2bb16f",
    "outputId": "49724865-3ce3-4c8f-f9d7-8759a1b44cc6"
   },
   "outputs": [
    {
     "data": {
      "text/plain": [
       "(array([1, 2, 3, 4, 5, 9], dtype=int64),)"
      ]
     },
     "execution_count": 9,
     "metadata": {},
     "output_type": "execute_result"
    }
   ],
   "source": [
    "np.where(arr1 > 0 )"
   ]
  },
  {
   "cell_type": "code",
   "execution_count": 10,
   "id": "21fe0093-ee28-45dd-8dfc-55ff15fbba87",
   "metadata": {
    "id": "21fe0093-ee28-45dd-8dfc-55ff15fbba87",
    "outputId": "0302b675-2876-4770-a4d7-1fa4fec620e2"
   },
   "outputs": [
    {
     "data": {
      "text/plain": [
       "array([324, 645,  65,   6,   6, 234])"
      ]
     },
     "execution_count": 10,
     "metadata": {},
     "output_type": "execute_result"
    }
   ],
   "source": [
    "np.extract(arr1 >2,arr1)"
   ]
  },
  {
   "cell_type": "code",
   "execution_count": 11,
   "id": "be4001b4-056c-4c54-a80b-7f1276631954",
   "metadata": {
    "id": "be4001b4-056c-4c54-a80b-7f1276631954"
   },
   "outputs": [],
   "source": [
    "#Numpy - Byte Swapping."
   ]
  },
  {
   "cell_type": "code",
   "execution_count": 12,
   "id": "7f4975e8-a41d-44bb-8241-76aab29f78ba",
   "metadata": {
    "id": "7f4975e8-a41d-44bb-8241-76aab29f78ba",
    "outputId": "3446a9b2-ee00-4fdc-bfdf-c0a52ff35844"
   },
   "outputs": [
    {
     "data": {
      "text/plain": [
       "array([  0, 324, 645,  65,   6,   6,   0,   0,   0, 234])"
      ]
     },
     "execution_count": 12,
     "metadata": {},
     "output_type": "execute_result"
    }
   ],
   "source": [
    "arr1"
   ]
  },
  {
   "cell_type": "code",
   "execution_count": 13,
   "id": "22abbfac-871e-41b8-95e7-2ff27563f425",
   "metadata": {
    "id": "22abbfac-871e-41b8-95e7-2ff27563f425",
    "outputId": "89567923-37dc-4301-a7ab-a389cf2ae1b2"
   },
   "outputs": [
    {
     "data": {
      "text/plain": [
       "array([ 67108864,  33554432, 134217728,  83886080,  50331648, 150994944,\n",
       "       201326592, 939524096])"
      ]
     },
     "execution_count": 13,
     "metadata": {},
     "output_type": "execute_result"
    }
   ],
   "source": [
    "arr.byteswap(True)"
   ]
  },
  {
   "cell_type": "code",
   "execution_count": 14,
   "id": "a48c8cef-44e0-4e72-8869-dcd79385796d",
   "metadata": {
    "id": "a48c8cef-44e0-4e72-8869-dcd79385796d",
    "outputId": "33ceae63-c6f6-4a5a-a610-b5bce0a2b1d7"
   },
   "outputs": [
    {
     "data": {
      "text/plain": [
       "array([ 67108864,  33554432, 134217728,  83886080,  50331648, 150994944,\n",
       "       201326592, 939524096])"
      ]
     },
     "execution_count": 14,
     "metadata": {},
     "output_type": "execute_result"
    }
   ],
   "source": [
    "arr"
   ]
  },
  {
   "cell_type": "code",
   "execution_count": 15,
   "id": "3a57f44d-b2ad-4a5f-b67a-81e0a152f543",
   "metadata": {
    "id": "3a57f44d-b2ad-4a5f-b67a-81e0a152f543",
    "outputId": "63a6a339-8a0f-4a88-9aec-f5b50d12c3be"
   },
   "outputs": [
    {
     "data": {
      "text/plain": [
       "array([ 67108864,  33554432, 134217728,  83886080,  50331648, 150994944,\n",
       "       201326592, 939524096])"
      ]
     },
     "execution_count": 15,
     "metadata": {},
     "output_type": "execute_result"
    }
   ],
   "source": [
    "arr"
   ]
  },
  {
   "cell_type": "code",
   "execution_count": 16,
   "id": "8c64a552-c766-47af-bd7f-03c88cbe923b",
   "metadata": {
    "id": "8c64a552-c766-47af-bd7f-03c88cbe923b"
   },
   "outputs": [],
   "source": [
    "#Numpy - Copies &Views."
   ]
  },
  {
   "cell_type": "code",
   "execution_count": 17,
   "id": "91428168-1507-43c5-93c5-dc00570bb8f8",
   "metadata": {
    "id": "91428168-1507-43c5-93c5-dc00570bb8f8",
    "outputId": "99bce3c3-ed33-4bf7-c46c-e05645764478"
   },
   "outputs": [
    {
     "data": {
      "text/plain": [
       "array([  0, 324, 645,  65,   6,   6,   0,   0,   0, 234])"
      ]
     },
     "execution_count": 17,
     "metadata": {},
     "output_type": "execute_result"
    }
   ],
   "source": [
    "arr1"
   ]
  },
  {
   "cell_type": "code",
   "execution_count": 24,
   "id": "0b365382-adc0-4ab1-b923-95be0ec53fa6",
   "metadata": {
    "id": "0b365382-adc0-4ab1-b923-95be0ec53fa6"
   },
   "outputs": [],
   "source": [
    "a = np.copy(arr1) #deep copy"
   ]
  },
  {
   "cell_type": "code",
   "execution_count": 25,
   "id": "0de5d60a-4a48-41ef-8755-4ebcad1cc01b",
   "metadata": {
    "id": "0de5d60a-4a48-41ef-8755-4ebcad1cc01b"
   },
   "outputs": [],
   "source": [
    "b = arr1.view() #like a swallow copy"
   ]
  },
  {
   "cell_type": "code",
   "execution_count": 26,
   "id": "0949d238-6935-4833-bc1b-479f231276ef",
   "metadata": {
    "id": "0949d238-6935-4833-bc1b-479f231276ef",
    "outputId": "269242f8-bf68-4064-ef6c-305e4be6fc86"
   },
   "outputs": [
    {
     "data": {
      "text/plain": [
       "array([234, 324, 645,  65,   6,   6,   0,   0,   0, 234])"
      ]
     },
     "execution_count": 26,
     "metadata": {},
     "output_type": "execute_result"
    }
   ],
   "source": [
    "b"
   ]
  },
  {
   "cell_type": "code",
   "execution_count": 27,
   "id": "1d96b974-f101-4866-99be-59f9829222a4",
   "metadata": {
    "id": "1d96b974-f101-4866-99be-59f9829222a4"
   },
   "outputs": [],
   "source": [
    "b[0] = 234"
   ]
  },
  {
   "cell_type": "code",
   "execution_count": 28,
   "id": "19f26f3a-cc3b-4417-9064-e7104223a25b",
   "metadata": {
    "id": "19f26f3a-cc3b-4417-9064-e7104223a25b",
    "outputId": "c8eedbdc-a276-47dc-9a26-71084b19f795"
   },
   "outputs": [
    {
     "data": {
      "text/plain": [
       "array([234, 324, 645,  65,   6,   6,   0,   0,   0, 234])"
      ]
     },
     "execution_count": 28,
     "metadata": {},
     "output_type": "execute_result"
    }
   ],
   "source": [
    "b"
   ]
  },
  {
   "cell_type": "code",
   "execution_count": 29,
   "id": "b9a9856e-dbe6-4169-ac7e-3cf2d45705ac",
   "metadata": {
    "id": "b9a9856e-dbe6-4169-ac7e-3cf2d45705ac",
    "outputId": "8b8e2503-ceab-40ca-f666-bf4fb62e37ab"
   },
   "outputs": [
    {
     "data": {
      "text/plain": [
       "array([234, 324, 645,  65,   6,   6,   0,   0,   0, 234])"
      ]
     },
     "execution_count": 29,
     "metadata": {},
     "output_type": "execute_result"
    }
   ],
   "source": [
    "arr1"
   ]
  },
  {
   "cell_type": "code",
   "execution_count": 30,
   "id": "674cfec2-70e7-426e-adbc-4353ac7c50a9",
   "metadata": {
    "id": "674cfec2-70e7-426e-adbc-4353ac7c50a9"
   },
   "outputs": [],
   "source": [
    "#Numpy - Matrix Library."
   ]
  },
  {
   "cell_type": "code",
   "execution_count": 31,
   "id": "4ec6ae6f-3807-4f52-b8af-16bb82418863",
   "metadata": {
    "id": "4ec6ae6f-3807-4f52-b8af-16bb82418863"
   },
   "outputs": [],
   "source": [
    "import numpy.matlib as nm"
   ]
  },
  {
   "cell_type": "code",
   "execution_count": 32,
   "id": "29bd602d-4478-40fe-84d3-282401756613",
   "metadata": {
    "id": "29bd602d-4478-40fe-84d3-282401756613",
    "outputId": "fc60677d-1194-4340-9f06-1affef56b21e"
   },
   "outputs": [
    {
     "data": {
      "text/plain": [
       "matrix([[0., 0., 0., 0., 0.]])"
      ]
     },
     "execution_count": 32,
     "metadata": {},
     "output_type": "execute_result"
    }
   ],
   "source": [
    "nm.zeros(5)"
   ]
  },
  {
   "cell_type": "code",
   "execution_count": 33,
   "id": "ed3548c3-512d-4bd8-a37c-899b2fb54547",
   "metadata": {
    "id": "ed3548c3-512d-4bd8-a37c-899b2fb54547",
    "outputId": "e8dcd0a5-dc8d-4797-b281-6b9b81d2223d"
   },
   "outputs": [
    {
     "data": {
      "text/plain": [
       "matrix([[1., 1., 1., 1.],\n",
       "        [1., 1., 1., 1.],\n",
       "        [1., 1., 1., 1.]])"
      ]
     },
     "execution_count": 33,
     "metadata": {},
     "output_type": "execute_result"
    }
   ],
   "source": [
    "nm.ones((3,4))"
   ]
  },
  {
   "cell_type": "code",
   "execution_count": 34,
   "id": "ea58337c-59df-44c6-9682-156026528ad6",
   "metadata": {
    "id": "ea58337c-59df-44c6-9682-156026528ad6",
    "outputId": "d6ff6775-d592-4f58-bd00-3c37f0d00a5a"
   },
   "outputs": [
    {
     "data": {
      "text/plain": [
       "matrix([[1., 0., 0., 0.],\n",
       "        [0., 1., 0., 0.],\n",
       "        [0., 0., 1., 0.],\n",
       "        [0., 0., 0., 1.]])"
      ]
     },
     "execution_count": 34,
     "metadata": {},
     "output_type": "execute_result"
    }
   ],
   "source": [
    "nm.eye(4)"
   ]
  },
  {
   "cell_type": "code",
   "execution_count": 35,
   "id": "fc4e8999-e589-4263-b884-0f71a7db9d1b",
   "metadata": {
    "id": "fc4e8999-e589-4263-b884-0f71a7db9d1b"
   },
   "outputs": [],
   "source": [
    "#Numpy - Linear Algebra"
   ]
  },
  {
   "cell_type": "code",
   "execution_count": 36,
   "id": "8dd6964c-3d2d-4d60-9f87-e7d8bb01f493",
   "metadata": {
    "id": "8dd6964c-3d2d-4d60-9f87-e7d8bb01f493"
   },
   "outputs": [],
   "source": [
    "arr1 = np.random.randint([[2,3] , [4,5]])"
   ]
  },
  {
   "cell_type": "code",
   "execution_count": 37,
   "id": "11a7e188-b6c6-4283-af8e-ba0ebc0d178e",
   "metadata": {
    "id": "11a7e188-b6c6-4283-af8e-ba0ebc0d178e"
   },
   "outputs": [],
   "source": [
    "arr2 = np.random.randint([[5,3] , [2,5]])\n"
   ]
  },
  {
   "cell_type": "code",
   "execution_count": 38,
   "id": "d35b9771-953f-4175-b747-bc5f200f7db2",
   "metadata": {
    "id": "d35b9771-953f-4175-b747-bc5f200f7db2",
    "outputId": "6db2ac07-2ed8-41d7-e590-454f75f950ba"
   },
   "outputs": [
    {
     "data": {
      "text/plain": [
       "array([[1, 0],\n",
       "       [1, 4]])"
      ]
     },
     "execution_count": 38,
     "metadata": {},
     "output_type": "execute_result"
    }
   ],
   "source": [
    "arr1"
   ]
  },
  {
   "cell_type": "code",
   "execution_count": 39,
   "id": "10cf0058-6e68-4f3d-b4a0-0e0e353ad7f0",
   "metadata": {
    "id": "10cf0058-6e68-4f3d-b4a0-0e0e353ad7f0",
    "outputId": "ed0adea7-3b42-4430-dc2c-e08d94d7ee31"
   },
   "outputs": [
    {
     "data": {
      "text/plain": [
       "array([[1, 2],\n",
       "       [1, 1]])"
      ]
     },
     "execution_count": 39,
     "metadata": {},
     "output_type": "execute_result"
    }
   ],
   "source": [
    "arr2"
   ]
  },
  {
   "cell_type": "code",
   "execution_count": 43,
   "id": "57cc0881-44a0-46e2-816a-b4d04afc02d5",
   "metadata": {
    "id": "57cc0881-44a0-46e2-816a-b4d04afc02d5",
    "outputId": "cbdfbf81-98d9-4d3d-8daa-9497c26a9c27"
   },
   "outputs": [
    {
     "data": {
      "text/plain": [
       "array([[1, 2],\n",
       "       [5, 6]])"
      ]
     },
     "execution_count": 43,
     "metadata": {},
     "output_type": "execute_result"
    }
   ],
   "source": [
    "np.dot(arr1,arr2) #matrix multiplication"
   ]
  },
  {
   "cell_type": "code",
   "execution_count": 45,
   "id": "354ee17a-346c-429b-b4c0-0ab02733e846",
   "metadata": {
    "id": "354ee17a-346c-429b-b4c0-0ab02733e846",
    "outputId": "cff88566-0b83-4764-8ae0-fd1dc1c8c9d8"
   },
   "outputs": [
    {
     "data": {
      "text/plain": [
       "array([[1, 2],\n",
       "       [5, 6]])"
      ]
     },
     "execution_count": 45,
     "metadata": {},
     "output_type": "execute_result"
    }
   ],
   "source": [
    "arr1@arr2 #matrix multiplication"
   ]
  },
  {
   "cell_type": "code",
   "execution_count": 47,
   "id": "94f581a2",
   "metadata": {},
   "outputs": [
    {
     "data": {
      "text/plain": [
       "array([[4, 1],\n",
       "       [0, 1]])"
      ]
     },
     "execution_count": 47,
     "metadata": {},
     "output_type": "execute_result"
    }
   ],
   "source": [
    "np.flip(arr1)"
   ]
  }
 ],
 "metadata": {
  "colab": {
   "provenance": []
  },
  "kernelspec": {
   "display_name": "Python 3",
   "language": "python",
   "name": "python3"
  },
  "language_info": {
   "codemirror_mode": {
    "name": "ipython",
    "version": 3
   },
   "file_extension": ".py",
   "mimetype": "text/x-python",
   "name": "python",
   "nbconvert_exporter": "python",
   "pygments_lexer": "ipython3",
   "version": "3.8.8"
  }
 },
 "nbformat": 4,
 "nbformat_minor": 5
}
