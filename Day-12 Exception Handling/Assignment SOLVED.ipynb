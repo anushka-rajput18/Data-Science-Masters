{
 "cells": [
  {
   "cell_type": "markdown",
   "id": "14c4072f",
   "metadata": {},
   "source": [
    "**Q.1 What is an Exception in python? Write the difference between Exceptions and Syntax error**"
   ]
  },
  {
   "cell_type": "markdown",
   "id": "750a11ee",
   "metadata": {},
   "source": [
    "Exceptions are raised when the program is syntactically correct, but the code results in an error. This error does not stop the execution of the program, however, it changes the normal flow of the program.\n",
    "- SyntaxError: This exception is raised when the interpreter encounters a syntax error in the code, such as a misspelled keyword, a missing colon, or an unbalanced parenthesis.\n",
    "- TypeError: This exception is raised when an operation or function is applied to an object of the wrong type, such as adding a string to an integer.\n",
    "- NameError: This exception is raised when a variable or function name is not found in the current scope.\n",
    "- IndexError: This exception is raised when an index is out of range for a list, tuple, or other sequence types.\n",
    "- KeyError: This exception is raised when a key is not found in a dictionary.\n",
    "- ValueError: This exception is raised when a function or method is called with an invalid argument or input, such as trying to convert a string to an integer when the string does not represent a valid integer.\n",
    "- AttributeError: This exception is raised when an attribute or method is not found on an object, such as trying to access a non-existent attribute of a class instance.\n",
    "- IOError: This exception is raised when an I/O operation, such as reading or writing a file, fails due to an input/output error.\n",
    "- ZeroDivisionError: This exception is raised when an attempt is made to divide a number by zero.\n",
    "- ImportError: This exception is raised when an import statement fails to find or load a module."
   ]
  },
  {
   "cell_type": "markdown",
   "id": "91ef61fa",
   "metadata": {},
   "source": [
    "The main difference between exceptions and syntax errors is that exceptions occur during program execution, while syntax errors are detected before execution. Exceptions are typically caused by factors such as incorrect user input or unexpected program behavior, while syntax errors are caused by mistakes in the code itself. Additionally, syntax errors prevent the program from running at all, while exceptions can be handled within the program."
   ]
  },
  {
   "cell_type": "markdown",
   "id": "ced1d29a",
   "metadata": {},
   "source": [
    "**Q.2 What happens when an exception is not handled? Explain it with example**"
   ]
  },
  {
   "cell_type": "markdown",
   "id": "f50cd136",
   "metadata": {},
   "source": [
    "When an exception is not handled, it results in the termination of the program or application with an error message, indicating the type and cause of the exception that occurred. This is known as an unhandled exception, and it can cause the program to crash or behave unexpectedly."
   ]
  },
  {
   "cell_type": "code",
   "execution_count": 1,
   "id": "aae8413a",
   "metadata": {},
   "outputs": [
    {
     "ename": "ZeroDivisionError",
     "evalue": "division by zero",
     "output_type": "error",
     "traceback": [
      "\u001b[1;31m---------------------------------------------------------------------------\u001b[0m",
      "\u001b[1;31mZeroDivisionError\u001b[0m                         Traceback (most recent call last)",
      "\u001b[1;32m<ipython-input-1-fa74e3d01dbe>\u001b[0m in \u001b[0;36m<module>\u001b[1;34m\u001b[0m\n\u001b[0;32m      3\u001b[0m \u001b[1;33m\u001b[0m\u001b[0m\n\u001b[0;32m      4\u001b[0m \u001b[1;31m# Let's divide 10 by 0, which will result in a ZeroDivisionError\u001b[0m\u001b[1;33m\u001b[0m\u001b[1;33m\u001b[0m\u001b[1;33m\u001b[0m\u001b[0m\n\u001b[1;32m----> 5\u001b[1;33m \u001b[0mresult\u001b[0m \u001b[1;33m=\u001b[0m \u001b[0mdivide\u001b[0m\u001b[1;33m(\u001b[0m\u001b[1;36m10\u001b[0m\u001b[1;33m,\u001b[0m \u001b[1;36m0\u001b[0m\u001b[1;33m)\u001b[0m\u001b[1;33m\u001b[0m\u001b[1;33m\u001b[0m\u001b[0m\n\u001b[0m\u001b[0;32m      6\u001b[0m \u001b[1;33m\u001b[0m\u001b[0m\n\u001b[0;32m      7\u001b[0m \u001b[1;31m# Since we haven't handled the exception, the program will terminate abruptly with an error message\u001b[0m\u001b[1;33m\u001b[0m\u001b[1;33m\u001b[0m\u001b[1;33m\u001b[0m\u001b[0m\n",
      "\u001b[1;32m<ipython-input-1-fa74e3d01dbe>\u001b[0m in \u001b[0;36mdivide\u001b[1;34m(a, b)\u001b[0m\n\u001b[0;32m      1\u001b[0m \u001b[1;32mdef\u001b[0m \u001b[0mdivide\u001b[0m\u001b[1;33m(\u001b[0m\u001b[0ma\u001b[0m\u001b[1;33m,\u001b[0m \u001b[0mb\u001b[0m\u001b[1;33m)\u001b[0m\u001b[1;33m:\u001b[0m\u001b[1;33m\u001b[0m\u001b[1;33m\u001b[0m\u001b[0m\n\u001b[1;32m----> 2\u001b[1;33m     \u001b[1;32mreturn\u001b[0m \u001b[0ma\u001b[0m \u001b[1;33m/\u001b[0m \u001b[0mb\u001b[0m\u001b[1;33m\u001b[0m\u001b[1;33m\u001b[0m\u001b[0m\n\u001b[0m\u001b[0;32m      3\u001b[0m \u001b[1;33m\u001b[0m\u001b[0m\n\u001b[0;32m      4\u001b[0m \u001b[1;31m# Let's divide 10 by 0, which will result in a ZeroDivisionError\u001b[0m\u001b[1;33m\u001b[0m\u001b[1;33m\u001b[0m\u001b[1;33m\u001b[0m\u001b[0m\n\u001b[0;32m      5\u001b[0m \u001b[0mresult\u001b[0m \u001b[1;33m=\u001b[0m \u001b[0mdivide\u001b[0m\u001b[1;33m(\u001b[0m\u001b[1;36m10\u001b[0m\u001b[1;33m,\u001b[0m \u001b[1;36m0\u001b[0m\u001b[1;33m)\u001b[0m\u001b[1;33m\u001b[0m\u001b[1;33m\u001b[0m\u001b[0m\n",
      "\u001b[1;31mZeroDivisionError\u001b[0m: division by zero"
     ]
    }
   ],
   "source": [
    "def divide(a, b):\n",
    "    return a / b\n",
    "\n",
    "# Let's divide 10 by 0, which will result in a ZeroDivisionError\n",
    "result = divide(10, 0)\n",
    "\n",
    "# Since we haven't handled the exception, the program will terminate abruptly with an error message\n",
    "print(result)"
   ]
  },
  {
   "cell_type": "markdown",
   "id": "47eace2c",
   "metadata": {},
   "source": [
    "**Q.3 Which python statement are used to catch and handle exceptions ? Explain with example**"
   ]
  },
  {
   "cell_type": "markdown",
   "id": "416ed8ab",
   "metadata": {},
   "source": [
    "Python provides a try-except block to catch and handle exceptions. The try block contains the code that might raise an exception, and the except block contains the code to handle the exception if it occurs.\n",
    "\n",
    "Here's an example that demonstrates how to use the try-except block to catch and handle an exception:"
   ]
  },
  {
   "cell_type": "code",
   "execution_count": 2,
   "id": "ed4402cc",
   "metadata": {},
   "outputs": [
    {
     "name": "stdout",
     "output_type": "stream",
     "text": [
      "Error: division by zero\n",
      "None\n"
     ]
    }
   ],
   "source": [
    "def divide(a, b):\n",
    "    try:\n",
    "        return a / b\n",
    "    except ZeroDivisionError:\n",
    "        print(\"Error: division by zero\")\n",
    "\n",
    "# Let's divide 10 by 0, which will result in a ZeroDivisionError\n",
    "result = divide(10, 0)\n",
    "\n",
    "# Since we have handled the exception, the program will continue to execute without terminating abruptly\n",
    "print(result)"
   ]
  },
  {
   "cell_type": "markdown",
   "id": "48528193",
   "metadata": {},
   "source": [
    "**Q.4 Explain with an example**"
   ]
  },
  {
   "cell_type": "markdown",
   "id": "2fa941c4",
   "metadata": {},
   "source": [
    "- **try and else**\n",
    "<br>*try* block will test the excepted error to occur and if there is no exception then *else* block will be executed"
   ]
  },
  {
   "cell_type": "code",
   "execution_count": 4,
   "id": "b08ccc87",
   "metadata": {},
   "outputs": [
    {
     "name": "stdout",
     "output_type": "stream",
     "text": [
      "The result of 10/2 is 5.0\n"
     ]
    }
   ],
   "source": [
    "def divide(a, b):\n",
    "    try:\n",
    "        result = a / b\n",
    "    except ZeroDivisionError:\n",
    "        print(\"Error: division by zero\")\n",
    "    else:\n",
    "        print(f\"The result of {a}/{b} is {result}\")\n",
    "\n",
    "# Let's divide 10 by 2, which will not result in any exception\n",
    "divide(10, 2)"
   ]
  },
  {
   "cell_type": "markdown",
   "id": "9d5e59b1",
   "metadata": {},
   "source": [
    "- **finally**\n",
    "<br> The finally block always executes after normal termination of try block or after try block terminates due to some exception. "
   ]
  },
  {
   "cell_type": "code",
   "execution_count": 1,
   "id": "480e1c46",
   "metadata": {},
   "outputs": [
    {
     "name": "stdout",
     "output_type": "stream",
     "text": [
      "Error: division by zero\n",
      "Final Statement\n"
     ]
    }
   ],
   "source": [
    "a = 10\n",
    "b = 0\n",
    "try:\n",
    "    result = a / b\n",
    "except ZeroDivisionError:\n",
    "    print(\"Error: division by zero\")\n",
    "finally:\n",
    "    print(\"Final Statement\")"
   ]
  },
  {
   "cell_type": "markdown",
   "id": "bdd696f3",
   "metadata": {},
   "source": [
    "- **raise**\n",
    "<br>Python raise Keyword is used to raise exceptions or errors. The raise keyword raises an error and stops the control flow of the program. It is used to bring up the current exception in an exception handler so that it can be handled further up the call stack."
   ]
  },
  {
   "cell_type": "code",
   "execution_count": 2,
   "id": "822b6056",
   "metadata": {},
   "outputs": [
    {
     "ename": "Exception",
     "evalue": "The number shouldn't be an odd integer",
     "output_type": "error",
     "traceback": [
      "\u001b[1;31m---------------------------------------------------------------------------\u001b[0m",
      "\u001b[1;31mException\u001b[0m                                 Traceback (most recent call last)",
      "\u001b[1;32m<ipython-input-2-2d1e253336c7>\u001b[0m in \u001b[0;36m<module>\u001b[1;34m\u001b[0m\n\u001b[0;32m      2\u001b[0m \u001b[1;33m\u001b[0m\u001b[0m\n\u001b[0;32m      3\u001b[0m \u001b[1;32mif\u001b[0m \u001b[0ma\u001b[0m \u001b[1;33m%\u001b[0m \u001b[1;36m2\u001b[0m \u001b[1;33m!=\u001b[0m \u001b[1;36m0\u001b[0m\u001b[1;33m:\u001b[0m\u001b[1;33m\u001b[0m\u001b[1;33m\u001b[0m\u001b[0m\n\u001b[1;32m----> 4\u001b[1;33m     \u001b[1;32mraise\u001b[0m \u001b[0mException\u001b[0m\u001b[1;33m(\u001b[0m\u001b[1;34m\"The number shouldn't be an odd integer\"\u001b[0m\u001b[1;33m)\u001b[0m\u001b[1;33m\u001b[0m\u001b[1;33m\u001b[0m\u001b[0m\n\u001b[0m",
      "\u001b[1;31mException\u001b[0m: The number shouldn't be an odd integer"
     ]
    }
   ],
   "source": [
    "a = 5\n",
    "  \n",
    "if a % 2 != 0:\n",
    "    raise Exception(\"The number shouldn't be an odd integer\")"
   ]
  },
  {
   "cell_type": "markdown",
   "id": "039a93a8",
   "metadata": {},
   "source": [
    "**Q.5 What are Custom Exceptions in python ? Why do we need custom exception ? Explain with an example.**"
   ]
  },
  {
   "cell_type": "markdown",
   "id": "ea9eb887",
   "metadata": {},
   "source": [
    "Custom Exceptions are user-defined exceptions that inherit from the built-in Exception class. Custom Exceptions allow developers to create their own exception classes that are specific to their code and can be used to handle errors and exceptions that are not covered by the built-in exceptions.\n",
    "\n",
    "Custom Exceptions are useful when we want to raise an exception that is specific to our application, domain or use case. We can raise custom exceptions when we want to handle specific errors in our code and provide useful error messages to the user."
   ]
  },
  {
   "cell_type": "code",
   "execution_count": 4,
   "id": "01eba3fe",
   "metadata": {},
   "outputs": [
    {
     "name": "stdout",
     "output_type": "stream",
     "text": [
      "Enter your age: 3456\n",
      "age is too high\n"
     ]
    }
   ],
   "source": [
    "class validage(Exception):\n",
    "    def __init__(self, msg):\n",
    "        self.msg = msg\n",
    "        \n",
    "def validate_age(age):\n",
    "    if age < 0:\n",
    "        raise validage(\"age should not be lesser than zero\")\n",
    "    elif age > 100:\n",
    "        raise validage(\"age is too high\")\n",
    "    else:\n",
    "        print(\"age is valid\")\n",
    "        \n",
    "try:\n",
    "    age = int(input(\"Enter your age: \"))\n",
    "    validate_age(age)\n",
    "except validage as e:\n",
    "    print(e)"
   ]
  },
  {
   "cell_type": "markdown",
   "id": "d8bb5b22",
   "metadata": {},
   "source": [
    "**Q.6 Create a custom exception class. Use it to handle an exception**"
   ]
  },
  {
   "cell_type": "code",
   "execution_count": 5,
   "id": "99c0f6f3",
   "metadata": {},
   "outputs": [
    {
     "name": "stdout",
     "output_type": "stream",
     "text": [
      "Cannot divide by zero\n"
     ]
    }
   ],
   "source": [
    "class CustomException(Exception):\n",
    "    def __init__(self, message):\n",
    "        self.message = message\n",
    "        super().__init__(self.message)\n",
    "\n",
    "def divide_numbers(num1, num2):\n",
    "    if num2 == 0:\n",
    "        raise CustomException(\"Cannot divide by zero\")\n",
    "    return num1 / num2\n",
    "\n",
    "try:\n",
    "    result = divide_numbers(10, 0)\n",
    "    print(result)\n",
    "except CustomException as e:\n",
    "    print(e.message) # prints \"Cannot divide by zero\""
   ]
  }
 ],
 "metadata": {
  "kernelspec": {
   "display_name": "Python 3",
   "language": "python",
   "name": "python3"
  },
  "language_info": {
   "codemirror_mode": {
    "name": "ipython",
    "version": 3
   },
   "file_extension": ".py",
   "mimetype": "text/x-python",
   "name": "python",
   "nbconvert_exporter": "python",
   "pygments_lexer": "ipython3",
   "version": "3.8.8"
  }
 },
 "nbformat": 4,
 "nbformat_minor": 5
}
