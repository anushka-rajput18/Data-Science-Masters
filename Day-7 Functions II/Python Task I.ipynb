{
 "cells": [
  {
   "cell_type": "markdown",
   "id": "e4449093",
   "metadata": {},
   "source": [
    "####  Create a function which will take a list as an argument and return the product of all the numbers after creating a flat list. Use the below-given list as an argument for your function.\n",
    "\n",
    "list1 = [1,2,3,4, [44,55,66, True], False, (34,56,78,89,34), {1,2,3,3,2,1}, {1:34, \"key2\": [55, 67, 78, 89], 4: (45,\n",
    "22, 61, 34)}, [56, 'data science'], 'Machine Learning']\n",
    "\n",
    "#### Note: you must extract numeric keys and values of the dictionary also."
   ]
  },
  {
   "cell_type": "code",
   "execution_count": 69,
   "id": "d2f4a711",
   "metadata": {},
   "outputs": [],
   "source": [
    "def flatten_list(lst):\n",
    "    flattened_lst = []\n",
    "    for item in lst:\n",
    "        if isinstance(item, list):\n",
    "            flattened_lst.extend(flatten_list(item))\n",
    "        else:\n",
    "            flattened_lst.append(item)\n",
    "    return flattened_lst"
   ]
  },
  {
   "cell_type": "code",
   "execution_count": 70,
   "id": "28e0323c",
   "metadata": {},
   "outputs": [],
   "source": [
    "def product_of_list(lst):\n",
    "    result = 1\n",
    "    for item in lst:\n",
    "        if isinstance(item, (int, float)):\n",
    "            result *= item\n",
    "        elif isinstance(item, tuple):\n",
    "            result *= product_of_numeric_values(list(item))\n",
    "        elif isinstance(item, list):\n",
    "            result *= product_of_numeric_values(item)\n",
    "        elif isinstance(item, dict):\n",
    "            result *= product_of_numeric_values(list(item.values()))\n",
    "    return result"
   ]
  },
  {
   "cell_type": "code",
   "execution_count": 71,
   "id": "67777f25",
   "metadata": {},
   "outputs": [
    {
     "name": "stdout",
     "output_type": "stream",
     "text": [
      "[1, 2, 3, 4, 44, 55, 66, True, False, (34, 56, 78, 89, 34), {1, 2, 3}, {1: 34, 'key2': [55, 67, 78, 89], 4: (45, 22, 61, 34)}, 56, 'data science', 'Machine Learning']\n"
     ]
    }
   ],
   "source": [
    "list1 = [1,2,3,4, [44,55,66, True], False,(34,56,78,89,34), {1,2,3,3,2,1}, {1:34, \"key2\": [55, 67, 78, 89], 4: (45,22, 61, 34)}, [56, 'data science'], 'Machine Learning']\n",
    "f_lst = flatten_list(list1)\n",
    "print(f_lst)"
   ]
  },
  {
   "cell_type": "code",
   "execution_count": 72,
   "id": "4fabedb5",
   "metadata": {},
   "outputs": [
    {
     "name": "stdout",
     "output_type": "stream",
     "text": [
      "0\n"
     ]
    }
   ],
   "source": [
    "print(product_of_list(f_lst))"
   ]
  },
  {
   "cell_type": "markdown",
   "id": "b9637b6b",
   "metadata": {},
   "source": [
    "#### Q.1 Write a python program for encrypting a message sent to you by your friend. The logic of encryption should be such that, for a the output should be z. For b, the output should be y. For c, the output should be x respectively. Also, the whitespace should be replaced with a dollar sign. Keep the punctuation marks unchanged.\n",
    "Input Sentence: I want to become a Data Scientist.\n",
    "<br>Encrypt the above input sentence using the program you just created.\n",
    "<br>*Note: Convert the given input sentence into lowercase before encrypting. The final output should be\n",
    "lowercase.*"
   ]
  },
  {
   "cell_type": "code",
   "execution_count": 73,
   "id": "69cd1fc2",
   "metadata": {},
   "outputs": [
    {
     "name": "stdout",
     "output_type": "stream",
     "text": [
      "r$dzmg$gl$yvxlnv$z$wzgz$hxrvmgrhg.\n"
     ]
    }
   ],
   "source": [
    "def encrypt(msg):\n",
    "    encrypted = ''\n",
    "    for char in msg.lower():\n",
    "        if char == ' ':\n",
    "            encrypted += '$'\n",
    "        elif char.isalpha():\n",
    "            encrypted += chr(ord('a') + (ord('z') - ord(char)))\n",
    "        else:\n",
    "            encrypted += char\n",
    "    return encrypted\n",
    "\n",
    "msg = \"I want to become a Data Scientist.\"\n",
    "print(encrypt(msg))\n"
   ]
  }
 ],
 "metadata": {
  "kernelspec": {
   "display_name": "Python 3",
   "language": "python",
   "name": "python3"
  },
  "language_info": {
   "codemirror_mode": {
    "name": "ipython",
    "version": 3
   },
   "file_extension": ".py",
   "mimetype": "text/x-python",
   "name": "python",
   "nbconvert_exporter": "python",
   "pygments_lexer": "ipython3",
   "version": "3.8.8"
  }
 },
 "nbformat": 4,
 "nbformat_minor": 5
}
