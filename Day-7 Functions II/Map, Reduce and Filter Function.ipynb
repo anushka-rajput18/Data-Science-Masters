{
 "cells": [
  {
   "cell_type": "markdown",
   "id": "d9c0599c",
   "metadata": {},
   "source": [
    "**Map Function** - Mapping of each and every element in a function"
   ]
  },
  {
   "cell_type": "code",
   "execution_count": 6,
   "id": "9349e0fc",
   "metadata": {},
   "outputs": [],
   "source": [
    "lst = [1,2,3,4,56]"
   ]
  },
  {
   "cell_type": "code",
   "execution_count": 7,
   "id": "2a54313d",
   "metadata": {},
   "outputs": [
    {
     "data": {
      "text/plain": [
       "[1, 4, 9, 16, 3136]"
      ]
     },
     "execution_count": 7,
     "metadata": {},
     "output_type": "execute_result"
    }
   ],
   "source": [
    "def test(l):\n",
    "    li = []\n",
    "    for i in l:\n",
    "        li.append(i**2)\n",
    "    return li\n",
    "\n",
    "test(lst)"
   ]
  },
  {
   "cell_type": "code",
   "execution_count": 8,
   "id": "d115aab3",
   "metadata": {},
   "outputs": [],
   "source": [
    "def sq(x):\n",
    "    return x**2"
   ]
  },
  {
   "cell_type": "code",
   "execution_count": 10,
   "id": "876fee91",
   "metadata": {},
   "outputs": [
    {
     "data": {
      "text/plain": [
       "[1, 4, 9, 16, 3136]"
      ]
     },
     "execution_count": 10,
     "metadata": {},
     "output_type": "execute_result"
    }
   ],
   "source": [
    "list(map(sq,lst))"
   ]
  },
  {
   "cell_type": "code",
   "execution_count": 11,
   "id": "dc7fe428",
   "metadata": {},
   "outputs": [
    {
     "data": {
      "text/plain": [
       "[1, 4, 9, 16, 3136]"
      ]
     },
     "execution_count": 11,
     "metadata": {},
     "output_type": "execute_result"
    }
   ],
   "source": [
    "list(map(lambda x : x**2 , lst))"
   ]
  },
  {
   "cell_type": "code",
   "execution_count": 12,
   "id": "a2d36be7",
   "metadata": {},
   "outputs": [
    {
     "data": {
      "text/plain": [
       "[11, 12, 13, 14, 66]"
      ]
     },
     "execution_count": 12,
     "metadata": {},
     "output_type": "execute_result"
    }
   ],
   "source": [
    "list(map(lambda x : x+10, lst))"
   ]
  },
  {
   "cell_type": "code",
   "execution_count": 13,
   "id": "a5f8b24e",
   "metadata": {},
   "outputs": [
    {
     "data": {
      "text/plain": [
       "['1', '2', '3', '4', '56']"
      ]
     },
     "execution_count": 13,
     "metadata": {},
     "output_type": "execute_result"
    }
   ],
   "source": [
    "list(map(lambda x : str(x), lst))"
   ]
  },
  {
   "cell_type": "code",
   "execution_count": 14,
   "id": "0f09c96d",
   "metadata": {},
   "outputs": [],
   "source": [
    "l1 = [1,2,3,4,5]\n",
    "l2 = [34,23,23,23]"
   ]
  },
  {
   "cell_type": "code",
   "execution_count": 15,
   "id": "98d2a73c",
   "metadata": {},
   "outputs": [
    {
     "data": {
      "text/plain": [
       "[35, 25, 26, 27]"
      ]
     },
     "execution_count": 15,
     "metadata": {},
     "output_type": "execute_result"
    }
   ],
   "source": [
    "list(map(lambda x,y : x+y, l1,l2))"
   ]
  },
  {
   "cell_type": "code",
   "execution_count": 19,
   "id": "2085efa9",
   "metadata": {},
   "outputs": [],
   "source": [
    "f = lambda x,y : x+y"
   ]
  },
  {
   "cell_type": "code",
   "execution_count": 20,
   "id": "110c2885",
   "metadata": {},
   "outputs": [
    {
     "data": {
      "text/plain": [
       "[35, 25, 26, 27]"
      ]
     },
     "execution_count": 20,
     "metadata": {},
     "output_type": "execute_result"
    }
   ],
   "source": [
    "list(map(f, l1,l2))"
   ]
  },
  {
   "cell_type": "code",
   "execution_count": 21,
   "id": "1216e630",
   "metadata": {},
   "outputs": [],
   "source": [
    "s = \"pwskills\""
   ]
  },
  {
   "cell_type": "code",
   "execution_count": 22,
   "id": "5b5f817f",
   "metadata": {},
   "outputs": [
    {
     "data": {
      "text/plain": [
       "['P', 'W', 'S', 'K', 'I', 'L', 'L', 'S']"
      ]
     },
     "execution_count": 22,
     "metadata": {},
     "output_type": "execute_result"
    }
   ],
   "source": [
    "list(map(lambda x : x.upper(), s))"
   ]
  },
  {
   "cell_type": "markdown",
   "id": "7329cfc1",
   "metadata": {},
   "source": [
    "**Reduce Function** - apply a function to an iterable and reduce it to a single cumulative value.\n",
    "It takes only two argument at a time."
   ]
  },
  {
   "cell_type": "code",
   "execution_count": 23,
   "id": "ca9c810c",
   "metadata": {},
   "outputs": [],
   "source": [
    "from functools import reduce"
   ]
  },
  {
   "cell_type": "code",
   "execution_count": 24,
   "id": "397f2b6a",
   "metadata": {},
   "outputs": [],
   "source": [
    "lst = [1,2,3,4,5]"
   ]
  },
  {
   "cell_type": "code",
   "execution_count": 26,
   "id": "b693b0c4",
   "metadata": {},
   "outputs": [
    {
     "data": {
      "text/plain": [
       "15"
      ]
     },
     "execution_count": 26,
     "metadata": {},
     "output_type": "execute_result"
    }
   ],
   "source": [
    "reduce(lambda x,y : x+y, lst)"
   ]
  },
  {
   "cell_type": "code",
   "execution_count": 27,
   "id": "8f137303",
   "metadata": {},
   "outputs": [],
   "source": [
    "def add(x,y):\n",
    "    return x+y"
   ]
  },
  {
   "cell_type": "code",
   "execution_count": 28,
   "id": "6466fb3e",
   "metadata": {},
   "outputs": [
    {
     "data": {
      "text/plain": [
       "15"
      ]
     },
     "execution_count": 28,
     "metadata": {},
     "output_type": "execute_result"
    }
   ],
   "source": [
    "reduce(add, lst)"
   ]
  },
  {
   "cell_type": "code",
   "execution_count": 29,
   "id": "7de661be",
   "metadata": {},
   "outputs": [
    {
     "data": {
      "text/plain": [
       "5"
      ]
     },
     "execution_count": 29,
     "metadata": {},
     "output_type": "execute_result"
    }
   ],
   "source": [
    "reduce(lambda x,y : x if x>y else y, lst)"
   ]
  },
  {
   "cell_type": "code",
   "execution_count": 41,
   "id": "fb1c8c59",
   "metadata": {},
   "outputs": [
    {
     "name": "stdout",
     "output_type": "stream",
     "text": [
      "120\n"
     ]
    }
   ],
   "source": [
    "from functools import reduce\n",
    "\n",
    "numbers = [1, 2, 3, 4, 5]\n",
    "\n",
    "product = reduce(lambda x, y: x*y, numbers)\n",
    "\n",
    "print(product)"
   ]
  },
  {
   "cell_type": "markdown",
   "id": "9a3916f9",
   "metadata": {},
   "source": [
    "**Filter Function** - It is a built-in function that allows you to process an iterable and extract those items that satisfy a given condition."
   ]
  },
  {
   "cell_type": "code",
   "execution_count": 32,
   "id": "88eb398f",
   "metadata": {},
   "outputs": [
    {
     "data": {
      "text/plain": [
       "[1, 2, 3, 4, 5]"
      ]
     },
     "execution_count": 32,
     "metadata": {},
     "output_type": "execute_result"
    }
   ],
   "source": [
    "lst"
   ]
  },
  {
   "cell_type": "code",
   "execution_count": 33,
   "id": "edd81a29",
   "metadata": {},
   "outputs": [
    {
     "data": {
      "text/plain": [
       "[2, 4]"
      ]
     },
     "execution_count": 33,
     "metadata": {},
     "output_type": "execute_result"
    }
   ],
   "source": [
    "list(filter(lambda x : x%2==0, lst))"
   ]
  },
  {
   "cell_type": "code",
   "execution_count": 34,
   "id": "f2392bdd",
   "metadata": {},
   "outputs": [
    {
     "data": {
      "text/plain": [
       "[1, 3, 5]"
      ]
     },
     "execution_count": 34,
     "metadata": {},
     "output_type": "execute_result"
    }
   ],
   "source": [
    "list(filter(lambda x : x%2!=0, lst))"
   ]
  },
  {
   "cell_type": "code",
   "execution_count": 35,
   "id": "906e7b67",
   "metadata": {},
   "outputs": [],
   "source": [
    "l1 = [45,-23,8,-90,78,-92]"
   ]
  },
  {
   "cell_type": "code",
   "execution_count": 36,
   "id": "0d52b635",
   "metadata": {},
   "outputs": [
    {
     "data": {
      "text/plain": [
       "[-23, -90, -92]"
      ]
     },
     "execution_count": 36,
     "metadata": {},
     "output_type": "execute_result"
    }
   ],
   "source": [
    "list(filter(lambda x : x<0, l1))"
   ]
  },
  {
   "cell_type": "code",
   "execution_count": 37,
   "id": "a3ac1fd5",
   "metadata": {},
   "outputs": [
    {
     "data": {
      "text/plain": [
       "[45, 8, 78]"
      ]
     },
     "execution_count": 37,
     "metadata": {},
     "output_type": "execute_result"
    }
   ],
   "source": [
    "list(filter(lambda x : x>=0, l1))"
   ]
  },
  {
   "cell_type": "code",
   "execution_count": 38,
   "id": "4337a3ae",
   "metadata": {},
   "outputs": [],
   "source": [
    "l2 = [\"anushka\", \"singh\", \"data\", \"rajput\", \"hello\", \"bye\"]"
   ]
  },
  {
   "cell_type": "code",
   "execution_count": 40,
   "id": "b2b38ee8",
   "metadata": {},
   "outputs": [
    {
     "data": {
      "text/plain": [
       "['singh', 'data', 'hello', 'bye']"
      ]
     },
     "execution_count": 40,
     "metadata": {},
     "output_type": "execute_result"
    }
   ],
   "source": [
    "list(filter(lambda x : len(x)<6, l2))"
   ]
  }
 ],
 "metadata": {
  "kernelspec": {
   "display_name": "Python 3",
   "language": "python",
   "name": "python3"
  },
  "language_info": {
   "codemirror_mode": {
    "name": "ipython",
    "version": 3
   },
   "file_extension": ".py",
   "mimetype": "text/x-python",
   "name": "python",
   "nbconvert_exporter": "python",
   "pygments_lexer": "ipython3",
   "version": "3.8.8"
  }
 },
 "nbformat": 4,
 "nbformat_minor": 5
}
