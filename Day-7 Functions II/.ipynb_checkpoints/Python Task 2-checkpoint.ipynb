{
 "cells": [
  {
   "cell_type": "markdown",
   "id": "5d78a39d",
   "metadata": {},
   "source": [
    "#### Q.1 Q1. You are writing code for a company. The requirement of the company is that you create a python function that will check whether the password entered by the user is correct or not. The function should take the password as input and return the string “Valid Password” if the entered password follows the below-given password guidelines else it should return “Invalid Password”.\n",
    "<br>Note: \n",
    "1. The Password should contain at least two uppercase letters and at least two lowercase letters.\n",
    "\n",
    "2. The Password should contain at least a number and three special characters.\n",
    "\n",
    "3. The length of the password should be 10 characters long."
   ]
  },
  {
   "cell_type": "code",
   "execution_count": 18,
   "id": "33ce17b1",
   "metadata": {},
   "outputs": [],
   "source": [
    "def pass_or_not(password):\n",
    "    lower,upper,digit,s_symbol = 0,0,0,0\n",
    "    if len(password) >= 10:\n",
    "        for i in password:\n",
    "            if(i.islower()):\n",
    "                lower+=1\n",
    "            elif(i.isupper()):\n",
    "                upper+=1\n",
    "            elif(i.isdigit()):\n",
    "                digit+=1\n",
    "            else:\n",
    "                s_symbol+=1\n",
    "        if lower>=2 and upper>=2 and digit>=1 and s_symbol>=3:\n",
    "            print(\"Valid Password\")\n",
    "        else:\n",
    "            print(\"Invalid Password\")\n",
    "            return\n",
    "    else:\n",
    "        print(\"Invalid Password\")"
   ]
  },
  {
   "cell_type": "code",
   "execution_count": 19,
   "id": "16a026c5",
   "metadata": {},
   "outputs": [
    {
     "name": "stdout",
     "output_type": "stream",
     "text": [
      "Enter your password: AAuu1@#$adfg\n",
      "Valid Password\n"
     ]
    }
   ],
   "source": [
    "password = input(\"Enter your password: \")\n",
    "pass_or_not(password)"
   ]
  },
  {
   "cell_type": "markdown",
   "id": "5c76e04e",
   "metadata": {},
   "source": [
    "#### Q2. Solve the below-given questions using at least one of the following: \n",
    "\n",
    "1. Lambda function\n",
    "2. Filter function\n",
    "3. Map function\n",
    "4. List Comprehension"
   ]
  },
  {
   "cell_type": "markdown",
   "id": "de37ce42",
   "metadata": {},
   "source": [
    "**- Check if the string starts with a particular letter**"
   ]
  },
  {
   "cell_type": "code",
   "execution_count": 9,
   "id": "5f855e67",
   "metadata": {},
   "outputs": [
    {
     "name": "stdout",
     "output_type": "stream",
     "text": [
      "True\n"
     ]
    }
   ],
   "source": [
    "my_str = \"hello world\"\n",
    "letter = \"h\"\n",
    "\n",
    "print(any([word.startswith(letter) for word in my_str.split()]))"
   ]
  },
  {
   "cell_type": "markdown",
   "id": "9fcdb72c",
   "metadata": {},
   "source": [
    "**- Check if the string is numeric**"
   ]
  },
  {
   "cell_type": "code",
   "execution_count": 8,
   "id": "293cca77",
   "metadata": {},
   "outputs": [
    {
     "name": "stdout",
     "output_type": "stream",
     "text": [
      "True\n"
     ]
    }
   ],
   "source": [
    "my_str = \"12345\"\n",
    "print(all([char.isdigit() for char in my_str]))"
   ]
  },
  {
   "cell_type": "markdown",
   "id": "63a23b4c",
   "metadata": {},
   "source": [
    "**- Sort a list of tuples having fruit names and their quantity. <br>[(\"mango\",99),(\"orange\",80), (\"grapes\", 1000)]**"
   ]
  },
  {
   "cell_type": "code",
   "execution_count": 7,
   "id": "bc0d7acf",
   "metadata": {},
   "outputs": [
    {
     "name": "stdout",
     "output_type": "stream",
     "text": [
      "[('orange', 80), ('mango', 99), ('grapes', 1000)]\n"
     ]
    }
   ],
   "source": [
    "fruits = [(\"mango\", 99), (\"orange\", 80), (\"grapes\", 1000)]\n",
    "print(sorted(fruits, key=lambda x: x[1]))"
   ]
  },
  {
   "cell_type": "markdown",
   "id": "9d507827",
   "metadata": {},
   "source": [
    "**- Find the squares of numbers from 1 to 10**"
   ]
  },
  {
   "cell_type": "code",
   "execution_count": 6,
   "id": "4a69ea49",
   "metadata": {},
   "outputs": [
    {
     "name": "stdout",
     "output_type": "stream",
     "text": [
      "[1, 4, 9, 16, 25, 36, 49, 64, 81, 100]\n"
     ]
    }
   ],
   "source": [
    "square = [i*i for i in range(1,11)]\n",
    "print(square)"
   ]
  },
  {
   "cell_type": "markdown",
   "id": "bf0470fa",
   "metadata": {},
   "source": [
    "**- Find the cube root of numbers from 1 to 10**"
   ]
  },
  {
   "cell_type": "code",
   "execution_count": 5,
   "id": "d6c08d9b",
   "metadata": {},
   "outputs": [
    {
     "name": "stdout",
     "output_type": "stream",
     "text": [
      "[1.0, 1.26, 1.44, 1.59, 1.71, 1.82, 1.91, 2.0, 2.08, 2.15]\n"
     ]
    }
   ],
   "source": [
    "cube_root_lst = [round(i**(1/3), 2) for i in range(1, 11)]\n",
    "print(cube_root_lst)"
   ]
  },
  {
   "cell_type": "markdown",
   "id": "9ae26cfb",
   "metadata": {},
   "source": [
    "**- Check if a given number is even**"
   ]
  },
  {
   "cell_type": "code",
   "execution_count": 4,
   "id": "ddfeec4b",
   "metadata": {},
   "outputs": [
    {
     "name": "stdout",
     "output_type": "stream",
     "text": [
      "True\n"
     ]
    }
   ],
   "source": [
    "num = 6\n",
    "is_even = bool(list(filter(lambda x: x % 2 == 0, [num])))\n",
    "print(is_even)"
   ]
  },
  {
   "cell_type": "markdown",
   "id": "5f2a3df8",
   "metadata": {},
   "source": [
    "**- Filter odd numbers from the given list. [1,2,3,4,5,6,7,8,9,10]**"
   ]
  },
  {
   "cell_type": "code",
   "execution_count": 3,
   "id": "b5b91ee4",
   "metadata": {},
   "outputs": [
    {
     "name": "stdout",
     "output_type": "stream",
     "text": [
      "[1, 3, 5, 7, 9]\n"
     ]
    }
   ],
   "source": [
    "lst = [1, 2, 3, 4, 5, 6, 7, 8, 9, 10]\n",
    "odd_lst = list(filter(lambda x: x % 2 != 0, lst))\n",
    "print(odd_lst)"
   ]
  },
  {
   "cell_type": "markdown",
   "id": "f750dd25",
   "metadata": {},
   "source": [
    "**- Sort a list of integers into positive and negative integers lists [1,2,3,4,5,6,-1,-2,-3,-4,-5,0]**\n"
   ]
  },
  {
   "cell_type": "code",
   "execution_count": 2,
   "id": "c4b6535a",
   "metadata": {},
   "outputs": [
    {
     "name": "stdout",
     "output_type": "stream",
     "text": [
      "[1, 2, 3, 4, 5, 6]\n",
      "[-1, -2, -3, -4, -5]\n"
     ]
    }
   ],
   "source": [
    "lst = [1, 2, 3, 4, 5, 6, -1, -2, -3, -4, -5, 0]\n",
    "\n",
    "positive_lst = list(filter(lambda x: x > 0, lst))\n",
    "print(positive_lst)\n",
    "negative_lst = list(filter(lambda x: x < 0, lst))\n",
    "print(negative_lst)"
   ]
  }
 ],
 "metadata": {
  "kernelspec": {
   "display_name": "Python 3",
   "language": "python",
   "name": "python3"
  },
  "language_info": {
   "codemirror_mode": {
    "name": "ipython",
    "version": 3
   },
   "file_extension": ".py",
   "mimetype": "text/x-python",
   "name": "python",
   "nbconvert_exporter": "python",
   "pygments_lexer": "ipython3",
   "version": "3.8.8"
  }
 },
 "nbformat": 4,
 "nbformat_minor": 5
}
