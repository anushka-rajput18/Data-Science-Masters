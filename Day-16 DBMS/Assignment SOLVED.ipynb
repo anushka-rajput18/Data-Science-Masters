{
 "cells": [
  {
   "cell_type": "markdown",
   "id": "4d65409e",
   "metadata": {},
   "source": [
    "**Q1. What is a database? Differentiate between SQL and NoSQL databases.**"
   ]
  },
  {
   "cell_type": "markdown",
   "id": "53a392b0",
   "metadata": {},
   "source": [
    "A **database** is a collection of organized and structured data that can be accessed, managed, and updated easily. It is used to store and manage data, making it easier to retrieve, manipulate, and analyze information.\n",
    "\n",
    "**SQL (Structured Query Language)** and **NoSQL (Not only SQL)** are two different types of databases. **SQL** databases are relational databases that use a predefined schema and store data in tables with rows and columns. They are great for structured data and are ideal for applications that require complex querying and transactions. Examples of SQL databases include MySQL, Oracle, and PostgreSQL.\n",
    "\n",
    "On the other hand, **NoSQL** databases are non-relational databases that can store data in a variety of formats such as document, key-value, column-family, and graph. They are designed to handle unstructured and semi-structured data that does not fit neatly into tables. NoSQL databases are highly scalable and flexible and can handle large amounts of data. Examples of NoSQL databases include MongoDB, Cassandra, and Amazon DynamoDB."
   ]
  },
  {
   "cell_type": "markdown",
   "id": "785bbf89",
   "metadata": {},
   "source": [
    "**Q2. What is DDL? Explain why CREATE, DROP, ALTER, and TRUNCATE are used with an example.**"
   ]
  },
  {
   "cell_type": "markdown",
   "id": "3a6f0fec",
   "metadata": {},
   "source": [
    "DDL stands for Data Definition Language, and it is a set of SQL statements used to define and manage the structure of database objects such as tables, indexes, views, and sequences. The four main DDL statements in SQL are CREATE, DROP, ALTER, and TRUNCATE.\n",
    "\n",
    "1. **CREATE**: The CREATE statement is used to create a new database object such as a table, view, or index. For example, the following SQL statement creates a new table named \"customers\" with four columns: id, name, email, and phone.\n",
    "\n",
    "\n",
    "*CREATE TABLE customers (\n",
    "  id INT PRIMARY KEY,\n",
    "  name VARCHAR(50) NOT NULL,\n",
    "  email VARCHAR(50) NOT NULL,\n",
    "  phone VARCHAR(15)\n",
    ");*"
   ]
  },
  {
   "cell_type": "markdown",
   "id": "ad7e63cc",
   "metadata": {},
   "source": [
    "2. **DROP**: The DROP statement is used to delete an existing database object. For example, the following SQL statement drops the \"customers\" table:\n",
    "\n",
    "*DROP TABLE customers;*"
   ]
  },
  {
   "cell_type": "markdown",
   "id": "0c38bb6a",
   "metadata": {},
   "source": [
    "3. **ALTER**: The ALTER statement is used to modify an existing database object such as a table, view, or index. For example, the following SQL statement adds a new column named \"address\" to the \"customers\" table:\n"
   ]
  },
  {
   "cell_type": "markdown",
   "id": "fd4c492f",
   "metadata": {},
   "source": [
    "*ALTER TABLE customers\n",
    "<br>ADD address VARCHAR(100);*"
   ]
  },
  {
   "cell_type": "markdown",
   "id": "3e1b4b18",
   "metadata": {},
   "source": [
    "4. **TRUNCATE**: The TRUNCATE statement is used to remove all the data from a table while keeping its structure intact. For example, the following SQL statement deletes all the data from the \"customers\" table:\n",
    "\n",
    "*TRUNCATE TABLE customers;*"
   ]
  },
  {
   "cell_type": "markdown",
   "id": "5bd89b42",
   "metadata": {},
   "source": [
    "**Q3. What is DML? Explain INSERT, UPDATE, and DELETE with an example.**"
   ]
  },
  {
   "cell_type": "markdown",
   "id": "a89f9195",
   "metadata": {},
   "source": [
    "DML stands for Data Manipulation Language, and it is a set of SQL statements used to manipulate data within database objects such as tables. The three main DML statements in SQL are INSERT, UPDATE, and DELETE.\n",
    "\n",
    "1. **INSERT**: The INSERT statement is used to insert new data into a table. For example, the following SQL statement inserts a new record into the \"customers\" table:\n",
    "\n",
    "    *INSERT INTO customers (id, name, email, phone) VALUES (1, 'John Doe', 'john@example.com', '123-456-7890');*\n",
    "\n",
    "\n",
    "2. **UPDATE**: The UPDATE statement is used to modify existing data within a table. For example, the following SQL statement updates the phone number of a customer with id=1 in the \"customers\" table:\n",
    "\n",
    "    *UPDATE customers SET phone='555-555-5555' WHERE id=1;*\n",
    "\n",
    "\n",
    "3. **DELETE**: The DELETE statement is used to delete data from a table. For example, the following SQL statement deletes a customer with id=1 from the \"customers\" table:\n",
    "\n",
    "    *DELETE FROM customers WHERE id=1;*"
   ]
  },
  {
   "cell_type": "markdown",
   "id": "9022bb22",
   "metadata": {},
   "source": [
    "**Q4. What is DQL? Explain SELECT with an example.**"
   ]
  },
  {
   "cell_type": "markdown",
   "id": "8faee52c",
   "metadata": {},
   "source": [
    "DQL stands for Data Query Language, and it is a set of SQL statements used to retrieve data from a database. The main DQL statement in SQL is SELECT.\n",
    "\n",
    "SELECT is used to retrieve data from one or more tables in a database. For example, the following SQL statement retrieves all the data from the \"customers\" table:\n",
    "\n",
    "*SELECT * FROM customers;*"
   ]
  },
  {
   "cell_type": "markdown",
   "id": "aac70e59",
   "metadata": {},
   "source": [
    "**Q5. Explain Primary Key and Foreign Key.**"
   ]
  },
  {
   "cell_type": "markdown",
   "id": "f0c60b59",
   "metadata": {},
   "source": [
    "In a relational database, a primary key and a foreign key are used to establish relationships between two or more tables.\n",
    "\n",
    "A primary key is a unique identifier for a record or row in a table. It is a column or a set of columns that uniquely identifies each record in the table. A primary key cannot contain NULL values and must have a unique value for each record. By defining a primary key, we ensure that each record in the table is uniquely identifiable and that it can be easily referenced by other tables in the database.\n",
    "\n",
    "A foreign key is a field in a table that refers to the primary key of another table. It is used to establish a link or relationship between two tables. A foreign key can be defined in a table to enforce referential integrity between two tables. This means that the values in the foreign key column must match the values in the primary key column of the referenced table, or they must be NULL."
   ]
  },
  {
   "cell_type": "markdown",
   "id": "e8337372",
   "metadata": {},
   "source": [
    "**Q6. Write a python code to connect MySQL to python. Explain the cursor() and execute() method.**"
   ]
  },
  {
   "cell_type": "code",
   "execution_count": 8,
   "id": "b40480ee",
   "metadata": {},
   "outputs": [],
   "source": [
    "'''\n",
    "import mysql.connector\n",
    "\n",
    "# create a connection to the MySQL database\n",
    "mydb = mysql.connector.connect(\n",
    "  host=\"localhost\",\n",
    "  user=\"yourusername\",\n",
    "  password=\"yourpassword\",\n",
    "  database=\"mydatabase\"\n",
    ")\n",
    "\n",
    "# create a cursor object\n",
    "mycursor = mydb.cursor()\n",
    "\n",
    "# execute a SQL query\n",
    "mycursor.execute(\"SELECT * FROM customers\")\n",
    "\n",
    "# fetch the results\n",
    "results = mycursor.fetchall()\n",
    "\n",
    "# print the results\n",
    "for result in results:\n",
    "  print(result) '''\n",
    "pass"
   ]
  },
  {
   "cell_type": "markdown",
   "id": "b9768359",
   "metadata": {},
   "source": [
    "The cursor() method is used to create a cursor object that can execute SQL queries and fetch the results. The cursor object allows us to execute SQL queries and fetch the results row by row.\n",
    "\n",
    "The execute() method is used to execute SQL queries. The SQL query is passed as an argument to the execute() method. The execute() method returns None if the query doesn't return any results. If the query returns results, we need to fetch the results using the fetchall() method or other fetch methods."
   ]
  },
  {
   "cell_type": "markdown",
   "id": "17645fa2",
   "metadata": {},
   "source": [
    "**Q7. Give the order of execution of SQL clauses in an SQL query.**"
   ]
  },
  {
   "cell_type": "markdown",
   "id": "3bbc76c0",
   "metadata": {},
   "source": [
    "The order of execution of SQL clauses in an SQL query is as follows:\n",
    "\n",
    "- **FROM**: Specifies the table or tables from which to retrieve data.\n",
    "- **JOIN**: Joins the tables based on a specified condition.\n",
    "- **WHERE**: Filters the rows based on a specified condition.\n",
    "- **GROUP BY**: Groups the rows based on a specified column or set of columns.\n",
    "- **HAVING**: Filters the groups based on a specified condition.\n",
    "- **SELECT**: Retrieves the specified columns or expressions from the rows or groups.\n",
    "- **ORDER BY**: Sorts the result set based on a specified column or set of columns."
   ]
  }
 ],
 "metadata": {
  "kernelspec": {
   "display_name": "Python 3",
   "language": "python",
   "name": "python3"
  },
  "language_info": {
   "codemirror_mode": {
    "name": "ipython",
    "version": 3
   },
   "file_extension": ".py",
   "mimetype": "text/x-python",
   "name": "python",
   "nbconvert_exporter": "python",
   "pygments_lexer": "ipython3",
   "version": "3.8.8"
  }
 },
 "nbformat": 4,
 "nbformat_minor": 5
}
