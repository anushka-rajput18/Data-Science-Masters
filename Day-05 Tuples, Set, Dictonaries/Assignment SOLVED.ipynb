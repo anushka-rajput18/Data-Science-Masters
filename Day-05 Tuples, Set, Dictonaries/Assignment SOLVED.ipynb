{
 "cells": [
  {
   "cell_type": "markdown",
   "id": "8e0ccb8f",
   "metadata": {},
   "source": [
    "#### Q1. What are the characteristics of the tuples? Is tuple immutable?"
   ]
  },
  {
   "cell_type": "markdown",
   "id": "322ba9f5",
   "metadata": {},
   "source": [
    "Yes, tuples follows concept of immutability which means we cannot change any element on that partcular index\n",
    "<br>Characteristics of Tuples:\n",
    "- Ordered\n",
    "- Unchangeable\n",
    "- Allow Duplicates"
   ]
  },
  {
   "cell_type": "markdown",
   "id": "c7cec30c",
   "metadata": {},
   "source": [
    "#### Q2. What are the two tuple methods in python? Give an example of each method. Give a reason why tuples have only two in-built methods as compared to Lists."
   ]
  },
  {
   "cell_type": "markdown",
   "id": "2eb98211",
   "metadata": {},
   "source": [
    "The Two built-in method in python are:\n",
    "- count() : count the number of times a number occur in tuple\n",
    "- index() : return the index of any particular value in tuple"
   ]
  },
  {
   "cell_type": "code",
   "execution_count": 3,
   "id": "e259ab8f",
   "metadata": {},
   "outputs": [],
   "source": [
    "t = (1,2,3,4,5,5,5,3,2,1,6)"
   ]
  },
  {
   "cell_type": "code",
   "execution_count": 5,
   "id": "5375221a",
   "metadata": {},
   "outputs": [
    {
     "data": {
      "text/plain": [
       "3"
      ]
     },
     "execution_count": 5,
     "metadata": {},
     "output_type": "execute_result"
    }
   ],
   "source": [
    "t.count(5)"
   ]
  },
  {
   "cell_type": "code",
   "execution_count": 6,
   "id": "0b23446b",
   "metadata": {},
   "outputs": [
    {
     "data": {
      "text/plain": [
       "10"
      ]
     },
     "execution_count": 6,
     "metadata": {},
     "output_type": "execute_result"
    }
   ],
   "source": [
    "t.index(6)"
   ]
  },
  {
   "cell_type": "markdown",
   "id": "9bd61a6e",
   "metadata": {},
   "source": [
    "As we know tuples are immutable while lists are mutuable in nature because of this property only two in-built methods are possible in tuples"
   ]
  },
  {
   "cell_type": "markdown",
   "id": "a77f15fe",
   "metadata": {},
   "source": [
    "#### Q3.  Which collection datatypes in python do not allow duplicate items? Write a code using a set to remove duplicates from the given list.\n",
    "List = [1, 1, 1, 2, 1, 3, 1, 4, 2, 1, 2, 2, 2, 3, 2, 4, 3, 1, 3, 2, 3, 3, 3, 4, 4, 1, 4, 2, 4, 3, 4, 4]"
   ]
  },
  {
   "cell_type": "markdown",
   "id": "febc399a",
   "metadata": {},
   "source": [
    "Set is a collection which is unordered and unindexed and doesn't allow duplicate items."
   ]
  },
  {
   "cell_type": "code",
   "execution_count": 7,
   "id": "24af7908",
   "metadata": {},
   "outputs": [],
   "source": [
    "l =  [1, 1, 1, 2, 1, 3, 1, 4, 2, 1, 2, 2, 2, 3, 2, 4, 3, 1, 3, 2, 3, 3, 3, 4, 4, 1, 4, 2, 4, 3, 4, 4]"
   ]
  },
  {
   "cell_type": "code",
   "execution_count": 9,
   "id": "3272f582",
   "metadata": {},
   "outputs": [
    {
     "data": {
      "text/plain": [
       "{1, 2, 3, 4}"
      ]
     },
     "execution_count": 9,
     "metadata": {},
     "output_type": "execute_result"
    }
   ],
   "source": [
    "s = set(l)\n",
    "s"
   ]
  },
  {
   "cell_type": "markdown",
   "id": "da13e4a4",
   "metadata": {},
   "source": [
    "#### Q4. Explain the difference between the union() and update() methods for a set. Give an example of each method."
   ]
  },
  {
   "cell_type": "markdown",
   "id": "055bc235",
   "metadata": {},
   "source": [
    "**update()** method updates the current set by adding items from another. Its basically used when you want to add more than one element in one go."
   ]
  },
  {
   "cell_type": "code",
   "execution_count": 35,
   "id": "c320ce2d",
   "metadata": {},
   "outputs": [
    {
     "name": "stdout",
     "output_type": "stream",
     "text": [
      "{'Thursday', 'Monday', 'Saturday', 'Wednesday', 'Friday', 'Tuesday', 'Sunday'}\n"
     ]
    }
   ],
   "source": [
    "days = {\"Monday\",\"Tuesday\", \"Wednesday\", \"Thursday\"}\n",
    "y = {\"Friday\",\"Saturday\",\"Sunday\"}\n",
    "days.update(y)\n",
    "print(days)"
   ]
  },
  {
   "cell_type": "markdown",
   "id": "3265331b",
   "metadata": {},
   "source": [
    "**union()** method returns a set that contains all the unique elements"
   ]
  },
  {
   "cell_type": "code",
   "execution_count": 37,
   "id": "90ee82b4",
   "metadata": {},
   "outputs": [
    {
     "name": "stdout",
     "output_type": "stream",
     "text": [
      "{'Thursday', 'Monday', 'Saturday', 'Wednesday', 'Sunday', 'Friday', 'Tuesday'}\n"
     ]
    }
   ],
   "source": [
    "days = {\"Monday\",\"Tuesday\", \"Wednesday\", \"Thursday\"}\n",
    "y = {\"Friday\",\"Saturday\",\"Sunday\",\"Monday\",\"Tuesday\",\"Wednesday\"}\n",
    "days.update(y)\n",
    "print(days)"
   ]
  },
  {
   "cell_type": "markdown",
   "id": "62ba9308",
   "metadata": {},
   "source": [
    "#### Q5. What is a dictionary? Give an example. Also, state whether a dictionary is ordered or unordered."
   ]
  },
  {
   "cell_type": "markdown",
   "id": "f629a5a8",
   "metadata": {},
   "source": [
    "Dictionary in python is a collection of key value pair and is mutuable and doesn't allow duplicates.\n",
    "<br>Dictionary is a ordered collection "
   ]
  },
  {
   "cell_type": "code",
   "execution_count": 40,
   "id": "1f7d255e",
   "metadata": {},
   "outputs": [
    {
     "data": {
      "text/plain": [
       "{'name': 'Anushka Rajput', 'course': 'Data Science Masters'}"
      ]
     },
     "execution_count": 40,
     "metadata": {},
     "output_type": "execute_result"
    }
   ],
   "source": [
    "d = {\"name\":\"Anushka Rajput\",\"course\":\"Data Science Masters\"}\n",
    "d"
   ]
  },
  {
   "cell_type": "markdown",
   "id": "d82e4098",
   "metadata": {},
   "source": [
    "#### Q6. Can we create a nested dictionary? If so, please give an example by creating a simple one-level nested dictionary."
   ]
  },
  {
   "cell_type": "markdown",
   "id": "cfb0d74c",
   "metadata": {},
   "source": [
    "Yes, we can create a nested dictionary"
   ]
  },
  {
   "cell_type": "code",
   "execution_count": 43,
   "id": "60c849c8",
   "metadata": {},
   "outputs": [
    {
     "data": {
      "text/plain": [
       "{'key': {'name': 'anushka', 'class': 'DSM'}}"
      ]
     },
     "execution_count": 43,
     "metadata": {},
     "output_type": "execute_result"
    }
   ],
   "source": [
    "nested_d = {'key': {'name': 'anushka', 'class': 'DSM'}}\n",
    "nested_d"
   ]
  },
  {
   "cell_type": "markdown",
   "id": "c9e4402d",
   "metadata": {},
   "source": [
    "#### Q7. Using setdefault() method, create key named topics in the given dictionary and also add the value of the key as this list\n",
    "['Python', 'Machine Learning’, 'Deep Learning']"
   ]
  },
  {
   "cell_type": "code",
   "execution_count": 44,
   "id": "1e8cd1e8",
   "metadata": {},
   "outputs": [],
   "source": [
    "d = {\"name\":\"Anushka\"}"
   ]
  },
  {
   "cell_type": "code",
   "execution_count": 45,
   "id": "f3b80b9d",
   "metadata": {},
   "outputs": [],
   "source": [
    "x = d.setdefault(\"topics\",[\"Python\", \"Machine Learning\", \"Deep Learning\"])"
   ]
  },
  {
   "cell_type": "code",
   "execution_count": 46,
   "id": "8af90afe",
   "metadata": {},
   "outputs": [
    {
     "data": {
      "text/plain": [
       "['Python', 'Machine Learning', 'Deep Learning']"
      ]
     },
     "execution_count": 46,
     "metadata": {},
     "output_type": "execute_result"
    }
   ],
   "source": [
    "x"
   ]
  },
  {
   "cell_type": "markdown",
   "id": "bfee297c",
   "metadata": {},
   "source": [
    "#### Q8. What are the three view objects in dictionaries? Use the three in-built methods in python to display these three view objects for the given dictionary.\n",
    "\n",
    "dict1 = {'Sport': 'Cricket' , 'Teams': ['India', 'Australia', 'England', 'South Africa', 'Sri Lanka', 'New Zealand']}"
   ]
  },
  {
   "cell_type": "markdown",
   "id": "536d96fd",
   "metadata": {},
   "source": [
    "The Three main view objects in dictionaries are: \n",
    "- keys\n",
    "- values\n",
    "- items"
   ]
  },
  {
   "cell_type": "code",
   "execution_count": 47,
   "id": "23b84a85",
   "metadata": {},
   "outputs": [],
   "source": [
    "dict1 = {'Sport': 'Cricket' , 'Teams': ['India', 'Australia', 'England', 'South Africa', 'Sri Lanka', 'New Zealand']}"
   ]
  },
  {
   "cell_type": "code",
   "execution_count": 48,
   "id": "6ae1637b",
   "metadata": {},
   "outputs": [
    {
     "data": {
      "text/plain": [
       "dict_keys(['Sport', 'Teams'])"
      ]
     },
     "execution_count": 48,
     "metadata": {},
     "output_type": "execute_result"
    }
   ],
   "source": [
    "dict1.keys()"
   ]
  },
  {
   "cell_type": "code",
   "execution_count": 49,
   "id": "b1348723",
   "metadata": {},
   "outputs": [
    {
     "data": {
      "text/plain": [
       "dict_values(['Cricket', ['India', 'Australia', 'England', 'South Africa', 'Sri Lanka', 'New Zealand']])"
      ]
     },
     "execution_count": 49,
     "metadata": {},
     "output_type": "execute_result"
    }
   ],
   "source": [
    "dict1.values()"
   ]
  },
  {
   "cell_type": "code",
   "execution_count": 50,
   "id": "caff3bfb",
   "metadata": {},
   "outputs": [
    {
     "data": {
      "text/plain": [
       "dict_items([('Sport', 'Cricket'), ('Teams', ['India', 'Australia', 'England', 'South Africa', 'Sri Lanka', 'New Zealand'])])"
      ]
     },
     "execution_count": 50,
     "metadata": {},
     "output_type": "execute_result"
    }
   ],
   "source": [
    "dict1.items()"
   ]
  }
 ],
 "metadata": {
  "kernelspec": {
   "display_name": "Python 3",
   "language": "python",
   "name": "python3"
  },
  "language_info": {
   "codemirror_mode": {
    "name": "ipython",
    "version": 3
   },
   "file_extension": ".py",
   "mimetype": "text/x-python",
   "name": "python",
   "nbconvert_exporter": "python",
   "pygments_lexer": "ipython3",
   "version": "3.8.8"
  }
 },
 "nbformat": 4,
 "nbformat_minor": 5
}
