{
 "cells": [
  {
   "cell_type": "markdown",
   "id": "63ddb0c5",
   "metadata": {},
   "source": [
    "Python by deafault doesnt support abstract class but we have abc classes for this purpose.\n",
    "<br>ABC - Abstract Base Classes\n",
    "<br>Method which only have declaration and no body are called abstract methods and class which contain such methods are called abstract classes"
   ]
  },
  {
   "cell_type": "code",
   "execution_count": 2,
   "id": "7aeb5f37",
   "metadata": {},
   "outputs": [],
   "source": [
    "import abc\n",
    "class pwskills:\n",
    "    \n",
    "    @abc.abstractmethod\n",
    "    def student_details(self):\n",
    "        pass\n",
    "    \n",
    "    @abc.abstractmethod\n",
    "    def student_assignment(self):\n",
    "        pass\n",
    "\n",
    "    @abc.abstractmethod\n",
    "    def student_marks(self):\n",
    "        pass"
   ]
  },
  {
   "cell_type": "code",
   "execution_count": 3,
   "id": "2b2712ba",
   "metadata": {},
   "outputs": [],
   "source": [
    "class data_science(pwskills):\n",
    "    \n",
    "    def student_details(self):\n",
    "        return \"it will try to return details of data science masters\"\n",
    "    \n",
    "    def student_assignment(self):\n",
    "        return \"it will return details of student assignment for data science masters\" "
   ]
  },
  {
   "cell_type": "code",
   "execution_count": 6,
   "id": "d22e8b26",
   "metadata": {},
   "outputs": [],
   "source": [
    "class web_dev(pwskills):\n",
    "    \n",
    "    def student_details(self):\n",
    "        return \"This will return details of web dev\"\n",
    "    \n",
    "    def student_assignment(self):\n",
    "        return \"This will return marks of web dev class\""
   ]
  },
  {
   "cell_type": "code",
   "execution_count": 7,
   "id": "3844f0a3",
   "metadata": {},
   "outputs": [
    {
     "data": {
      "text/plain": [
       "'it will try to return details of data science masters'"
      ]
     },
     "execution_count": 7,
     "metadata": {},
     "output_type": "execute_result"
    }
   ],
   "source": [
    "ds = data_science()\n",
    "ds.student_details()"
   ]
  },
  {
   "cell_type": "code",
   "execution_count": 8,
   "id": "49507bef",
   "metadata": {
    "scrolled": true
   },
   "outputs": [
    {
     "data": {
      "text/plain": [
       "'This will return details of web dev'"
      ]
     },
     "execution_count": 8,
     "metadata": {},
     "output_type": "execute_result"
    }
   ],
   "source": [
    "wb = web_dev()\n",
    "wb.student_details()"
   ]
  }
 ],
 "metadata": {
  "kernelspec": {
   "display_name": "Python 3",
   "language": "python",
   "name": "python3"
  },
  "language_info": {
   "codemirror_mode": {
    "name": "ipython",
    "version": 3
   },
   "file_extension": ".py",
   "mimetype": "text/x-python",
   "name": "python",
   "nbconvert_exporter": "python",
   "pygments_lexer": "ipython3",
   "version": "3.8.8"
  }
 },
 "nbformat": 4,
 "nbformat_minor": 5
}
