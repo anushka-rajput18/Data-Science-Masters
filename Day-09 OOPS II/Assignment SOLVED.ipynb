{
 "cells": [
  {
   "cell_type": "markdown",
   "id": "144998b0",
   "metadata": {},
   "source": [
    "**Q1, Create a vehicle class with an init method having instance variables as name_of_vehicle, max_speed\n",
    "and average_of_vehicle.**"
   ]
  },
  {
   "cell_type": "code",
   "execution_count": 5,
   "id": "c124d51b",
   "metadata": {},
   "outputs": [],
   "source": [
    "class vehicle:\n",
    "    def __init__(self, name_of_vehicle, max_speed, average_of_vehicle):\n",
    "        self.name_of_vehicle = name_of_vehicle\n",
    "        self.max_speed = max_speed\n",
    "        self.average_of_vehicle = average_of_vehicle\n",
    "\n"
   ]
  },
  {
   "cell_type": "markdown",
   "id": "78978626",
   "metadata": {},
   "source": [
    "**Q2. Create a child class car from the vehicle class created in Que 1, which will inherit the vehicle class.\n",
    "Create a method named seating_capacity which takes capacity as an argument and returns the name of\n",
    "the vehicle and its seating capacity.**"
   ]
  },
  {
   "cell_type": "code",
   "execution_count": 10,
   "id": "f5036e5e",
   "metadata": {},
   "outputs": [
    {
     "name": "stdout",
     "output_type": "stream",
     "text": [
      "Seating capacity =  6\n"
     ]
    },
    {
     "data": {
      "text/plain": [
       "'car'"
      ]
     },
     "execution_count": 10,
     "metadata": {},
     "output_type": "execute_result"
    }
   ],
   "source": [
    "class car(vehicle):\n",
    "    def seating_capacity(self, capacity):\n",
    "        print(\"Seating capacity = \",capacity)\n",
    "        \n",
    "obj = car(\"car\", 120, 50)\n",
    "obj.seating_capacity(6)\n",
    "obj.name_of_vehicle"
   ]
  },
  {
   "cell_type": "markdown",
   "id": "9f5b5027",
   "metadata": {},
   "source": [
    "**Q3. What is multiple inheritance? Write a python code to demonstrate multiple inheritance.**"
   ]
  },
  {
   "cell_type": "markdown",
   "id": "0c1c830b",
   "metadata": {},
   "source": [
    "Multiple Inheritance is a feature of C++ where a class can inherit from more than one classes.  The constructors of inherited classes are called in the same order in which they are inherited. For example, in the following program, B’s constructor is called before A’s constructor.\n",
    "\n",
    "A class can be derived from more than one base class."
   ]
  },
  {
   "cell_type": "code",
   "execution_count": 11,
   "id": "af1e6474",
   "metadata": {},
   "outputs": [
    {
     "name": "stdout",
     "output_type": "stream",
     "text": [
      "Feature 1 working\n",
      "Feature 2 working\n"
     ]
    }
   ],
   "source": [
    "class A: \n",
    "    def feature1(self):\n",
    "        print(\"Feature 1 working\")\n",
    "        \n",
    "class B: \n",
    "    def feature2(self):\n",
    "        print(\"Feature 2 working\")\n",
    "        \n",
    "class C(A,B):\n",
    "    pass\n",
    "\n",
    "obj = C()\n",
    "obj.feature1()\n",
    "obj.feature2()"
   ]
  },
  {
   "cell_type": "markdown",
   "id": "0f7f2e24",
   "metadata": {},
   "source": [
    "**Q4. What are getter and setter in python? Create a class and create a getter and a setter method in this\n",
    "class.**"
   ]
  },
  {
   "cell_type": "markdown",
   "id": "c3bf81eb",
   "metadata": {},
   "source": [
    "In Python, getters and setters are methods used to get and set the value of an attribute or variable in a class. They allow controlled access to class attributes and provide a way to modify or retrieve values based on specific conditions."
   ]
  },
  {
   "cell_type": "code",
   "execution_count": 14,
   "id": "9f08d075",
   "metadata": {},
   "outputs": [
    {
     "name": "stdout",
     "output_type": "stream",
     "text": [
      "Anushka\n",
      "Anu\n"
     ]
    }
   ],
   "source": [
    "class Student:\n",
    "    def __init__(self,name):\n",
    "        self.name = name\n",
    "        \n",
    "    #getter method to get the value of name\n",
    "    def get_name(self):\n",
    "        return self.name\n",
    "    \n",
    "    #setter method to set new name\n",
    "    def set_name(self, new_name):\n",
    "        self.name = new_name\n",
    "        \n",
    "stu = Student(\"Anushka\")\n",
    "print(stu.get_name())\n",
    "\n",
    "stu.set_name(\"Anu\")\n",
    "print(stu.get_name())"
   ]
  },
  {
   "cell_type": "markdown",
   "id": "e9de9aa3",
   "metadata": {},
   "source": [
    "**Q5.What is method overriding in python? Write a python code to demonstrate method overriding.**"
   ]
  },
  {
   "cell_type": "markdown",
   "id": "4d220535",
   "metadata": {},
   "source": [
    "Method overriding is a feature of object-oriented programming where a subclass can provide its own implementation of a method that is already defined in its superclass. When a method is overridden, the implementation of the method in the subclass takes precedence over the implementation in the superclass."
   ]
  },
  {
   "cell_type": "code",
   "execution_count": 15,
   "id": "e3e2f9e7",
   "metadata": {},
   "outputs": [
    {
     "name": "stdout",
     "output_type": "stream",
     "text": [
      "Moving...\n",
      "Running...\n"
     ]
    }
   ],
   "source": [
    "class Animal:\n",
    "    def move(self):\n",
    "        print(\"Moving...\")\n",
    "\n",
    "class Dog(Animal):\n",
    "    def move(self):\n",
    "        print(\"Running...\")\n",
    "        \n",
    "animal1 = Animal()\n",
    "dog1 = Dog()\n",
    "\n",
    "animal1.move()\n",
    "dog1.move() "
   ]
  }
 ],
 "metadata": {
  "kernelspec": {
   "display_name": "Python 3",
   "language": "python",
   "name": "python3"
  },
  "language_info": {
   "codemirror_mode": {
    "name": "ipython",
    "version": 3
   },
   "file_extension": ".py",
   "mimetype": "text/x-python",
   "name": "python",
   "nbconvert_exporter": "python",
   "pygments_lexer": "ipython3",
   "version": "3.8.8"
  }
 },
 "nbformat": 4,
 "nbformat_minor": 5
}
