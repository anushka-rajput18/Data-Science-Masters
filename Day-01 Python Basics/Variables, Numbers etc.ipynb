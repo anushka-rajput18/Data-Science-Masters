{
 "cells": [
  {
   "cell_type": "code",
   "execution_count": 1,
   "id": "f78db0bf",
   "metadata": {},
   "outputs": [],
   "source": [
    "a = 10"
   ]
  },
  {
   "cell_type": "code",
   "execution_count": 2,
   "id": "c5da0b53",
   "metadata": {},
   "outputs": [
    {
     "data": {
      "text/plain": [
       "10"
      ]
     },
     "execution_count": 2,
     "metadata": {},
     "output_type": "execute_result"
    }
   ],
   "source": [
    "a"
   ]
  },
  {
   "cell_type": "code",
   "execution_count": 3,
   "id": "47b5515c",
   "metadata": {},
   "outputs": [],
   "source": [
    "## comments\n",
    "## for single line we use ##\n",
    "# this is a comment"
   ]
  },
  {
   "cell_type": "code",
   "execution_count": 8,
   "id": "c2ac556d",
   "metadata": {},
   "outputs": [
    {
     "name": "stdout",
     "output_type": "stream",
     "text": [
      "Hey\n"
     ]
    }
   ],
   "source": [
    "\"\"\"\n",
    "This is a comment\n",
    "written in\n",
    "more than just one line\n",
    "\"\"\"\n",
    "print(\"Hey\")"
   ]
  },
  {
   "cell_type": "markdown",
   "id": "a2735e9c",
   "metadata": {},
   "source": [
    "# hello\n",
    "## hello\n",
    "### hello\n",
    "1. Hello guys"
   ]
  },
  {
   "cell_type": "markdown",
   "id": "6b8b44ac",
   "metadata": {},
   "source": [
    "## Numbers"
   ]
  },
  {
   "cell_type": "code",
   "execution_count": 10,
   "id": "c9907569",
   "metadata": {},
   "outputs": [
    {
     "name": "stdout",
     "output_type": "stream",
     "text": [
      "4\n"
     ]
    }
   ],
   "source": [
    "print(1+3)"
   ]
  },
  {
   "cell_type": "code",
   "execution_count": 11,
   "id": "df6a1822",
   "metadata": {},
   "outputs": [
    {
     "name": "stdout",
     "output_type": "stream",
     "text": [
      "5\n"
     ]
    }
   ],
   "source": [
    "a = 5\n",
    "print(a)"
   ]
  },
  {
   "cell_type": "code",
   "execution_count": 12,
   "id": "b3dc160c",
   "metadata": {},
   "outputs": [
    {
     "name": "stdout",
     "output_type": "stream",
     "text": [
      "Hello World\n"
     ]
    }
   ],
   "source": [
    "print(\"Hello World\")"
   ]
  },
  {
   "cell_type": "code",
   "execution_count": 14,
   "id": "429be8e6",
   "metadata": {},
   "outputs": [
    {
     "name": "stdout",
     "output_type": "stream",
     "text": [
      "Hello \n",
      "I am Anushka\n"
     ]
    }
   ],
   "source": [
    "print(\"Hello \\nI am Anushka\")"
   ]
  },
  {
   "cell_type": "markdown",
   "id": "bcfa1237",
   "metadata": {},
   "source": [
    "## Variable assignment "
   ]
  },
  {
   "cell_type": "code",
   "execution_count": 15,
   "id": "7b172ca3",
   "metadata": {},
   "outputs": [],
   "source": [
    "name = \"Anushka\"\n",
    "degree = \"B.tech\""
   ]
  },
  {
   "cell_type": "code",
   "execution_count": 16,
   "id": "8d599d96",
   "metadata": {},
   "outputs": [
    {
     "data": {
      "text/plain": [
       "'Anushka'"
      ]
     },
     "execution_count": 16,
     "metadata": {},
     "output_type": "execute_result"
    }
   ],
   "source": [
    "name"
   ]
  },
  {
   "cell_type": "code",
   "execution_count": 17,
   "id": "cdc4c071",
   "metadata": {},
   "outputs": [
    {
     "data": {
      "text/plain": [
       "'B.tech'"
      ]
     },
     "execution_count": 17,
     "metadata": {},
     "output_type": "execute_result"
    }
   ],
   "source": [
    "degree"
   ]
  },
  {
   "cell_type": "code",
   "execution_count": 18,
   "id": "b83af144",
   "metadata": {},
   "outputs": [],
   "source": [
    "number = 10"
   ]
  },
  {
   "cell_type": "code",
   "execution_count": 19,
   "id": "cedc7104",
   "metadata": {},
   "outputs": [],
   "source": [
    "number = 20"
   ]
  },
  {
   "cell_type": "code",
   "execution_count": 20,
   "id": "29a9a1e5",
   "metadata": {},
   "outputs": [
    {
     "data": {
      "text/plain": [
       "20"
      ]
     },
     "execution_count": 20,
     "metadata": {},
     "output_type": "execute_result"
    }
   ],
   "source": [
    "number"
   ]
  },
  {
   "cell_type": "code",
   "execution_count": 21,
   "id": "e51b0c07",
   "metadata": {},
   "outputs": [],
   "source": [
    "dec_num = 2.5"
   ]
  },
  {
   "cell_type": "code",
   "execution_count": 22,
   "id": "85366adb",
   "metadata": {},
   "outputs": [
    {
     "data": {
      "text/plain": [
       "2.5"
      ]
     },
     "execution_count": 22,
     "metadata": {},
     "output_type": "execute_result"
    }
   ],
   "source": [
    "dec_num"
   ]
  },
  {
   "cell_type": "code",
   "execution_count": 23,
   "id": "e9bd9dd3",
   "metadata": {},
   "outputs": [
    {
     "data": {
      "text/plain": [
       "float"
      ]
     },
     "execution_count": 23,
     "metadata": {},
     "output_type": "execute_result"
    }
   ],
   "source": [
    "type(dec_num)"
   ]
  },
  {
   "cell_type": "code",
   "execution_count": 24,
   "id": "393df7f5",
   "metadata": {},
   "outputs": [
    {
     "data": {
      "text/plain": [
       "str"
      ]
     },
     "execution_count": 24,
     "metadata": {},
     "output_type": "execute_result"
    }
   ],
   "source": [
    "type(\"hello\")"
   ]
  },
  {
   "cell_type": "code",
   "execution_count": 25,
   "id": "193a897e",
   "metadata": {},
   "outputs": [
    {
     "data": {
      "text/plain": [
       "complex"
      ]
     },
     "execution_count": 25,
     "metadata": {},
     "output_type": "execute_result"
    }
   ],
   "source": [
    "type(1+2j)"
   ]
  },
  {
   "cell_type": "code",
   "execution_count": 26,
   "id": "7010ea21",
   "metadata": {},
   "outputs": [
    {
     "name": "stdout",
     "output_type": "stream",
     "text": [
      "inueron\n",
      "PWSKILLS\n"
     ]
    }
   ],
   "source": [
    "## variables are case sesitive\n",
    "company = 'inueron'\n",
    "COMPANY = 'PWSKILLS'\n",
    "print(company)\n",
    "print(COMPANY)"
   ]
  },
  {
   "cell_type": "code",
   "execution_count": 29,
   "id": "681b8651",
   "metadata": {},
   "outputs": [
    {
     "name": "stdout",
     "output_type": "stream",
     "text": [
      "\n",
      "\n"
     ]
    }
   ],
   "source": [
    "## Reserved keywords\n",
    "'''\n",
    "int, float, len, complex, bool, str, return, yield\n",
    "'''\n",
    "print(\"\\n\")"
   ]
  },
  {
   "cell_type": "code",
   "execution_count": 30,
   "id": "269a1409",
   "metadata": {},
   "outputs": [
    {
     "data": {
      "text/plain": [
       "False"
      ]
     },
     "execution_count": 30,
     "metadata": {},
     "output_type": "execute_result"
    }
   ],
   "source": [
    "True and False"
   ]
  },
  {
   "cell_type": "code",
   "execution_count": 31,
   "id": "95cf5895",
   "metadata": {},
   "outputs": [
    {
     "data": {
      "text/plain": [
       "True"
      ]
     },
     "execution_count": 31,
     "metadata": {},
     "output_type": "execute_result"
    }
   ],
   "source": [
    "True or False"
   ]
  },
  {
   "cell_type": "code",
   "execution_count": 32,
   "id": "83a9ece9",
   "metadata": {},
   "outputs": [
    {
     "data": {
      "text/plain": [
       "False"
      ]
     },
     "execution_count": 32,
     "metadata": {},
     "output_type": "execute_result"
    }
   ],
   "source": [
    "not True"
   ]
  },
  {
   "cell_type": "code",
   "execution_count": 33,
   "id": "5418f72c",
   "metadata": {},
   "outputs": [
    {
     "data": {
      "text/plain": [
       "True"
      ]
     },
     "execution_count": 33,
     "metadata": {},
     "output_type": "execute_result"
    }
   ],
   "source": [
    "not False"
   ]
  },
  {
   "cell_type": "code",
   "execution_count": 34,
   "id": "e982805b",
   "metadata": {},
   "outputs": [
    {
     "data": {
      "text/plain": [
       "bool"
      ]
     },
     "execution_count": 34,
     "metadata": {},
     "output_type": "execute_result"
    }
   ],
   "source": [
    "type(not False)"
   ]
  },
  {
   "cell_type": "code",
   "execution_count": 38,
   "id": "e2c22c89",
   "metadata": {},
   "outputs": [
    {
     "data": {
      "text/plain": [
       "False"
      ]
     },
     "execution_count": 38,
     "metadata": {},
     "output_type": "execute_result"
    }
   ],
   "source": [
    "#Type-Casting\n",
    "bool(0)"
   ]
  },
  {
   "cell_type": "code",
   "execution_count": 36,
   "id": "aab70a14",
   "metadata": {},
   "outputs": [
    {
     "data": {
      "text/plain": [
       "True"
      ]
     },
     "execution_count": 36,
     "metadata": {},
     "output_type": "execute_result"
    }
   ],
   "source": [
    "bool(1)"
   ]
  },
  {
   "cell_type": "code",
   "execution_count": 37,
   "id": "c4e9164d",
   "metadata": {},
   "outputs": [
    {
     "name": "stdout",
     "output_type": "stream",
     "text": [
      "True\n"
     ]
    }
   ],
   "source": [
    "a = 1\n",
    "if bool(a) == True:\n",
    "    print(\"True\")"
   ]
  },
  {
   "cell_type": "markdown",
   "id": "4302bd39",
   "metadata": {},
   "source": [
    "## Dynamic Typing"
   ]
  },
  {
   "cell_type": "code",
   "execution_count": 40,
   "id": "8f93cf92",
   "metadata": {},
   "outputs": [],
   "source": [
    "a = 12\n",
    "str1 = \"Anushka\"\n",
    "a = \"var\""
   ]
  },
  {
   "cell_type": "code",
   "execution_count": 41,
   "id": "93c4d883",
   "metadata": {},
   "outputs": [
    {
     "name": "stdout",
     "output_type": "stream",
     "text": [
      "<class 'str'>\n"
     ]
    }
   ],
   "source": [
    "print(type(a))"
   ]
  },
  {
   "cell_type": "code",
   "execution_count": 42,
   "id": "bfa71a35",
   "metadata": {},
   "outputs": [],
   "source": [
    "## concatination between different types"
   ]
  },
  {
   "cell_type": "code",
   "execution_count": 43,
   "id": "8f57cfd1",
   "metadata": {},
   "outputs": [
    {
     "data": {
      "text/plain": [
       "'11'"
      ]
     },
     "execution_count": 43,
     "metadata": {},
     "output_type": "execute_result"
    }
   ],
   "source": [
    "\"1\" + \"1\"\n"
   ]
  },
  {
   "cell_type": "code",
   "execution_count": 44,
   "id": "e13c8a79",
   "metadata": {},
   "outputs": [
    {
     "data": {
      "text/plain": [
       "2"
      ]
     },
     "execution_count": 44,
     "metadata": {},
     "output_type": "execute_result"
    }
   ],
   "source": [
    "int(\"1\") + int(\"1\")"
   ]
  },
  {
   "cell_type": "code",
   "execution_count": 45,
   "id": "35b3c105",
   "metadata": {},
   "outputs": [],
   "source": [
    "# int(\"1\") + 1\n",
    "# this will throw error"
   ]
  },
  {
   "cell_type": "code",
   "execution_count": 46,
   "id": "496f4665",
   "metadata": {},
   "outputs": [
    {
     "data": {
      "text/plain": [
       "'1111111111'"
      ]
     },
     "execution_count": 46,
     "metadata": {},
     "output_type": "execute_result"
    }
   ],
   "source": [
    "\"1\" * 10"
   ]
  },
  {
   "cell_type": "markdown",
   "id": "37eab783",
   "metadata": {},
   "source": [
    "### Print Statements"
   ]
  },
  {
   "cell_type": "code",
   "execution_count": 1,
   "id": "23d649f7",
   "metadata": {},
   "outputs": [
    {
     "name": "stdout",
     "output_type": "stream",
     "text": [
      "Hello World\n"
     ]
    }
   ],
   "source": [
    "print(\"Hello World\")"
   ]
  },
  {
   "cell_type": "code",
   "execution_count": 2,
   "id": "8414cb01",
   "metadata": {},
   "outputs": [
    {
     "name": "stdout",
     "output_type": "stream",
     "text": [
      "123\n"
     ]
    }
   ],
   "source": [
    "print(123)"
   ]
  },
  {
   "cell_type": "code",
   "execution_count": 3,
   "id": "f2491038",
   "metadata": {},
   "outputs": [
    {
     "name": "stdout",
     "output_type": "stream",
     "text": [
      "Hello\n"
     ]
    }
   ],
   "source": [
    "print('Hello')"
   ]
  },
  {
   "cell_type": "code",
   "execution_count": 7,
   "id": "a42d2d07",
   "metadata": {},
   "outputs": [
    {
     "name": "stdout",
     "output_type": "stream",
     "text": [
      "My age is: 21\n"
     ]
    }
   ],
   "source": [
    "age = 21\n",
    "print(\"My age is:\",age)"
   ]
  },
  {
   "cell_type": "code",
   "execution_count": 11,
   "id": "88ef13a2",
   "metadata": {},
   "outputs": [
    {
     "name": "stdout",
     "output_type": "stream",
     "text": [
      "My age is: 21\n"
     ]
    }
   ],
   "source": [
    "age = 21\n",
    "print(f\"My age is: {age}\")   #fstring in python"
   ]
  },
  {
   "cell_type": "code",
   "execution_count": 12,
   "id": "fd09bca1",
   "metadata": {},
   "outputs": [
    {
     "name": "stdout",
     "output_type": "stream",
     "text": [
      "My name is Anushka and age is 21\n"
     ]
    }
   ],
   "source": [
    "## format()\n",
    "name = \"Anushka\"\n",
    "age = 21\n",
    "print(\"My name is {} and age is {}\".format(name,age))"
   ]
  },
  {
   "cell_type": "code",
   "execution_count": 15,
   "id": "54de8cdd",
   "metadata": {},
   "outputs": [
    {
     "name": "stdout",
     "output_type": "stream",
     "text": [
      "My name is Anushka and age is 21\n"
     ]
    }
   ],
   "source": [
    "## placeholder\n",
    "print(\"My name is {firstname} and age is {firstage}\".format(firstname=name,firstage=age))"
   ]
  },
  {
   "cell_type": "code",
   "execution_count": 16,
   "id": "0b531e41",
   "metadata": {},
   "outputs": [
    {
     "name": "stdout",
     "output_type": "stream",
     "text": [
      "My age is 21 and i have completed: my degree of B.tech with the name of Anushka Rajput\n"
     ]
    }
   ],
   "source": [
    "name = \"Anushka Rajput\"\n",
    "age = 21\n",
    "degree = \"B.tech\"\n",
    "print(\"My age is {firstage} and i have completed: my degree of {firstdegree} with the name of {firstname}\".format(firstname=name,firstage=age,firstdegree=degree))"
   ]
  },
  {
   "cell_type": "code",
   "execution_count": null,
   "id": "58513ed5",
   "metadata": {},
   "outputs": [],
   "source": []
  }
 ],
 "metadata": {
  "kernelspec": {
   "display_name": "Python 3",
   "language": "python",
   "name": "python3"
  },
  "language_info": {
   "codemirror_mode": {
    "name": "ipython",
    "version": 3
   },
   "file_extension": ".py",
   "mimetype": "text/x-python",
   "name": "python",
   "nbconvert_exporter": "python",
   "pygments_lexer": "ipython3",
   "version": "3.8.8"
  }
 },
 "nbformat": 4,
 "nbformat_minor": 5
}
