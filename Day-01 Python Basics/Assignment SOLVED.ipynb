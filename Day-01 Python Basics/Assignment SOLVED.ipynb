{
 "cells": [
  {
   "cell_type": "markdown",
   "id": "14e79c25",
   "metadata": {},
   "source": [
    "#### Q.1 Who developed Python Programming Language?"
   ]
  },
  {
   "cell_type": "markdown",
   "id": "f4d09a5f",
   "metadata": {},
   "source": [
    "**Guido van Rossum** developed Python in late **1980s**"
   ]
  },
  {
   "cell_type": "markdown",
   "id": "1addb49a",
   "metadata": {},
   "source": [
    "#### Q.2 Which type of Programming does python support ?"
   ]
  },
  {
   "cell_type": "markdown",
   "id": "b46e01c9",
   "metadata": {},
   "source": [
    "Python is a high level programming language which support following programming paradigms :\n",
    "- Procedural Programming\n",
    "- Object-oriented programming\n",
    "- Functional programming "
   ]
  },
  {
   "cell_type": "markdown",
   "id": "9e198414",
   "metadata": {},
   "source": [
    "#### Q.3 Is Python case sensitive when dealing with identifiers ?"
   ]
  },
  {
   "cell_type": "markdown",
   "id": "8d987038",
   "metadata": {},
   "source": [
    "Yes, Python is a case senstive language when dealing with identifiers"
   ]
  },
  {
   "cell_type": "markdown",
   "id": "7e18d7b1",
   "metadata": {},
   "source": [
    "#### Q.4 What is the correct extension of the python file?"
   ]
  },
  {
   "cell_type": "markdown",
   "id": "62aa1c4d",
   "metadata": {},
   "source": [
    ".py is the correct python file extension"
   ]
  },
  {
   "cell_type": "markdown",
   "id": "76720512",
   "metadata": {},
   "source": [
    "#### Q.5 Is Python code compiled or interpreted ?"
   ]
  },
  {
   "cell_type": "markdown",
   "id": "e413522b",
   "metadata": {},
   "source": [
    "Python is a interpreting language "
   ]
  },
  {
   "cell_type": "markdown",
   "id": "3073efcb",
   "metadata": {},
   "source": [
    "#### Q.6 Name a few blocks of code used to define in python language ?"
   ]
  },
  {
   "cell_type": "markdown",
   "id": "6b492f86",
   "metadata": {},
   "source": [
    "- a module\n",
    "- a function\n",
    "- class derfinition"
   ]
  },
  {
   "cell_type": "markdown",
   "id": "5362c774",
   "metadata": {},
   "source": [
    "#### Q.7 State a character used to give single-line comments in Python"
   ]
  },
  {
   "cell_type": "markdown",
   "id": "d7db8c1e",
   "metadata": {},
   "source": [
    "'#' character is used to give single-line comments in Python"
   ]
  },
  {
   "cell_type": "markdown",
   "id": "ae7c6d52",
   "metadata": {},
   "source": [
    "#### Q.8 Mention functions which can help us to find the version of python that we are currently working on??"
   ]
  },
  {
   "cell_type": "markdown",
   "id": "e105d167",
   "metadata": {},
   "source": [
    "- sys.version method \n",
    "- python_version() function\n",
    "- Python -v command"
   ]
  },
  {
   "cell_type": "markdown",
   "id": "9bcf7fa6",
   "metadata": {},
   "source": [
    "#### Q.9 Python supports the creation of anonymous function at runtime, using a construct called "
   ]
  },
  {
   "cell_type": "markdown",
   "id": "bfaf1c87",
   "metadata": {},
   "source": [
    "*lambda* "
   ]
  },
  {
   "cell_type": "markdown",
   "id": "79ef5e2e",
   "metadata": {},
   "source": [
    "#### Q.10 What does pip stand for python ?"
   ]
  },
  {
   "cell_type": "markdown",
   "id": "ce99b30c",
   "metadata": {},
   "source": [
    "pip install packages"
   ]
  },
  {
   "cell_type": "markdown",
   "id": "6e302021",
   "metadata": {},
   "source": [
    "#### Q.11 Mention a few built-in functions in python ?"
   ]
  },
  {
   "cell_type": "markdown",
   "id": "496494bf",
   "metadata": {},
   "source": [
    "- type()\n",
    "- print()\n",
    "- input()\n",
    "- abs()\n",
    "- pow()\n",
    "- sorted()\n",
    "- max()\n",
    "- round()"
   ]
  },
  {
   "cell_type": "markdown",
   "id": "7c071e76",
   "metadata": {},
   "source": [
    "#### Q.12 What is the maximum possible length of an identifer in python"
   ]
  },
  {
   "cell_type": "markdown",
   "id": "d193fa42",
   "metadata": {},
   "source": [
    "79 characters"
   ]
  },
  {
   "cell_type": "markdown",
   "id": "7641ceb6",
   "metadata": {},
   "source": [
    "#### Q.13 What are the benefits of using Python?"
   ]
  },
  {
   "cell_type": "markdown",
   "id": "659dae25",
   "metadata": {},
   "source": [
    "- Open source and large active community\n",
    "- User-friendly\n",
    "- Dynamically typed language\n",
    "- Portable and interactive\n",
    "- Extensive library support"
   ]
  },
  {
   "cell_type": "markdown",
   "id": "cc4c9e04",
   "metadata": {},
   "source": [
    "#### Q.14 How is memory managed in python?"
   ]
  },
  {
   "cell_type": "markdown",
   "id": "e7d5f840",
   "metadata": {},
   "source": [
    "Memory is managed automatically by interpreter. Python has a private heap that stores our program's objects and data structures."
   ]
  },
  {
   "cell_type": "markdown",
   "id": "73fa4f48",
   "metadata": {},
   "source": [
    "#### Q.15 How to install python on windows and set path variables ?"
   ]
  },
  {
   "cell_type": "markdown",
   "id": "fc6138f0",
   "metadata": {},
   "source": [
    "1. Download the latest version of Python for Windows from the official Python website (https://www.python.org/downloads/windows/). Choose the appropriate version (32-bit or 64-bit) for your Windows operating system.\n",
    "\n",
    "2. Run the installer and follow the instructions to install Python on your system. During the installation process, make sure to select the option to \"Add Python to PATH\".\n",
    "\n",
    "3. Once the installation is complete, open the Command Prompt by typing \"cmd\" in the search bar and pressing Enter.\n",
    "\n",
    "4. Type \"python\" in the Command Prompt and press Enter. If Python is installed correctly and the PATH variable is set, you should see the Python version number and a prompt (\">>>\").\n",
    "\n",
    "5. To set the PATH variable manually, follow these steps:\n",
    "\n",
    "    - Right-click on \"Computer\" or \"This PC\" and select \"Properties\".\n",
    "    - Click on \"Advanced system settings\" and then click on \"Environment Variables\".\n",
    "    - Under \"System variables\", scroll down and find the \"Path\" variable. Click on \"Edit\".\n",
    "    - Add the path to the Python installation directory (for example, \"C:\\Python39\") to the list of paths in the \"Variable value\" field.\n",
    "    - Click \"OK\" to save the changes."
   ]
  },
  {
   "cell_type": "markdown",
   "id": "ca35f81f",
   "metadata": {},
   "source": [
    "#### Q.16 Is indentation required in python ?"
   ]
  },
  {
   "cell_type": "markdown",
   "id": "1a3f428b",
   "metadata": {},
   "source": [
    "Yes, indentation is required in Python. It is a very important part of the Python syntax and is used to define the structure of the code."
   ]
  }
 ],
 "metadata": {
  "kernelspec": {
   "display_name": "Python 3",
   "language": "python",
   "name": "python3"
  },
  "language_info": {
   "codemirror_mode": {
    "name": "ipython",
    "version": 3
   },
   "file_extension": ".py",
   "mimetype": "text/x-python",
   "name": "python",
   "nbconvert_exporter": "python",
   "pygments_lexer": "ipython3",
   "version": "3.8.8"
  }
 },
 "nbformat": 4,
 "nbformat_minor": 5
}
