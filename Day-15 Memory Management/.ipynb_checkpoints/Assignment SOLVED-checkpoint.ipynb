{
 "cells": [
  {
   "cell_type": "markdown",
   "id": "de37c173",
   "metadata": {},
   "source": [
    "**Q1. What is multiprocessing in python? Why is it useful?**"
   ]
  },
  {
   "cell_type": "markdown",
   "id": "369494b5",
   "metadata": {},
   "source": [
    "Multiprocessing refers to the ability of a system to support more than one processor at the same time. Applications in a multiprocessing system are broken to smaller routines that run independently. The operating system allocates these threads to the processors improving performance of the system.\n",
    "\n",
    "Multiprocessing is useful because it can significantly improve the performance of CPU-bound tasks, such as data processing, numerical computations, and machine learning. By using multiple processes or threads, the program can distribute the workload across multiple cores or processors, which can result in faster execution times."
   ]
  },
  {
   "cell_type": "markdown",
   "id": "e898947b",
   "metadata": {},
   "source": [
    "**Q2. What are the differences between multiprocessing and multithreading?**"
   ]
  },
  {
   "cell_type": "markdown",
   "id": "3a2f8228",
   "metadata": {},
   "source": [
    "Both Multiprocessing and Multithreading are used to increase the computing power of a system. \n",
    "\n",
    "**Multiprocessing**: Multiprocessing is a system that has more than one or two processors. In Multiprocessing, CPUs are added for increasing computing speed of the system. Because of Multiprocessing, There are many processes are executed simultaneously.\n",
    "\n",
    "**Multithreading**: Multithreading is a system in which multiple threads are created of a process for increasing the computing speed of the system. In multithreading, many threads of a process are executed simultaneously and process creation in multithreading is done according to economical. "
   ]
  },
  {
   "cell_type": "markdown",
   "id": "16b57f7f",
   "metadata": {},
   "source": [
    "**Q3. Write a python code to create a process using the multiprocessing module.**"
   ]
  },
  {
   "cell_type": "code",
   "execution_count": 1,
   "id": "ee43129c",
   "metadata": {},
   "outputs": [
    {
     "name": "stdout",
     "output_type": "stream",
     "text": [
      "this is my main prod\n"
     ]
    }
   ],
   "source": [
    "import multiprocessing\n",
    "\n",
    "def test():\n",
    "    print(\"this is my multiprocessing prog\")\n",
    "    \n",
    "if __name__ == \"__main__\":\n",
    "    m = multiprocessing.Process(target=test)\n",
    "    print(\"this is my main prod\")\n",
    "    m.start()\n",
    "    m.join()"
   ]
  },
  {
   "cell_type": "markdown",
   "id": "e146e45d",
   "metadata": {},
   "source": [
    "**Q4. What is a multiprocessing pool in python? Why is it used?**"
   ]
  },
  {
   "cell_type": "markdown",
   "id": "9947f1eb",
   "metadata": {},
   "source": [
    "A multiprocessing pool in Python is a way of creating multiple worker processes that can perform tasks concurrently. The multiprocessing module provides a Pool class that can be used to create a pool of worker processes. The Pool class provides methods such as apply(), map(), and starmap() to execute functions in parallel across the worker processes. Multiprocessing pools are useful for improving the performance of CPU-bound tasks by distributing the workload across multiple processes."
   ]
  },
  {
   "cell_type": "markdown",
   "id": "abb6545c",
   "metadata": {},
   "source": [
    "**Q5. How can we create a pool of worker processes in python using the multiprocessing module?**"
   ]
  },
  {
   "cell_type": "code",
   "execution_count": null,
   "id": "911dbba7",
   "metadata": {},
   "outputs": [],
   "source": [
    "import multiprocessing\n",
    "\n",
    "def square(x):\n",
    "    return x * x\n",
    "\n",
    "if __name__ == '__main__':\n",
    "    # create a pool with 4 worker processes\n",
    "    with multiprocessing.Pool(processes=4) as pool:\n",
    "        # apply the square function to a list of numbers\n",
    "        results = pool.map(square, [1, 2, 3, 4, 5])\n",
    "\n",
    "    # print the results\n",
    "    print(results)"
   ]
  },
  {
   "cell_type": "markdown",
   "id": "f9fbf5be",
   "metadata": {},
   "source": [
    "**Q6. Write a python program to create 4 processes, each process should print a different number using the multiprocessing module in python.**"
   ]
  },
  {
   "cell_type": "code",
   "execution_count": null,
   "id": "08285b6e",
   "metadata": {},
   "outputs": [],
   "source": [
    "import multiprocessing\n",
    "\n",
    "def print_number(num):\n",
    "    print(f\"Number: {num}\")\n",
    "\n",
    "if __name__ == '__main__':\n",
    "    # create 4 processes\n",
    "    with multiprocessing.Pool(processes=4) as pool:\n",
    "        pool.map(print_number, [1, 2, 3, 4])"
   ]
  }
 ],
 "metadata": {
  "kernelspec": {
   "display_name": "Python 3",
   "language": "python",
   "name": "python3"
  },
  "language_info": {
   "codemirror_mode": {
    "name": "ipython",
    "version": 3
   },
   "file_extension": ".py",
   "mimetype": "text/x-python",
   "name": "python",
   "nbconvert_exporter": "python",
   "pygments_lexer": "ipython3",
   "version": "3.8.8"
  }
 },
 "nbformat": 4,
 "nbformat_minor": 5
}
