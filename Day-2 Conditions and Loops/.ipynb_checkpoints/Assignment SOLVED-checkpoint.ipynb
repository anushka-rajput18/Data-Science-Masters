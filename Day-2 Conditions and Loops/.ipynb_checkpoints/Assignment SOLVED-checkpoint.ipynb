{
 "cells": [
  {
   "cell_type": "markdown",
   "id": "79d48da2",
   "metadata": {},
   "source": [
    "#### Q.1 Write a program to accept percentage from the user and display the grade according to the criteria:"
   ]
  },
  {
   "cell_type": "code",
   "execution_count": 1,
   "id": "f9677391",
   "metadata": {},
   "outputs": [
    {
     "name": "stdout",
     "output_type": "stream",
     "text": [
      "Enter your percentage: 72\n",
      "C\n"
     ]
    }
   ],
   "source": [
    "per = float(input(\"Enter your percentage: \"))\n",
    "if per>90:\n",
    "    print(\"A\")\n",
    "elif per>80 and per<=90:\n",
    "    print(\"B\")\n",
    "elif per>=60 and per<=80:\n",
    "    print(\"C\")\n",
    "else:\n",
    "    print(\"D\")"
   ]
  },
  {
   "cell_type": "markdown",
   "id": "47930951",
   "metadata": {},
   "source": [
    "#### Q.2 Write a program to accept the cost price of a bike and display the road tax to be paid according to the criteria"
   ]
  },
  {
   "cell_type": "code",
   "execution_count": 3,
   "id": "657d02e7",
   "metadata": {},
   "outputs": [
    {
     "name": "stdout",
     "output_type": "stream",
     "text": [
      "Enter Cost price of bike: 200000\n",
      "15%\n"
     ]
    }
   ],
   "source": [
    "cost_p = int(input(\"Enter Cost price of bike: \"))\n",
    "if cost_p>100000:\n",
    "    print(\"15%\")\n",
    "elif cost_p>50000 and cost_p<=100000:\n",
    "    print(\"10%\")\n",
    "else:\n",
    "    print(\"5%\")"
   ]
  },
  {
   "cell_type": "markdown",
   "id": "de46c81a",
   "metadata": {},
   "source": [
    "#### Q.3 Accept any city from the user and display monuments of that city"
   ]
  },
  {
   "cell_type": "code",
   "execution_count": 6,
   "id": "df5b97b8",
   "metadata": {},
   "outputs": [
    {
     "name": "stdout",
     "output_type": "stream",
     "text": [
      "Enter any city: Agra\n",
      "Taj Mahal\n"
     ]
    }
   ],
   "source": [
    "city = input(\"Enter any city: \")\n",
    "if city == 'Delhi':\n",
    "    print(\"Red Fort\")\n",
    "elif city =='Agra':\n",
    "    print(\"Taj Mahal\")\n",
    "elif city =='Jaipur':\n",
    "    print(\"Jal Mahal\")\n",
    "else:\n",
    "    print(\"Enter only Delhi,Agra, Jaipur\")"
   ]
  },
  {
   "cell_type": "markdown",
   "id": "e017c024",
   "metadata": {},
   "source": [
    "#### Q.4 Check how many times a given number can be divided by 3 before it is less than or equal to 10"
   ]
  },
  {
   "cell_type": "code",
   "execution_count": 11,
   "id": "cfc31dc6",
   "metadata": {},
   "outputs": [
    {
     "name": "stdout",
     "output_type": "stream",
     "text": [
      "Enter any number3333\n",
      "count is  6\n"
     ]
    }
   ],
   "source": [
    "num = int(input(\"Enter any number\"))\n",
    "count=0\n",
    "while(num>=10):\n",
    "    num = num//3\n",
    "    count+=1\n",
    "print(\"count is \",count)"
   ]
  },
  {
   "cell_type": "markdown",
   "id": "05ef7302",
   "metadata": {},
   "source": [
    "#### Q.5 Why and when to use while loop in python give a detailed description with example"
   ]
  },
  {
   "cell_type": "markdown",
   "id": "c4f01fb8",
   "metadata": {},
   "source": [
    "A While loop in Python allows a part of the code to be executed repeatedly as long as a given condition is true. The While loop in Python is also called a pre-tested loop. It is typically used when the number of iterations is not known.\n",
    "\n",
    "A Python While loop expression/condition consists of three parts:\n",
    "- A piece of code that needs to be repeated over and over\n",
    "- The while keyword\n",
    "- A condition that translates to either True or False"
   ]
  },
  {
   "cell_type": "code",
   "execution_count": 1,
   "id": "319f7920",
   "metadata": {},
   "outputs": [
    {
     "name": "stdout",
     "output_type": "stream",
     "text": [
      "1\n",
      "2\n",
      "3\n",
      "4\n"
     ]
    }
   ],
   "source": [
    "i = 1\n",
    "while (i<5):\n",
    "    print(i)\n",
    "    i+=1"
   ]
  },
  {
   "cell_type": "markdown",
   "id": "ab20b954",
   "metadata": {},
   "source": [
    "#### Q.6 Use nested while loop to print 3 different pattern"
   ]
  },
  {
   "cell_type": "code",
   "execution_count": 3,
   "id": "308dc14d",
   "metadata": {},
   "outputs": [
    {
     "name": "stdout",
     "output_type": "stream",
     "text": [
      "*\n",
      "**\n",
      "***\n",
      "****\n",
      "*****\n"
     ]
    }
   ],
   "source": [
    "#Pattern 1\n",
    "i = 1\n",
    "while i <= 5:\n",
    "    j = 1\n",
    "    while j <= i:\n",
    "        print('*', end='')\n",
    "        j += 1\n",
    "    print('')\n",
    "    i += 1\n"
   ]
  },
  {
   "cell_type": "code",
   "execution_count": 4,
   "id": "edcb60d5",
   "metadata": {},
   "outputs": [
    {
     "name": "stdout",
     "output_type": "stream",
     "text": [
      "1\n",
      "22\n",
      "333\n",
      "4444\n",
      "55555\n"
     ]
    }
   ],
   "source": [
    "#Pattern 2\n",
    "i = 1\n",
    "while i <= 5:\n",
    "    j = 1\n",
    "    while j <= i:\n",
    "        print(i, end='')\n",
    "        j += 1\n",
    "    print('')\n",
    "    i += 1"
   ]
  },
  {
   "cell_type": "code",
   "execution_count": 6,
   "id": "219ffba3",
   "metadata": {},
   "outputs": [
    {
     "name": "stdout",
     "output_type": "stream",
     "text": [
      "#####\n",
      "####\n",
      "###\n",
      "##\n",
      "#\n"
     ]
    }
   ],
   "source": [
    "#Pattern 3\n",
    "i = 5\n",
    "while i >= 1:\n",
    "    j = 1\n",
    "    while j <= i:\n",
    "        print('#', end='')\n",
    "        j += 1\n",
    "    print('')\n",
    "    i -= 1"
   ]
  },
  {
   "cell_type": "markdown",
   "id": "9166110f",
   "metadata": {},
   "source": [
    "#### Q.7 Reserve a while loop to display numbers from 10 to 1."
   ]
  },
  {
   "cell_type": "code",
   "execution_count": 7,
   "id": "d1c55722",
   "metadata": {},
   "outputs": [
    {
     "name": "stdout",
     "output_type": "stream",
     "text": [
      "10\n",
      "9\n",
      "8\n",
      "7\n",
      "6\n",
      "5\n",
      "4\n",
      "3\n",
      "2\n",
      "1\n"
     ]
    }
   ],
   "source": [
    "i = 10\n",
    "while (i>=1):\n",
    "    print(i)\n",
    "    i-=1"
   ]
  },
  {
   "cell_type": "markdown",
   "id": "5eb8cb34",
   "metadata": {},
   "source": [
    "#### Q.8 Reverse a while loop to display numbers from 10 to 1 "
   ]
  },
  {
   "cell_type": "code",
   "execution_count": 8,
   "id": "54b0cb4d",
   "metadata": {},
   "outputs": [
    {
     "name": "stdout",
     "output_type": "stream",
     "text": [
      "10\n",
      "9\n",
      "8\n",
      "7\n",
      "6\n",
      "5\n",
      "4\n",
      "3\n",
      "2\n",
      "1\n"
     ]
    }
   ],
   "source": [
    "i = 10\n",
    "while (i>=1):\n",
    "    print(i)\n",
    "    i-=1"
   ]
  }
 ],
 "metadata": {
  "kernelspec": {
   "display_name": "Python 3",
   "language": "python",
   "name": "python3"
  },
  "language_info": {
   "codemirror_mode": {
    "name": "ipython",
    "version": 3
   },
   "file_extension": ".py",
   "mimetype": "text/x-python",
   "name": "python",
   "nbconvert_exporter": "python",
   "pygments_lexer": "ipython3",
   "version": "3.8.8"
  }
 },
 "nbformat": 4,
 "nbformat_minor": 5
}
