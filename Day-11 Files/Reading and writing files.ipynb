{
 "cells": [
  {
   "cell_type": "code",
   "execution_count": 1,
   "id": "ea7f8cab",
   "metadata": {},
   "outputs": [],
   "source": [
    "data = {\n",
    "    \"name\" : \"sudh\",\n",
    "    \"mail-id\" : \"sudh@gmail.com\",\n",
    "    \"phone-number\" : 98754245,\n",
    "    \"subject\" : [\"data science\", \"big data\", \"data analytics\"]\n",
    "}"
   ]
  },
  {
   "cell_type": "code",
   "execution_count": 2,
   "id": "3d3a94d8",
   "metadata": {},
   "outputs": [],
   "source": [
    "import json"
   ]
  },
  {
   "cell_type": "code",
   "execution_count": 3,
   "id": "d1998f07",
   "metadata": {},
   "outputs": [],
   "source": [
    "with open(\"test1.json\", \"w\") as f:\n",
    "    json.dump(data, f)"
   ]
  },
  {
   "cell_type": "code",
   "execution_count": 4,
   "id": "4ba156db",
   "metadata": {},
   "outputs": [],
   "source": [
    "with open(\"test1.json\", \"r\") as f:\n",
    "    data1 = json.load(f)"
   ]
  },
  {
   "cell_type": "code",
   "execution_count": 5,
   "id": "d3dc97c6",
   "metadata": {},
   "outputs": [
    {
     "data": {
      "text/plain": [
       "{'name': 'sudh',\n",
       " 'mail-id': 'sudh@gmail.com',\n",
       " 'phone-number': 98754245,\n",
       " 'subject': ['data science', 'big data', 'data analytics']}"
      ]
     },
     "execution_count": 5,
     "metadata": {},
     "output_type": "execute_result"
    }
   ],
   "source": [
    "data1"
   ]
  },
  {
   "cell_type": "code",
   "execution_count": 6,
   "id": "7174529f",
   "metadata": {},
   "outputs": [
    {
     "data": {
      "text/plain": [
       "['data science', 'big data', 'data analytics']"
      ]
     },
     "execution_count": 6,
     "metadata": {},
     "output_type": "execute_result"
    }
   ],
   "source": [
    "data1[\"subject\"]"
   ]
  },
  {
   "cell_type": "code",
   "execution_count": 13,
   "id": "b440ecb4",
   "metadata": {},
   "outputs": [],
   "source": [
    "data = [[\"name\" , \"email_id\" , \"number\"],\n",
    "        [\"sudh\" , \"sudh@gmail.com\" , 92342342],\n",
    "        [\"krish\" , \"krish@gmail.com\" , 9324324242]\n",
    "       ]"
   ]
  },
  {
   "cell_type": "code",
   "execution_count": 14,
   "id": "f874ea8d",
   "metadata": {},
   "outputs": [],
   "source": [
    "import csv"
   ]
  },
  {
   "cell_type": "code",
   "execution_count": 19,
   "id": "ceddcdc4",
   "metadata": {},
   "outputs": [],
   "source": [
    "with open(\"test3.csv\" , 'w') as f :\n",
    "    w = csv.writer(f)\n",
    "    for i in data:\n",
    "        w.writerow(i)"
   ]
  },
  {
   "cell_type": "code",
   "execution_count": 20,
   "id": "164a3d7e",
   "metadata": {},
   "outputs": [
    {
     "name": "stdout",
     "output_type": "stream",
     "text": [
      "['name', 'email_id', 'number']\n",
      "[]\n",
      "['sudh', 'sudh@gmail.com', '92342342']\n",
      "[]\n",
      "['krish', 'krish@gmail.com', '9324324242']\n",
      "[]\n"
     ]
    }
   ],
   "source": [
    "with open(\"test3.csv\", 'r') as f:\n",
    "    read = csv.reader(f)\n",
    "    for i in read:\n",
    "        print(i)"
   ]
  },
  {
   "cell_type": "code",
   "execution_count": 21,
   "id": "36c3932b",
   "metadata": {},
   "outputs": [],
   "source": [
    "with open(\"test4.bin\", 'wb') as f:\n",
    "    f.write(b\"\\x01\\x02\\x03\")"
   ]
  },
  {
   "cell_type": "code",
   "execution_count": 22,
   "id": "e5f9c656",
   "metadata": {},
   "outputs": [
    {
     "name": "stdout",
     "output_type": "stream",
     "text": [
      "b'\\x01\\x02\\x03'\n"
     ]
    }
   ],
   "source": [
    "with open(\"test4.bin\", \"rb\") as f:\n",
    "    print(f.read())"
   ]
  }
 ],
 "metadata": {
  "kernelspec": {
   "display_name": "Python 3",
   "language": "python",
   "name": "python3"
  },
  "language_info": {
   "codemirror_mode": {
    "name": "ipython",
    "version": 3
   },
   "file_extension": ".py",
   "mimetype": "text/x-python",
   "name": "python",
   "nbconvert_exporter": "python",
   "pygments_lexer": "ipython3",
   "version": "3.8.8"
  }
 },
 "nbformat": 4,
 "nbformat_minor": 5
}
