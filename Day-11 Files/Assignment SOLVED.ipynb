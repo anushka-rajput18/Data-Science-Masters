{
 "cells": [
  {
   "cell_type": "markdown",
   "id": "e90f37c0",
   "metadata": {},
   "source": [
    "**Q1. Which function is used to open a file? What are the different modes of opening a file? Explain each mode\n",
    "of file opening.**"
   ]
  },
  {
   "cell_type": "markdown",
   "id": "5f1d7f25",
   "metadata": {},
   "source": [
    "The built-in function open() is used to open a file.\n",
    "\n",
    "*Syntax: open(file_path, mode='r', buffering=-1, encoding=None, errors=None, newline=None, closefd=True, opener=None)*"
   ]
  },
  {
   "cell_type": "markdown",
   "id": "f42b0ac7",
   "metadata": {},
   "source": [
    "The mode parameter specifies the mode in which the file needs to be opened. The following are the different modes of opening a file:\n",
    "\n",
    "1. **'r'**: This is the default mode, which is used to open a file in read-only mode. If the file does not exist, it will raise a FileNotFoundError.\n",
    "2. **'w'**: This mode is used to open a file in write-only mode. If the file already exists, its contents will be truncated. If the file does not exist, a new file will be created.\n",
    "3. **'a'**: This mode is used to open a file in append mode. If the file exists, the data is written to the end of the file. If the file does not exist, a new file will be created.\n",
    "4. **'x'**: This mode is used to open a file in exclusive creation mode. It will fail if the file already exists.\n",
    "5. **'b'**: This mode is used to open a file in binary mode.\n",
    "6. **'t'**: This mode is used to open a file in text mode.\n",
    "7. **'+'**: This mode is used to open a file for both reading and writing."
   ]
  },
  {
   "cell_type": "markdown",
   "id": "78e6aede",
   "metadata": {},
   "source": [
    "**Q2. Why close() function is used? Why is it important to close a file?**"
   ]
  },
  {
   "cell_type": "markdown",
   "id": "ba4d3d72",
   "metadata": {},
   "source": [
    "The close() function is used in Python to close an opened file.\n",
    "\n",
    "It is important to close a file after opening it because leaving a file open can have various negative effects. Some of the reasons why closing a file is important are:\n",
    "\n",
    "- **Resource management**: Opening a file takes up system resources, such as memory and processing power. If a file is not closed after it is used, these resources will continue to be used, which can slow down the system and reduce the available memory.\n",
    "\n",
    "- **Data loss**: If a file is not closed after writing data to it, there is a risk that the data will not be saved. This can occur if the program crashes or the system shuts down unexpectedly. By closing the file after writing data to it, the data is saved to the file and can be retrieved later.\n",
    "\n",
    "- **File corruption**: If a file is not closed after writing data to it, the file may become corrupted if the system crashes or the program terminates unexpectedly. This can lead to data loss and make the file unusable.\n",
    "\n",
    "- **Security**: Leaving a file open can be a security risk, as it can allow other programs or users to access the file and read or modify its contents."
   ]
  },
  {
   "cell_type": "markdown",
   "id": "c843256f",
   "metadata": {},
   "source": [
    "**Q3. Write a python program to create a text file. Write ‘I want to become a Data Scientist’ in that file. Then\n",
    "close the file. Open this file and read the content of the file.**"
   ]
  },
  {
   "cell_type": "code",
   "execution_count": 1,
   "id": "512d3c8b",
   "metadata": {},
   "outputs": [],
   "source": [
    "file = open(\"data.txt\", \"w\")"
   ]
  },
  {
   "cell_type": "code",
   "execution_count": 2,
   "id": "0dfae88e",
   "metadata": {},
   "outputs": [
    {
     "data": {
      "text/plain": [
       "33"
      ]
     },
     "execution_count": 2,
     "metadata": {},
     "output_type": "execute_result"
    }
   ],
   "source": [
    "file.write(\"I want to become a Data Scientist\")"
   ]
  },
  {
   "cell_type": "code",
   "execution_count": 3,
   "id": "26b207e8",
   "metadata": {},
   "outputs": [],
   "source": [
    "file.close()"
   ]
  },
  {
   "cell_type": "code",
   "execution_count": 4,
   "id": "36c56d34",
   "metadata": {},
   "outputs": [],
   "source": [
    "file = open(\"data.txt\", \"r\")"
   ]
  },
  {
   "cell_type": "code",
   "execution_count": 5,
   "id": "b6c1643a",
   "metadata": {},
   "outputs": [],
   "source": [
    "content = file.read()"
   ]
  },
  {
   "cell_type": "code",
   "execution_count": 6,
   "id": "f25c4d1b",
   "metadata": {},
   "outputs": [],
   "source": [
    "file.close()"
   ]
  },
  {
   "cell_type": "code",
   "execution_count": 7,
   "id": "661cba40",
   "metadata": {},
   "outputs": [
    {
     "name": "stdout",
     "output_type": "stream",
     "text": [
      "I want to become a Data Scientist\n"
     ]
    }
   ],
   "source": [
    "print(content)"
   ]
  },
  {
   "cell_type": "markdown",
   "id": "eddf8e96",
   "metadata": {},
   "source": [
    "**Q4. Explain the following with python code: read(), readline() and readlines().**"
   ]
  },
  {
   "cell_type": "markdown",
   "id": "971d54c1",
   "metadata": {},
   "source": [
    "- **read()**: This method is used to read the entire contents of a file. When read() is called without an argument, it reads the entire file at once and returns a single string. Here's an example:"
   ]
  },
  {
   "cell_type": "code",
   "execution_count": 8,
   "id": "d4eced72",
   "metadata": {},
   "outputs": [
    {
     "name": "stdout",
     "output_type": "stream",
     "text": [
      "I want to become a Data Scientist\n"
     ]
    }
   ],
   "source": [
    "# Open the file in read mode\n",
    "file = open(\"data.txt\", \"r\")\n",
    "\n",
    "# Read the entire contents of the file\n",
    "content = file.read()\n",
    "\n",
    "# Close the file\n",
    "file.close()\n",
    "\n",
    "# Print the contents of the file\n",
    "print(content)"
   ]
  },
  {
   "cell_type": "markdown",
   "id": "40c97ef0",
   "metadata": {},
   "source": [
    "- **readline()**: This method is used to read a single line from a file. When readline() is called, it reads a single line from the file and returns it as a string. Here's an example:"
   ]
  },
  {
   "cell_type": "code",
   "execution_count": 9,
   "id": "3b580dfd",
   "metadata": {},
   "outputs": [
    {
     "name": "stdout",
     "output_type": "stream",
     "text": [
      "I want to become a Data Scientist\n"
     ]
    }
   ],
   "source": [
    "# Open the file in read mode\n",
    "file = open(\"data.txt\", \"r\")\n",
    "\n",
    "# Read the first line of the file\n",
    "line = file.readline()\n",
    "\n",
    "# Close the file\n",
    "file.close()\n",
    "\n",
    "# Print the first line of the file\n",
    "print(line)\n"
   ]
  },
  {
   "cell_type": "markdown",
   "id": "119d56d6",
   "metadata": {},
   "source": [
    "- **readlines()**: This method is used to read all the lines of a file and return them as a list of strings. Each string in the list represents a single line from the file. Here's an example:"
   ]
  },
  {
   "cell_type": "code",
   "execution_count": 10,
   "id": "64cb0e97",
   "metadata": {},
   "outputs": [
    {
     "name": "stdout",
     "output_type": "stream",
     "text": [
      "I want to become a Data Scientist\n"
     ]
    }
   ],
   "source": [
    "# Open the file in read mode\n",
    "file = open(\"data.txt\", \"r\")\n",
    "\n",
    "# Read all the lines of the file\n",
    "lines = file.readlines()\n",
    "\n",
    "# Close the file\n",
    "file.close()\n",
    "\n",
    "# Print all the lines of the file\n",
    "for line in lines:\n",
    "    print(line)"
   ]
  },
  {
   "cell_type": "markdown",
   "id": "b72d589a",
   "metadata": {},
   "source": [
    "**Q5. Explain why with statement is used with open(). What is the advantage of using with statement and\n",
    "open() together?**"
   ]
  },
  {
   "cell_type": "markdown",
   "id": "5a462661",
   "metadata": {},
   "source": [
    "The *with* statement is used with *open()* to ensure that a file is properly closed after it has been used. The with statement provides a way for the file to be automatically closed after the block of code within the statement is executed, even if an exception is raised.\n",
    "\n",
    "The advantage of using with and open() together is that it simplifies the code and ensures that the file is properly closed, even in cases where an exception is raised. This helps to prevent issues such as file corruption, data loss, and resource leaks. Using the with statement also avoids the need to explicitly call the close() method, which can be easy to forget and can result in errors if not properly handled."
   ]
  },
  {
   "cell_type": "markdown",
   "id": "4a12265c",
   "metadata": {},
   "source": [
    "**Q6. Explain the write() and writelines() functions. Give a suitable example.**"
   ]
  },
  {
   "cell_type": "markdown",
   "id": "d622aef1",
   "metadata": {},
   "source": [
    "- **write()**: This method is used to write a single string to a file. When write() is called, it writes the string to the file at the current position of the file pointer. Here's an example:"
   ]
  },
  {
   "cell_type": "code",
   "execution_count": 11,
   "id": "f268b7b2",
   "metadata": {},
   "outputs": [],
   "source": [
    "# Open the file in write mode\n",
    "file = open(\"data.txt\", \"w\")\n",
    "\n",
    "# Write a string to the file\n",
    "file.write(\"I want to become a Data Scientist\")\n",
    "\n",
    "# Close the file\n",
    "file.close()\n"
   ]
  },
  {
   "cell_type": "markdown",
   "id": "554a7c9e",
   "metadata": {},
   "source": [
    "- **writelines()**: This method is used to write multiple strings to a file. When writelines() is called, it writes each string to the file at the current position of the file pointer. Here's an example:"
   ]
  },
  {
   "cell_type": "code",
   "execution_count": 12,
   "id": "0d74c897",
   "metadata": {},
   "outputs": [],
   "source": [
    "# Open the file in write mode\n",
    "file = open(\"data.txt\", \"w\")\n",
    "\n",
    "# Write multiple strings to the file\n",
    "lines = [\"I want to become a Data Scientist\\n\", \"I am learning Python programming\\n\", \"I also want to learn Machine Learning\\n\"]\n",
    "file.writelines(lines)\n",
    "\n",
    "# Close the file\n",
    "file.close()"
   ]
  }
 ],
 "metadata": {
  "kernelspec": {
   "display_name": "Python 3",
   "language": "python",
   "name": "python3"
  },
  "language_info": {
   "codemirror_mode": {
    "name": "ipython",
    "version": 3
   },
   "file_extension": ".py",
   "mimetype": "text/x-python",
   "name": "python",
   "nbconvert_exporter": "python",
   "pygments_lexer": "ipython3",
   "version": "3.8.8"
  }
 },
 "nbformat": 4,
 "nbformat_minor": 5
}
