{
 "cells": [
  {
   "cell_type": "markdown",
   "id": "042c38a7",
   "metadata": {},
   "source": [
    "#### Q1. Explain Class and Object with respect to Object-Oriented Programming. Give a suitable example."
   ]
  },
  {
   "cell_type": "markdown",
   "id": "57ba5b7b",
   "metadata": {},
   "source": [
    "A Class is a user-defined data-type which has data members and member functions.\n",
    "- Data members are the data variables and member functions are the functions used to manipulate these variables and together these data members and member functions define the properties and behaviour of the objects in a Class. \n",
    "- For example class Car, the data member will be speed limit, mileage etc and member functions can apply brakes, increase speed etc.\n"
   ]
  },
  {
   "cell_type": "markdown",
   "id": "6cfc0625",
   "metadata": {},
   "source": [
    "An Object is an instance of a class, which represents a specific entity with its own set of properties and behaviors."
   ]
  },
  {
   "cell_type": "code",
   "execution_count": 6,
   "id": "af2792aa",
   "metadata": {},
   "outputs": [
    {
     "name": "stdout",
     "output_type": "stream",
     "text": [
      "Hi, My name is Anu and I am 21 years old\n"
     ]
    }
   ],
   "source": [
    "class Person: #class\n",
    "    def __init__(self,name,age): \n",
    "    #method that initializes properties of person obj\n",
    "        self.name = name \n",
    "        self.age = age\n",
    "        \n",
    "    def introduce(self): \n",
    "        print(f\"Hi, My name is {self.name} and I am {self.age} years old\")\n",
    "        \n",
    "    def get_age(self):\n",
    "        return self.age\n",
    "    \n",
    "person1 = Person(\"Anu\", 21) #object1\n",
    "person2 = Person(\"Anushka\", 22) #object2\n",
    "\n",
    "person1.introduce()"
   ]
  },
  {
   "cell_type": "markdown",
   "id": "b8cb8283",
   "metadata": {},
   "source": [
    "#### Q2. Name the four pillars of OOPs."
   ]
  },
  {
   "cell_type": "markdown",
   "id": "bfb8126c",
   "metadata": {},
   "source": [
    "- Encapsulation\n",
    "- Abstraction\n",
    "- Inheritance \n",
    "- Polymorphism"
   ]
  },
  {
   "cell_type": "markdown",
   "id": "3b978e0b",
   "metadata": {},
   "source": [
    "#### Q3. Explain why the __init__() function is used. Give a suitable example."
   ]
  },
  {
   "cell_type": "markdown",
   "id": "d2eea2d8",
   "metadata": {},
   "source": [
    "The ____init__ __ () function is a special method in Python that is used to initialize the attributes of an object when it is created. It is called a constructor because it constructs the object and sets its initial state. The ____init__ __ () method is called automatically when an object is created from a class."
   ]
  },
  {
   "cell_type": "code",
   "execution_count": 10,
   "id": "80ceecaf",
   "metadata": {},
   "outputs": [
    {
     "name": "stdout",
     "output_type": "stream",
     "text": [
      "My name is Anushka and I am 19 years old.\n"
     ]
    }
   ],
   "source": [
    "class Person:\n",
    "    def __init__(self, name, age):\n",
    "        self.name = name\n",
    "        self.age = age\n",
    "\n",
    "    def introduce(self):\n",
    "        print(f\"My name is {self.name} and I am {self.age} years old.\")\n",
    "\n",
    "\n",
    "person1 = Person(\"Anushka\", 19)\n",
    "person1.introduce()"
   ]
  },
  {
   "cell_type": "markdown",
   "id": "c566cc4a",
   "metadata": {},
   "source": [
    "#### Q4. Why self is used in OOPs?"
   ]
  },
  {
   "cell_type": "markdown",
   "id": "f47a0eee",
   "metadata": {},
   "source": [
    "In object-oriented programming, self is a reference to the instance of the class. It is used to access the attributes and methods of an object from within the class.\n",
    "\n",
    "In Python, self is the first parameter of any instance method defined within a class. It is a convention to call this parameter self, although any other name can be used."
   ]
  },
  {
   "cell_type": "markdown",
   "id": "aa094485",
   "metadata": {},
   "source": [
    "#### Q5. What is inheritance? Give an example for each type of inheritance."
   ]
  },
  {
   "cell_type": "markdown",
   "id": "998b88ce",
   "metadata": {},
   "source": [
    "**Inheritance** allows us to define a class that inherits all the methods and properties from another class. Parent class is the class being inherited from, also called base class. Child class is the class that inherits from another class, also called derived class.\n",
    "<br>Types of Inheritance are:\n",
    "- Single Level\n",
    "- Multi level\n",
    "- Multiple\n",
    "- Hybrid\n",
    "- Hierarchical"
   ]
  },
  {
   "cell_type": "code",
   "execution_count": 1,
   "id": "6c8a8142",
   "metadata": {},
   "outputs": [
    {
     "name": "stdout",
     "output_type": "stream",
     "text": [
      "Feature 1 working\n"
     ]
    }
   ],
   "source": [
    "#single level inheritance\n",
    "class A: #superclass\n",
    "    def feature1(self):\n",
    "        print(\"Feature 1 working\")\n",
    "        \n",
    "class B(A): #sub-class\n",
    "    pass\n",
    "\n",
    "obj = B()\n",
    "obj.feature1()"
   ]
  },
  {
   "cell_type": "code",
   "execution_count": 3,
   "id": "66ebddf9",
   "metadata": {},
   "outputs": [
    {
     "name": "stdout",
     "output_type": "stream",
     "text": [
      "Feature 1 working\n",
      "Feature 2 working\n"
     ]
    }
   ],
   "source": [
    "#multi level inheritance\n",
    "class A: \n",
    "    def feature1(self):\n",
    "        print(\"Feature 1 working\")\n",
    "        \n",
    "class B(A): \n",
    "    def feature2(self):\n",
    "        print(\"Feature 2 working\")\n",
    "        \n",
    "class C(B):\n",
    "    pass\n",
    "\n",
    "obj = C()\n",
    "obj.feature1()\n",
    "obj.feature2()"
   ]
  },
  {
   "cell_type": "code",
   "execution_count": 4,
   "id": "aeaf23e0",
   "metadata": {},
   "outputs": [
    {
     "name": "stdout",
     "output_type": "stream",
     "text": [
      "Feature 1 working\n",
      "Feature 2 working\n"
     ]
    }
   ],
   "source": [
    "#multiple inheritance\n",
    "class A: \n",
    "    def feature1(self):\n",
    "        print(\"Feature 1 working\")\n",
    "        \n",
    "class B: \n",
    "    def feature2(self):\n",
    "        print(\"Feature 2 working\")\n",
    "        \n",
    "class C(A,B):\n",
    "    pass\n",
    "\n",
    "obj = C()\n",
    "obj.feature1()\n",
    "obj.feature2()"
   ]
  },
  {
   "cell_type": "code",
   "execution_count": 5,
   "id": "6edd155b",
   "metadata": {},
   "outputs": [
    {
     "name": "stdout",
     "output_type": "stream",
     "text": [
      "This function is in school.\n",
      "This function is in student 1. \n"
     ]
    }
   ],
   "source": [
    "#hybrid inheritance\n",
    "class School:\n",
    "    def func1(self):\n",
    "        print(\"This function is in school.\")\n",
    " \n",
    " \n",
    "class Student1(School):\n",
    "    def func2(self):\n",
    "        print(\"This function is in student 1. \")\n",
    " \n",
    " \n",
    "class Student2(School):\n",
    "    def func3(self):\n",
    "        print(\"This function is in student 2.\")\n",
    " \n",
    " \n",
    "class Student3(Student1, School):\n",
    "    def func4(self):\n",
    "        print(\"This function is in student 3.\")\n",
    "        \n",
    "        \n",
    "object = Student3()\n",
    "object.func1()\n",
    "object.func2()"
   ]
  },
  {
   "cell_type": "code",
   "execution_count": 6,
   "id": "8071e2ef",
   "metadata": {},
   "outputs": [
    {
     "name": "stdout",
     "output_type": "stream",
     "text": [
      "This function is in parent class.\n",
      "This function is in child 1.\n",
      "This function is in parent class.\n",
      "This function is in child 2.\n"
     ]
    }
   ],
   "source": [
    "# Hierarchical inheritance\n",
    "class Parent:\n",
    "    def func1(self):\n",
    "        print(\"This function is in parent class.\")\n",
    "\n",
    "class Child1(Parent):\n",
    "    def func2(self):\n",
    "        print(\"This function is in child 1.\")\n",
    "\n",
    "class Child2(Parent):\n",
    "    def func3(self):\n",
    "        print(\"This function is in child 2.\")\n",
    "\n",
    "object1 = Child1()\n",
    "object2 = Child2()\n",
    "object1.func1()\n",
    "object1.func2()\n",
    "object2.func1()\n",
    "object2.func3()\n"
   ]
  }
 ],
 "metadata": {
  "kernelspec": {
   "display_name": "Python 3",
   "language": "python",
   "name": "python3"
  },
  "language_info": {
   "codemirror_mode": {
    "name": "ipython",
    "version": 3
   },
   "file_extension": ".py",
   "mimetype": "text/x-python",
   "name": "python",
   "nbconvert_exporter": "python",
   "pygments_lexer": "ipython3",
   "version": "3.8.8"
  }
 },
 "nbformat": 4,
 "nbformat_minor": 5
}
