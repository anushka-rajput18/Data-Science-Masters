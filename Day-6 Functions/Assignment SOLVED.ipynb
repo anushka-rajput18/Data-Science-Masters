{
 "cells": [
  {
   "cell_type": "markdown",
   "id": "6b516a22",
   "metadata": {},
   "source": [
    "#### Q1. Which keyword is used to create a function? Create a function to return a list of odd numbers in the range of 1 to 25."
   ]
  },
  {
   "cell_type": "markdown",
   "id": "48252346",
   "metadata": {},
   "source": [
    "def keyword is used to create function"
   ]
  },
  {
   "cell_type": "code",
   "execution_count": 1,
   "id": "8f2e32e7",
   "metadata": {},
   "outputs": [],
   "source": [
    "def odd():\n",
    "    lst = []\n",
    "    for i in range(1,25):\n",
    "        if i%2 != 0:\n",
    "            lst.append(i)\n",
    "    return lst"
   ]
  },
  {
   "cell_type": "code",
   "execution_count": 2,
   "id": "6bf12009",
   "metadata": {},
   "outputs": [
    {
     "data": {
      "text/plain": [
       "[1, 3, 5, 7, 9, 11, 13, 15, 17, 19, 21, 23]"
      ]
     },
     "execution_count": 2,
     "metadata": {},
     "output_type": "execute_result"
    }
   ],
   "source": [
    "odd()"
   ]
  },
  {
   "cell_type": "markdown",
   "id": "8e5d9ef9",
   "metadata": {},
   "source": [
    "#### Q2. Why * *args and * **kwargs is used in some functions? Create a function each for *args and **kwargs to demonstrate their use."
   ]
  },
  {
   "cell_type": "markdown",
   "id": "023034a3",
   "metadata": {},
   "source": [
    "args and kwargs are used as an argument of function when we are unsure about the number of arguments to pass in the function.\n",
    "<br>kwargs return key-value pair type data"
   ]
  },
  {
   "cell_type": "code",
   "execution_count": 11,
   "id": "ea177636",
   "metadata": {},
   "outputs": [
    {
     "name": "stdout",
     "output_type": "stream",
     "text": [
      "a 45\n",
      "b 23\n",
      "c [67, 45, 34]\n",
      "d ('anu', 'rajput')\n"
     ]
    }
   ],
   "source": [
    "# **kwargs \n",
    "def example1(**kwargs):\n",
    "    for i in kwargs.keys():\n",
    "        print(i, kwargs[i])\n",
    "\n",
    "#function call\n",
    "example1(a = 45, b = 23, c = [67,45,34], d = (\"anu\",\"rajput\"))"
   ]
  },
  {
   "cell_type": "code",
   "execution_count": 12,
   "id": "0b140490",
   "metadata": {},
   "outputs": [
    {
     "name": "stdout",
     "output_type": "stream",
     "text": [
      "Hello\n",
      "I\n",
      "Am\n",
      "Anushka\n"
     ]
    }
   ],
   "source": [
    "# *args\n",
    "def example2(*args):\n",
    "    for i in args:\n",
    "        print(i)\n",
    "\n",
    "example2(\"Hello\", \"I\",\"Am\",\"Anushka\")"
   ]
  },
  {
   "cell_type": "markdown",
   "id": "206f3fb8",
   "metadata": {},
   "source": [
    "#### Q3. What is an iterator in python? Name the method used to initialise the iterator object and the method used for iteration. Use these methods to print the first five elements of the given list \n",
    "[2, 4, 6, 8, 10, 12, 14, 16,\n",
    "18, 20]."
   ]
  },
  {
   "cell_type": "markdown",
   "id": "198a4d2e",
   "metadata": {},
   "source": [
    "Iterator in Python is an object that is used to iterate over iterable objects like lists, tuples, dicts, and sets. \n",
    "- iter() method is used to initialise iterator object \n",
    "- next() method is used for iteration"
   ]
  },
  {
   "cell_type": "code",
   "execution_count": 15,
   "id": "f624e202",
   "metadata": {},
   "outputs": [
    {
     "name": "stdout",
     "output_type": "stream",
     "text": [
      "2\n",
      "4\n",
      "6\n",
      "8\n",
      "10\n"
     ]
    }
   ],
   "source": [
    "lst = [2, 4, 6, 8, 10, 12, 14, 16, 18, 20]\n",
    "\n",
    "l_itr = iter(lst)\n",
    "print(next(l_itr))\n",
    "print(next(l_itr))\n",
    "print(next(l_itr))\n",
    "print(next(l_itr))\n",
    "print(next(l_itr))"
   ]
  },
  {
   "cell_type": "markdown",
   "id": "ff02103c",
   "metadata": {},
   "source": [
    "#### Q4. What is a generator function in python? Why yield keyword is used? Give an example of a generator function."
   ]
  },
  {
   "cell_type": "markdown",
   "id": "8a1f278c",
   "metadata": {},
   "source": [
    "In Python, a generator is a function that returns an iterator that produces a sequence of values when iterated over.\n",
    "<br>Generators are useful when we want to produce a large sequence of values, but we don't want to store all of them in memory at once.\n",
    "\n",
    "The yield keyword is used to produce a value from the generator."
   ]
  },
  {
   "cell_type": "code",
   "execution_count": 16,
   "id": "1c68e09a",
   "metadata": {},
   "outputs": [],
   "source": [
    "def test_fib(n):\n",
    "    a,b = 0,1\n",
    "    for i in range(n):\n",
    "        yield a \n",
    "        a,b = b,a+b"
   ]
  },
  {
   "cell_type": "code",
   "execution_count": 17,
   "id": "57876e79",
   "metadata": {},
   "outputs": [
    {
     "name": "stdout",
     "output_type": "stream",
     "text": [
      "0\n",
      "1\n",
      "1\n",
      "2\n",
      "3\n",
      "5\n",
      "8\n",
      "13\n",
      "21\n",
      "34\n"
     ]
    }
   ],
   "source": [
    "for i in test_fib(10):\n",
    "    print(i)"
   ]
  },
  {
   "cell_type": "markdown",
   "id": "b36d0d77",
   "metadata": {},
   "source": [
    "#### Q5. Create a generator function for prime numbers less than 1000. Use the next() method to print the first 20 prime numbers."
   ]
  },
  {
   "cell_type": "code",
   "execution_count": 29,
   "id": "2137e76b",
   "metadata": {},
   "outputs": [],
   "source": [
    "def prime():\n",
    "    for num in range(1, 1001):\n",
    "        for i in range(2, num):\n",
    "            if num % i == 0:\n",
    "                break\n",
    "        else:\n",
    "            yield num"
   ]
  },
  {
   "cell_type": "code",
   "execution_count": 38,
   "id": "65fefb7e",
   "metadata": {},
   "outputs": [
    {
     "name": "stdout",
     "output_type": "stream",
     "text": [
      "1\n",
      "3\n",
      "5\n",
      "7\n",
      "9\n",
      "11\n",
      "13\n",
      "15\n",
      "17\n",
      "19\n",
      "21\n",
      "23\n",
      "25\n",
      "27\n",
      "29\n",
      "31\n",
      "33\n",
      "35\n",
      "37\n",
      "39\n"
     ]
    }
   ],
   "source": [
    "generator = (i for i in range(40))\n",
    "lst = iter(generator)\n",
    "for i in generator:\n",
    "    print(next(lst))"
   ]
  },
  {
   "cell_type": "code",
   "execution_count": null,
   "id": "342f34cc",
   "metadata": {},
   "outputs": [],
   "source": []
  }
 ],
 "metadata": {
  "kernelspec": {
   "display_name": "Python 3",
   "language": "python",
   "name": "python3"
  },
  "language_info": {
   "codemirror_mode": {
    "name": "ipython",
    "version": 3
   },
   "file_extension": ".py",
   "mimetype": "text/x-python",
   "name": "python",
   "nbconvert_exporter": "python",
   "pygments_lexer": "ipython3",
   "version": "3.8.8"
  }
 },
 "nbformat": 4,
 "nbformat_minor": 5
}
