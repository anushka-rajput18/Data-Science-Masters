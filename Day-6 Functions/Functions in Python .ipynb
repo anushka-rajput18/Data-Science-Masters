{
 "cells": [
  {
   "cell_type": "code",
   "execution_count": 2,
   "id": "8cefb98d",
   "metadata": {},
   "outputs": [],
   "source": [
    "def test():\n",
    "    pass"
   ]
  },
  {
   "cell_type": "code",
   "execution_count": 4,
   "id": "0a702834",
   "metadata": {},
   "outputs": [
    {
     "name": "stdout",
     "output_type": "stream",
     "text": [
      "This is my first function!!\n"
     ]
    }
   ],
   "source": [
    "def test1():\n",
    "    print(\"This is my first function!!\")\n",
    "\n",
    "test1()"
   ]
  },
  {
   "cell_type": "code",
   "execution_count": 6,
   "id": "9f72337b",
   "metadata": {},
   "outputs": [
    {
     "name": "stdout",
     "output_type": "stream",
     "text": [
      "This is my first function!!\n"
     ]
    },
    {
     "ename": "TypeError",
     "evalue": "unsupported operand type(s) for +: 'NoneType' and 'str'",
     "output_type": "error",
     "traceback": [
      "\u001b[1;31m---------------------------------------------------------------------------\u001b[0m",
      "\u001b[1;31mTypeError\u001b[0m                                 Traceback (most recent call last)",
      "\u001b[1;32m<ipython-input-6-c9dbf1c89bab>\u001b[0m in \u001b[0;36m<module>\u001b[1;34m\u001b[0m\n\u001b[1;32m----> 1\u001b[1;33m \u001b[0mtest1\u001b[0m\u001b[1;33m(\u001b[0m\u001b[1;33m)\u001b[0m \u001b[1;33m+\u001b[0m \u001b[1;34m\"Anushka\"\u001b[0m \u001b[1;31m#return value of function is none because we have used print here\u001b[0m\u001b[1;33m\u001b[0m\u001b[1;33m\u001b[0m\u001b[0m\n\u001b[0m",
      "\u001b[1;31mTypeError\u001b[0m: unsupported operand type(s) for +: 'NoneType' and 'str'"
     ]
    }
   ],
   "source": [
    "test1() + \"Anushka\" \n",
    "# return value of function is none because we have used print here"
   ]
  },
  {
   "cell_type": "code",
   "execution_count": 7,
   "id": "758b10a2",
   "metadata": {},
   "outputs": [],
   "source": [
    "def test2():\n",
    "    return \"this is my function without print\""
   ]
  },
  {
   "cell_type": "code",
   "execution_count": 9,
   "id": "4ffb7400",
   "metadata": {},
   "outputs": [
    {
     "data": {
      "text/plain": [
       "'this is my function without print Anushka here'"
      ]
     },
     "execution_count": 9,
     "metadata": {},
     "output_type": "execute_result"
    }
   ],
   "source": [
    "test2() + \" Anushka here\""
   ]
  },
  {
   "cell_type": "code",
   "execution_count": 10,
   "id": "923cf6ba",
   "metadata": {},
   "outputs": [],
   "source": [
    "def test3():\n",
    "    return 1,4,\"anu\" #can return multiple datatype"
   ]
  },
  {
   "cell_type": "code",
   "execution_count": 11,
   "id": "d4b1cd60",
   "metadata": {},
   "outputs": [
    {
     "data": {
      "text/plain": [
       "(1, 4, 'anu')"
      ]
     },
     "execution_count": 11,
     "metadata": {},
     "output_type": "execute_result"
    }
   ],
   "source": [
    "test3()"
   ]
  },
  {
   "cell_type": "code",
   "execution_count": 13,
   "id": "229ff58a",
   "metadata": {},
   "outputs": [
    {
     "data": {
      "text/plain": [
       "tuple"
      ]
     },
     "execution_count": 13,
     "metadata": {},
     "output_type": "execute_result"
    }
   ],
   "source": [
    "type(test3()) #multiple datatype is returned in form of tuple"
   ]
  },
  {
   "cell_type": "code",
   "execution_count": 14,
   "id": "611a388c",
   "metadata": {},
   "outputs": [
    {
     "data": {
      "text/plain": [
       "17"
      ]
     },
     "execution_count": 14,
     "metadata": {},
     "output_type": "execute_result"
    }
   ],
   "source": [
    "def test4():\n",
    "    a = 3*4+5\n",
    "    return a\n",
    "\n",
    "test4()"
   ]
  },
  {
   "cell_type": "code",
   "execution_count": 15,
   "id": "e2d315a2",
   "metadata": {},
   "outputs": [
    {
     "data": {
      "text/plain": [
       "int"
      ]
     },
     "execution_count": 15,
     "metadata": {},
     "output_type": "execute_result"
    }
   ],
   "source": [
    "type(test4())"
   ]
  },
  {
   "cell_type": "code",
   "execution_count": 16,
   "id": "268a076b",
   "metadata": {},
   "outputs": [
    {
     "data": {
      "text/plain": [
       "10"
      ]
     },
     "execution_count": 16,
     "metadata": {},
     "output_type": "execute_result"
    }
   ],
   "source": [
    "def test5(a, b):\n",
    "    c = a+b\n",
    "    return c\n",
    "\n",
    "test5(3,7)"
   ]
  },
  {
   "cell_type": "code",
   "execution_count": 17,
   "id": "3c99aa8e",
   "metadata": {},
   "outputs": [
    {
     "data": {
      "text/plain": [
       "'anurajput'"
      ]
     },
     "execution_count": 17,
     "metadata": {},
     "output_type": "execute_result"
    }
   ],
   "source": [
    "test5(\"anu\",\"rajput\")"
   ]
  },
  {
   "cell_type": "code",
   "execution_count": 18,
   "id": "b6b06d83",
   "metadata": {},
   "outputs": [
    {
     "data": {
      "text/plain": [
       "[1, 2, 3, 4, 5, 6, 7, 8, 9]"
      ]
     },
     "execution_count": 18,
     "metadata": {},
     "output_type": "execute_result"
    }
   ],
   "source": [
    "test5([1,2,3,4],[5,6,7,8,9])"
   ]
  },
  {
   "cell_type": "code",
   "execution_count": 20,
   "id": "62e80067",
   "metadata": {},
   "outputs": [
    {
     "data": {
      "text/plain": [
       "'Anushka Rajput'"
      ]
     },
     "execution_count": 20,
     "metadata": {},
     "output_type": "execute_result"
    }
   ],
   "source": [
    "test5(b = \" Rajput\", a = \"Anushka\")"
   ]
  },
  {
   "cell_type": "code",
   "execution_count": 24,
   "id": "779e11c3",
   "metadata": {},
   "outputs": [],
   "source": [
    "l = [1,2,3,4,5,\"anu\",\"data\",\"datascience\",[12,23,34,42,5]]"
   ]
  },
  {
   "cell_type": "code",
   "execution_count": 25,
   "id": "7126f164",
   "metadata": {},
   "outputs": [],
   "source": [
    "# create a function which will take list as a input and give me a final list with all numeric value"
   ]
  },
  {
   "cell_type": "code",
   "execution_count": 26,
   "id": "a91601e4",
   "metadata": {},
   "outputs": [
    {
     "data": {
      "text/plain": [
       "[1, 2, 3, 4, 5]"
      ]
     },
     "execution_count": 26,
     "metadata": {},
     "output_type": "execute_result"
    }
   ],
   "source": [
    "def test6(a):\n",
    "    n = []\n",
    "    for i in a:\n",
    "        if type(i)==int or type(i)==float:\n",
    "            n.append(i)\n",
    "    return n\n",
    "\n",
    "test6(l)"
   ]
  },
  {
   "cell_type": "code",
   "execution_count": 27,
   "id": "201e3626",
   "metadata": {},
   "outputs": [
    {
     "data": {
      "text/plain": [
       "[1, 2, 3, 4, 5, 'anu', 'data', 'datascience', [12, 23, 34, 42, 5]]"
      ]
     },
     "execution_count": 27,
     "metadata": {},
     "output_type": "execute_result"
    }
   ],
   "source": [
    "l "
   ]
  },
  {
   "cell_type": "code",
   "execution_count": 30,
   "id": "5ab239f7",
   "metadata": {},
   "outputs": [
    {
     "data": {
      "text/plain": [
       "[1, 2, 3, 4, 5, 12, 23, 34, 42, 5]"
      ]
     },
     "execution_count": 30,
     "metadata": {},
     "output_type": "execute_result"
    }
   ],
   "source": [
    "def test7(a):\n",
    "    n = []\n",
    "    for i in a:\n",
    "        if type(i) == list:\n",
    "            for j in i:\n",
    "                if type(j)==int or type(j)==float:\n",
    "                    n.append(j)\n",
    "        else:\n",
    "            if type(i)==int or type(i)==float:\n",
    "                n.append(i)\n",
    "    return n\n",
    "\n",
    "\n",
    "test7(l) #function call"
   ]
  }
 ],
 "metadata": {
  "kernelspec": {
   "display_name": "Python 3",
   "language": "python",
   "name": "python3"
  },
  "language_info": {
   "codemirror_mode": {
    "name": "ipython",
    "version": 3
   },
   "file_extension": ".py",
   "mimetype": "text/x-python",
   "name": "python",
   "nbconvert_exporter": "python",
   "pygments_lexer": "ipython3",
   "version": "3.8.8"
  }
 },
 "nbformat": 4,
 "nbformat_minor": 5
}
