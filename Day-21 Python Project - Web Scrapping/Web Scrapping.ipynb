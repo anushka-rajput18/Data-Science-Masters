{
 "cells": [
  {
   "cell_type": "code",
   "execution_count": 1,
   "id": "95c25da4-c51a-4207-ab6a-988a95959d78",
   "metadata": {},
   "outputs": [],
   "source": [
    "import requests\n",
    "from bs4 import BeautifulSoup as bs\n",
    "from urllib.request import urlopen\n",
    "import logging"
   ]
  },
  {
   "cell_type": "code",
   "execution_count": 2,
   "id": "ccf1b7c3-f1b5-4f81-bba3-ce80617a9ed8",
   "metadata": {},
   "outputs": [],
   "source": [
    "flipkart_url = \"https://www.flipkart.com/search?q=\" + \"tv\""
   ]
  },
  {
   "cell_type": "code",
   "execution_count": 3,
   "id": "7447096e-0be3-4649-baad-f5873827bd65",
   "metadata": {},
   "outputs": [
    {
     "data": {
      "text/plain": [
       "'https://www.flipkart.com/search?q=tv'"
      ]
     },
     "execution_count": 3,
     "metadata": {},
     "output_type": "execute_result"
    }
   ],
   "source": [
    "flipkart_url"
   ]
  },
  {
   "cell_type": "code",
   "execution_count": 4,
   "id": "aa1adeba-1f84-4d7e-a320-28e5fc5cdc62",
   "metadata": {},
   "outputs": [],
   "source": [
    "urlclient = urlopen(flipkart_url)"
   ]
  },
  {
   "cell_type": "code",
   "execution_count": 5,
   "id": "8a44f905-fa6a-4bee-aa48-2e3a01fe708d",
   "metadata": {
    "tags": []
   },
   "outputs": [],
   "source": [
    "flipkart_page = urlclient.read()"
   ]
  },
  {
   "cell_type": "code",
   "execution_count": 6,
   "id": "33442c14-a67c-43f0-aac4-5eec73fe8bde",
   "metadata": {},
   "outputs": [],
   "source": [
    "flipkart_html = bs(flipkart_page, 'html.parser')"
   ]
  },
  {
   "cell_type": "markdown",
   "id": "c6a15ffb-b409-49f6-9a97-3993c5aa56ac",
   "metadata": {},
   "source": [
    "**Technique 1** : By inspecting we get href of div where out product opens\""
   ]
  },
  {
   "cell_type": "code",
   "execution_count": 7,
   "id": "107dc689-924a-4225-8cef-1cbdfcdc4235",
   "metadata": {},
   "outputs": [
    {
     "data": {
      "text/plain": [
       "'https://www.flipkart.com/search?q=tv/infinix-y1-80-cm-32-inch-hd-ready-led-smart-linux-tv-wall-mount/p/itme5476ca89d1b0?pid=TVSGFGF34GMTB9KF&lid=LSTTVSGFGF34GMTB9KFNOEUDG&marketplace=FLIPKART&q=tv&store=ckf%2Fczl&srno=s_1_3&otracker=search&otracker1=search&fm=organic&iid=71848cce-a2fc-48ee-a6bd-de8c6eb71ae7.TVSGFGF34GMTB9KF.SEARCH&ppt=browse&ppn=browse&ssid=scyzmbvxfk0000001680535771869&qH=c9a1fdac6e082dd8'"
      ]
     },
     "execution_count": 7,
     "metadata": {},
     "output_type": "execute_result"
    }
   ],
   "source": [
    "\"https://www.flipkart.com/search?q=tv\"+\"/infinix-y1-80-cm-32-inch-hd-ready-led-smart-linux-tv-wall-mount/p/itme5476ca89d1b0?pid=TVSGFGF34GMTB9KF&lid=LSTTVSGFGF34GMTB9KFNOEUDG&marketplace=FLIPKART&q=tv&store=ckf%2Fczl&srno=s_1_3&otracker=search&otracker1=search&fm=organic&iid=71848cce-a2fc-48ee-a6bd-de8c6eb71ae7.TVSGFGF34GMTB9KF.SEARCH&ppt=browse&ppn=browse&ssid=scyzmbvxfk0000001680535771869&qH=c9a1fdac6e082dd8\""
   ]
  },
  {
   "cell_type": "markdown",
   "id": "01265047-f10d-4c35-9f81-97586e8be73c",
   "metadata": {},
   "source": [
    "**Technique 2** : use find_all method to find all the division under that particular class"
   ]
  },
  {
   "cell_type": "code",
   "execution_count": 8,
   "id": "b8a9d278-9389-4d7d-9de8-e51b0d431c35",
   "metadata": {},
   "outputs": [],
   "source": [
    "bigbox = flipkart_html.find_all(\"div\", {\"class\":\"_1AtVbE col-12-12\"})"
   ]
  },
  {
   "cell_type": "code",
   "execution_count": 9,
   "id": "453cd5b1-d18b-41b0-a2d4-e14fa1f83a8e",
   "metadata": {},
   "outputs": [
    {
     "data": {
      "text/plain": [
       "30"
      ]
     },
     "execution_count": 9,
     "metadata": {},
     "output_type": "execute_result"
    }
   ],
   "source": [
    "len(bigbox)"
   ]
  },
  {
   "cell_type": "code",
   "execution_count": 10,
   "id": "942fd56f-c5b3-4a26-ac46-cc19e9c7712b",
   "metadata": {},
   "outputs": [],
   "source": [
    "del bigbox[0:3] \n",
    "#first 3 bigbox usually contains results, errors and suggestion"
   ]
  },
  {
   "cell_type": "code",
   "execution_count": 13,
   "id": "5d5c2eb6-e345-4d10-9511-10357d5a7f2e",
   "metadata": {},
   "outputs": [],
   "source": [
    "product_link = \"https://www.flipkart.com/search?q=tv\" + bigbox[0].div.div.div.a['href']"
   ]
  },
  {
   "cell_type": "code",
   "execution_count": 14,
   "id": "a01ead86-5b06-4b4c-a95f-8a55074d513a",
   "metadata": {},
   "outputs": [
    {
     "name": "stdout",
     "output_type": "stream",
     "text": [
      "https://www.flipkart.com/adsun-smart-series-60-cm-24-inch-hd-ready-led-android-based-tv/p/itm6c4b3411aeb50?pid=TVSGAHZYEWJC9APV&lid=LSTTVSGAHZYEWJC9APVPDMHEN&marketplace=FLIPKART&q=tv&store=ckf%2Fczl&srno=s_1_2&otracker=search&fm=organic&iid=en_85wSJyq%2FTWbCayGu8dy2lk5G%2FM8xsllm97JcjvSPVuRg10DOOj0HEMZJxzseyC7msqLgSUihrghhV5xe1%2F70mw%3D%3D&ppt=None&ppn=None&ssid=yfltfjvmyo0000001680539927590&qH=c9a1fdac6e082dd8\n",
      "https://www.flipkart.com/infinix-y1-80-cm-32-inch-hd-ready-led-smart-linux-tv-wall-mount/p/itme5476ca89d1b0?pid=TVSGFGF34GMTB9KF&lid=LSTTVSGFGF34GMTB9KFNOEUDG&marketplace=FLIPKART&q=tv&store=ckf%2Fczl&spotlightTagId=BestsellerId_ckf%2Fczl&srno=s_1_3&otracker=search&fm=organic&iid=6ad5f2c5-ef78-49fc-99f3-b63ca451110e.TVSGFGF34GMTB9KF.SEARCH&ppt=None&ppn=None&ssid=yfltfjvmyo0000001680539927590&qH=c9a1fdac6e082dd8\n",
      "https://www.flipkart.com/oneplus-y1s-108-cm-43-inch-full-hd-led-smart-android-tv-11-bezel-less-frame/p/itm178846d2e1567?pid=TVSGAXEVSNT3HBQA&lid=LSTTVSGAXEVSNT3HBQAKRCYE0&marketplace=FLIPKART&q=tv&store=ckf%2Fczl&srno=s_1_4&otracker=search&fm=organic&iid=6ad5f2c5-ef78-49fc-99f3-b63ca451110e.TVSGAXEVSNT3HBQA.SEARCH&ppt=None&ppn=None&ssid=yfltfjvmyo0000001680539927590&qH=c9a1fdac6e082dd8\n",
      "https://www.flipkart.com/mi-5a-80-cm-32-inch-hd-ready-led-smart-android-tv-dolby-audio-2022-model/p/itm98501ffa297ba?pid=TVSGD5CS2SDUUZGN&lid=LSTTVSGD5CS2SDUUZGNPVJDFV&marketplace=FLIPKART&q=tv&store=ckf%2Fczl&spotlightTagId=BestsellerId_ckf%2Fczl&srno=s_1_5&otracker=search&fm=organic&iid=6ad5f2c5-ef78-49fc-99f3-b63ca451110e.TVSGD5CS2SDUUZGN.SEARCH&ppt=None&ppn=None&ssid=yfltfjvmyo0000001680539927590&qH=c9a1fdac6e082dd8\n",
      "https://www.flipkart.com/lg-80-cm-32-inch-hd-ready-led-smart-webos-tv/p/itm6207e6d122567?pid=TVSFTW4CSRW8PGDQ&lid=LSTTVSFTW4CSRW8PGDQSZQIO6&marketplace=FLIPKART&q=tv&store=ckf%2Fczl&srno=s_1_6&otracker=search&fm=organic&iid=6ad5f2c5-ef78-49fc-99f3-b63ca451110e.TVSFTW4CSRW8PGDQ.SEARCH&ppt=None&ppn=None&ssid=yfltfjvmyo0000001680539927590&qH=c9a1fdac6e082dd8\n",
      "https://www.flipkart.com/acer-series-80-cm-32-inch-hd-ready-led-smart-android-tv-11-1-5gb-ram-2022-model/p/itm5767c4e3d5359?pid=TVSGEYD98YRZGSRU&lid=LSTTVSGEYD98YRZGSRUPETPT6&marketplace=FLIPKART&q=tv&store=ckf%2Fczl&srno=s_1_7&otracker=search&fm=organic&iid=6ad5f2c5-ef78-49fc-99f3-b63ca451110e.TVSGEYD98YRZGSRU.SEARCH&ppt=None&ppn=None&ssid=yfltfjvmyo0000001680539927590&qH=c9a1fdac6e082dd8\n",
      "https://www.flipkart.com/adsun-60-cm-24-inch-hd-ready-led-tv/p/itmffmnvahug733g?pid=TVSFFMNVK6GTCCKZ&lid=LSTTVSFFMNVK6GTCCKZWJCKBQ&marketplace=FLIPKART&q=tv&store=ckf%2Fczl&srno=s_1_8&otracker=search&fm=organic&iid=en_85wSJyq%2FTWbCayGu8dy2lk5G%2FM8xsllm97JcjvSPVuRsD1zoarRJbHeT3cUMUuoVQzivEE8%2FP%2BMsNjKAR5vxeQ%3D%3D&ppt=None&ppn=None&ssid=yfltfjvmyo0000001680539927590&qH=c9a1fdac6e082dd8\n",
      "https://www.flipkart.com/samsung-80-cm-32-inch-hd-ready-led-smart-tizen-tv-2022-model/p/itm3c07ddc2dd25d?pid=TVSGHY2UZA9YHWQN&lid=LSTTVSGHY2UZA9YHWQNCPAW6M&marketplace=FLIPKART&q=tv&store=ckf%2Fczl&spotlightTagId=BestsellerId_ckf%2Fczl&srno=s_1_9&otracker=search&fm=organic&iid=6ad5f2c5-ef78-49fc-99f3-b63ca451110e.TVSGHY2UZA9YHWQN.SEARCH&ppt=None&ppn=None&ssid=yfltfjvmyo0000001680539927590&qH=c9a1fdac6e082dd8\n",
      "https://www.flipkart.com/thomson-alpha-80-cm-32-inch-hd-ready-led-smart-linux-tv-30-w-sound-output-bezel-less-design/p/itm0e90bcdadb9c9?pid=TVSGEMQV7R4CMTGA&lid=LSTTVSGEMQV7R4CMTGAN8OZ8J&marketplace=FLIPKART&q=tv&store=ckf%2Fczl&srno=s_1_10&otracker=search&fm=organic&iid=6ad5f2c5-ef78-49fc-99f3-b63ca451110e.TVSGEMQV7R4CMTGA.SEARCH&ppt=None&ppn=None&ssid=yfltfjvmyo0000001680539927590&qH=c9a1fdac6e082dd8\n",
      "https://www.flipkart.com/oneplus-y1-80-cm-32-inch-hd-ready-led-smart-android-tv-dolby-audio/p/itme650a6bb8cee3?pid=TVSFVWD2ENXYGEJY&lid=LSTTVSFVWD2ENXYGEJYBNWSST&marketplace=FLIPKART&q=tv&store=ckf%2Fczl&spotlightTagId=FkPickId_ckf%2Fczl&srno=s_1_11&otracker=search&fm=organic&iid=6ad5f2c5-ef78-49fc-99f3-b63ca451110e.TVSFVWD2ENXYGEJY.SEARCH&ppt=None&ppn=None&ssid=yfltfjvmyo0000001680539927590&qH=c9a1fdac6e082dd8\n",
      "https://www.flipkart.com/cellecor-80-cm-32-inch-full-hd-led-smart-android-tv/p/itm4ee842d0fb141?pid=TVSGGXCANAGNNHDG&lid=LSTTVSGGXCANAGNNHDGYSE7GT&marketplace=FLIPKART&q=tv&store=ckf%2Fczl&srno=s_1_12&otracker=search&fm=organic&iid=en_85wSJyq%2FTWbCayGu8dy2lk5G%2FM8xsllm97JcjvSPVuR03fuMoZ%2FKzM7ZowM4gtZTkwfDjJPKwAT3B7IOhCkqzQ%3D%3D&ppt=None&ppn=None&ssid=yfltfjvmyo0000001680539927590&qH=c9a1fdac6e082dd8\n",
      "https://www.flipkart.com/acer-100-cm-40-inch-full-hd-led-smart-android-tv/p/itmd0bd88d59827f?pid=TVSGHNHVWVGGUQHY&lid=LSTTVSGHNHVWVGGUQHYCG8AJV&marketplace=FLIPKART&q=tv&store=ckf%2Fczl&srno=s_1_13&otracker=search&fm=organic&iid=6ad5f2c5-ef78-49fc-99f3-b63ca451110e.TVSGHNHVWVGGUQHY.SEARCH&ppt=None&ppn=None&ssid=yfltfjvmyo0000001680539927590&qH=c9a1fdac6e082dd8\n",
      "https://www.flipkart.com/oneplus-y1s-80-cm-32-inch-hd-ready-led-smart-android-tv-11-bezel-less-frame/p/itm0a39edd7df236?pid=TVSGAXEVXNG9YBUM&lid=LSTTVSGAXEVXNG9YBUMLGWYAS&marketplace=FLIPKART&q=tv&store=ckf%2Fczl&srno=s_1_14&otracker=search&fm=organic&iid=6ad5f2c5-ef78-49fc-99f3-b63ca451110e.TVSGAXEVXNG9YBUM.SEARCH&ppt=None&ppn=None&ssid=yfltfjvmyo0000001680539927590&qH=c9a1fdac6e082dd8\n",
      "https://www.flipkart.com/onida-80-cm-32-inch-hd-ready-led-smart-vidaa-tv/p/itm9fbd658af656e?pid=TVSGC4KJCAAGHYJG&lid=LSTTVSGC4KJCAAGHYJGW9WIT3&marketplace=FLIPKART&q=tv&store=ckf%2Fczl&srno=s_1_15&otracker=search&fm=organic&iid=6ad5f2c5-ef78-49fc-99f3-b63ca451110e.TVSGC4KJCAAGHYJG.SEARCH&ppt=None&ppn=None&ssid=yfltfjvmyo0000001680539927590&qH=c9a1fdac6e082dd8\n",
      "https://www.flipkart.com/yuwa-y-snw-80-cm-32-inch-hd-ready-led-smart-android-based-tv-voice-assistant-5000-apps-games-20-content-partners/p/itm7aedafd497a25?pid=TVSGCZWJRMZXBY7T&lid=LSTTVSGCZWJRMZXBY7TXOAF0X&marketplace=FLIPKART&q=tv&store=ckf%2Fczl&srno=s_1_16&otracker=search&fm=organic&iid=en_85wSJyq%2FTWbCayGu8dy2lk5G%2FM8xsllm97JcjvSPVuQF3lQyaQBPslTw%2B4aZ%2FRPECRO6ZNSH1VaBqQut7GouVg%3D%3D&ppt=None&ppn=None&ssid=yfltfjvmyo0000001680539927590&qH=c9a1fdac6e082dd8\n",
      "https://www.flipkart.com/sens-80-cm-32-inch-hd-ready-led-smart-linux-tv-dolby-audio/p/itm42bfcb2db2495?pid=TVSGHY2BCKSKB5QF&lid=LSTTVSGHY2BCKSKB5QFJ7HUWT&marketplace=FLIPKART&q=tv&store=ckf%2Fczl&srno=s_1_17&otracker=search&fm=organic&iid=6ad5f2c5-ef78-49fc-99f3-b63ca451110e.TVSGHY2BCKSKB5QF.SEARCH&ppt=None&ppn=None&ssid=yfltfjvmyo0000001680539927590&qH=c9a1fdac6e082dd8\n",
      "https://www.flipkart.com/oneplus-y1-100-cm-40-inch-full-hd-led-smart-android-tv-dolby-audio/p/itm56416c21fbb28?pid=TVSG25MMGB8NKFD8&lid=LSTTVSG25MMGB8NKFD8MWAMJF&marketplace=FLIPKART&q=tv&store=ckf%2Fczl&srno=s_1_18&otracker=search&fm=organic&iid=6ad5f2c5-ef78-49fc-99f3-b63ca451110e.TVSG25MMGB8NKFD8.SEARCH&ppt=None&ppn=None&ssid=yfltfjvmyo0000001680539927590&qH=c9a1fdac6e082dd8\n",
      "https://www.flipkart.com/samsung-crystal-4k-neo-series-108-cm-43-inch-ultra-hd-4k-led-smart-tizen-tv-black-2022-model/p/itma076c4dd16aa4?pid=TVSGEAGP9GXWCHCX&lid=LSTTVSGEAGP9GXWCHCXSVNDV5&marketplace=FLIPKART&q=tv&store=ckf%2Fczl&srno=s_1_19&otracker=search&fm=organic&iid=6ad5f2c5-ef78-49fc-99f3-b63ca451110e.TVSGEAGP9GXWCHCX.SEARCH&ppt=None&ppn=None&ssid=yfltfjvmyo0000001680539927590&qH=c9a1fdac6e082dd8\n",
      "https://www.flipkart.com/adsun-frameless-80-cm-32-inch-hd-ready-led-tv/p/itm1cc397ee891f4?pid=TVSGK8P3YH3GGG6F&lid=LSTTVSGK8P3YH3GGG6FGPOHIM&marketplace=FLIPKART&q=tv&store=ckf%2Fczl&srno=s_1_20&otracker=search&fm=organic&iid=en_85wSJyq%2FTWbCayGu8dy2lk5G%2FM8xsllm97JcjvSPVuRKPHFz%2FfutUy%2ByhfGFQRDJlYe6yH%2FlTtlVuAl2%2BuojAA%3D%3D&ppt=None&ppn=None&ssid=yfltfjvmyo0000001680539927590&qH=c9a1fdac6e082dd8\n",
      "https://www.flipkart.com/thomson-9a-series-80-cm-32-inch-hd-ready-led-smart-android-tv/p/itmc9fc21690b634?pid=TVSFUYG8KB8GZAZA&lid=LSTTVSFUYG8KB8GZAZACXIBB9&marketplace=FLIPKART&q=tv&store=ckf%2Fczl&srno=s_1_21&otracker=search&fm=organic&iid=6ad5f2c5-ef78-49fc-99f3-b63ca451110e.TVSFUYG8KB8GZAZA.SEARCH&ppt=None&ppn=None&ssid=yfltfjvmyo0000001680539927590&qH=c9a1fdac6e082dd8\n",
      "https://www.flipkart.com/motorola-revou-2-139-cm-55-inch-ultra-hd-4k-led-smart-android-tv-dolby-atmos-vision/p/itm4a7674d12ddcf?pid=TVSGAM5FWDTFPFD3&lid=LSTTVSGAM5FWDTFPFD3ZLEPZ2&marketplace=FLIPKART&q=tv&store=ckf%2Fczl&srno=s_1_22&otracker=search&fm=organic&iid=6ad5f2c5-ef78-49fc-99f3-b63ca451110e.TVSGAM5FWDTFPFD3.SEARCH&ppt=None&ppn=None&ssid=yfltfjvmyo0000001680539927590&qH=c9a1fdac6e082dd8\n",
      "https://www.flipkart.com/acer-series-109-cm-43-inch-ultra-hd-4k-led-smart-android-tv-11-30w-dolby-audio-memc-2022-model/p/itmccae6468b147a?pid=TVSGEYD9G6ZCNKF6&lid=LSTTVSGEYD9G6ZCNKF6QWREAX&marketplace=FLIPKART&q=tv&store=ckf%2Fczl&srno=s_1_23&otracker=search&fm=organic&iid=6ad5f2c5-ef78-49fc-99f3-b63ca451110e.TVSGEYD9G6ZCNKF6.SEARCH&ppt=None&ppn=None&ssid=yfltfjvmyo0000001680539927590&qH=c9a1fdac6e082dd8\n",
      "https://www.flipkart.com/cellecor-100-cm-40-inch-full-hd-led-smart-android-tv/p/itm3930cf585342e?pid=TVSGF92JZEG6B9D8&lid=LSTTVSGF92JZEG6B9D8YDGCSF&marketplace=FLIPKART&q=tv&store=ckf%2Fczl&srno=s_1_24&otracker=search&fm=organic&iid=en_85wSJyq%2FTWbCayGu8dy2lk5G%2FM8xsllm97JcjvSPVuTQt24Yn3CnfCWdRBttU5HyyL7D%2BJYyBwpplsZUxP57JQ%3D%3D&ppt=None&ppn=None&ssid=yfltfjvmyo0000001680539927590&qH=c9a1fdac6e082dd8\n"
     ]
    },
    {
     "ename": "AttributeError",
     "evalue": "'NoneType' object has no attribute 'a'",
     "output_type": "error",
     "traceback": [
      "\u001b[0;31m---------------------------------------------------------------------------\u001b[0m",
      "\u001b[0;31mAttributeError\u001b[0m                            Traceback (most recent call last)",
      "Cell \u001b[0;32mIn[14], line 2\u001b[0m\n\u001b[1;32m      1\u001b[0m \u001b[38;5;28;01mfor\u001b[39;00m i \u001b[38;5;129;01min\u001b[39;00m bigbox:\n\u001b[0;32m----> 2\u001b[0m     \u001b[38;5;28mprint\u001b[39m(\u001b[38;5;124m\"\u001b[39m\u001b[38;5;124mhttps://www.flipkart.com\u001b[39m\u001b[38;5;124m\"\u001b[39m \u001b[38;5;241m+\u001b[39m \u001b[43mi\u001b[49m\u001b[38;5;241;43m.\u001b[39;49m\u001b[43mdiv\u001b[49m\u001b[38;5;241;43m.\u001b[39;49m\u001b[43mdiv\u001b[49m\u001b[38;5;241;43m.\u001b[39;49m\u001b[43mdiv\u001b[49m\u001b[38;5;241;43m.\u001b[39;49m\u001b[43ma\u001b[49m[\u001b[38;5;124m'\u001b[39m\u001b[38;5;124mhref\u001b[39m\u001b[38;5;124m'\u001b[39m])\n",
      "\u001b[0;31mAttributeError\u001b[0m: 'NoneType' object has no attribute 'a'"
     ]
    }
   ],
   "source": [
    "for i in bigbox:\n",
    "    print(\"https://www.flipkart.com\" + i.div.div.div.a['href'])"
   ]
  },
  {
   "cell_type": "code",
   "execution_count": 15,
   "id": "cd4a938a-0fef-4219-a374-ef046f86a0fa",
   "metadata": {},
   "outputs": [
    {
     "data": {
      "text/plain": [
       "'https://www.flipkart.com/search?q=tv/adsun-smart-series-60-cm-24-inch-hd-ready-led-android-based-tv/p/itm6c4b3411aeb50?pid=TVSGAHZYEWJC9APV&lid=LSTTVSGAHZYEWJC9APVPDMHEN&marketplace=FLIPKART&q=tv&store=ckf%2Fczl&srno=s_1_2&otracker=search&fm=organic&iid=en_85wSJyq%2FTWbCayGu8dy2lk5G%2FM8xsllm97JcjvSPVuRg10DOOj0HEMZJxzseyC7msqLgSUihrghhV5xe1%2F70mw%3D%3D&ppt=None&ppn=None&ssid=yfltfjvmyo0000001680539927590&qH=c9a1fdac6e082dd8'"
      ]
     },
     "execution_count": 15,
     "metadata": {},
     "output_type": "execute_result"
    }
   ],
   "source": [
    "product_link"
   ]
  },
  {
   "cell_type": "code",
   "execution_count": 17,
   "id": "464db1fb-38a8-4ae9-811c-0e6c652586a2",
   "metadata": {},
   "outputs": [],
   "source": [
    "product_request = requests.get(product_link)"
   ]
  },
  {
   "cell_type": "code",
   "execution_count": 19,
   "id": "01534636-0d53-4288-aee0-4c6fbfbc5af0",
   "metadata": {},
   "outputs": [],
   "source": [
    "product_html = bs(product_request.text,'html.parser')"
   ]
  },
  {
   "cell_type": "markdown",
   "id": "848b28a0-38b6-44ce-9b4e-7635133f6fb1",
   "metadata": {},
   "source": [
    "**now we need to extract reviews or comment section just like we extracted our product**"
   ]
  },
  {
   "cell_type": "code",
   "execution_count": 22,
   "id": "a9c8bdc6-ee52-4ad5-b927-33dff2562cb8",
   "metadata": {},
   "outputs": [],
   "source": [
    "cmmnt_box = product_html.find_all(\"div\",{\"class\":\"_16PBlm\"})"
   ]
  },
  {
   "cell_type": "code",
   "execution_count": 24,
   "id": "d3172683-3613-43f0-8860-8716418933f4",
   "metadata": {},
   "outputs": [
    {
     "data": {
      "text/plain": [
       "11"
      ]
     },
     "execution_count": 24,
     "metadata": {},
     "output_type": "execute_result"
    }
   ],
   "source": [
    "len(cmmnt_box)"
   ]
  },
  {
   "cell_type": "code",
   "execution_count": 31,
   "id": "60db6e0d-6c07-4dbd-b4a5-f76298e0368e",
   "metadata": {},
   "outputs": [],
   "source": [
    "#extracting name of comment holder"
   ]
  },
  {
   "cell_type": "code",
   "execution_count": 32,
   "id": "b6824301-976f-4d82-a7ed-15391515b95e",
   "metadata": {},
   "outputs": [
    {
     "data": {
      "text/plain": [
       "'Shiva'"
      ]
     },
     "execution_count": 32,
     "metadata": {},
     "output_type": "execute_result"
    }
   ],
   "source": [
    "cmmnt_box[0].div.div.find_all(\"p\", {\"class\":\"_2sc7ZR _2V5EHH\"})[0].text"
   ]
  },
  {
   "cell_type": "code",
   "execution_count": 34,
   "id": "57e82cb1-7257-43f0-8755-3af2b7cea4ea",
   "metadata": {},
   "outputs": [
    {
     "name": "stdout",
     "output_type": "stream",
     "text": [
      "Shiva\n",
      "Flipkart Customer\n",
      "Lokesh GIRHARE\n",
      "Gaurav Vig\n",
      "Manoj  Yadav\n",
      "Deepak Pal\n",
      "Flipkart Customer\n",
      "Darshna Thakar\n",
      "Puneet Rana\n",
      "Thakur Anand kishor  Chauhan \n"
     ]
    },
    {
     "ename": "AttributeError",
     "evalue": "'NoneType' object has no attribute 'div'",
     "output_type": "error",
     "traceback": [
      "\u001b[0;31m---------------------------------------------------------------------------\u001b[0m",
      "\u001b[0;31mAttributeError\u001b[0m                            Traceback (most recent call last)",
      "Cell \u001b[0;32mIn[34], line 2\u001b[0m\n\u001b[1;32m      1\u001b[0m \u001b[38;5;28;01mfor\u001b[39;00m i \u001b[38;5;129;01min\u001b[39;00m cmmnt_box:\n\u001b[0;32m----> 2\u001b[0m     \u001b[38;5;28mprint\u001b[39m(\u001b[43mi\u001b[49m\u001b[38;5;241;43m.\u001b[39;49m\u001b[43mdiv\u001b[49m\u001b[38;5;241;43m.\u001b[39;49m\u001b[43mdiv\u001b[49m\u001b[38;5;241m.\u001b[39mfind_all(\u001b[38;5;124m\"\u001b[39m\u001b[38;5;124mp\u001b[39m\u001b[38;5;124m\"\u001b[39m, {\u001b[38;5;124m\"\u001b[39m\u001b[38;5;124mclass\u001b[39m\u001b[38;5;124m\"\u001b[39m:\u001b[38;5;124m\"\u001b[39m\u001b[38;5;124m_2sc7ZR _2V5EHH\u001b[39m\u001b[38;5;124m\"\u001b[39m})[\u001b[38;5;241m0\u001b[39m]\u001b[38;5;241m.\u001b[39mtext)\n",
      "\u001b[0;31mAttributeError\u001b[0m: 'NoneType' object has no attribute 'div'"
     ]
    }
   ],
   "source": [
    "for i in cmmnt_box:\n",
    "    print(i.div.div.find_all(\"p\", {\"class\":\"_2sc7ZR _2V5EHH\"})[0].text)"
   ]
  },
  {
   "cell_type": "markdown",
   "id": "3618c439-47dd-402c-9ef3-5aa663be8b9d",
   "metadata": {},
   "source": [
    "**fetching ratings under comment section**"
   ]
  },
  {
   "cell_type": "code",
   "execution_count": 35,
   "id": "520014ab-1c20-422e-b583-b3fa152c8b38",
   "metadata": {},
   "outputs": [
    {
     "name": "stdout",
     "output_type": "stream",
     "text": [
      "5\n",
      "5\n",
      "5\n",
      "5\n",
      "5\n",
      "5\n",
      "5\n",
      "4\n",
      "4\n",
      "5\n"
     ]
    },
    {
     "ename": "AttributeError",
     "evalue": "'NoneType' object has no attribute 'div'",
     "output_type": "error",
     "traceback": [
      "\u001b[0;31m---------------------------------------------------------------------------\u001b[0m",
      "\u001b[0;31mAttributeError\u001b[0m                            Traceback (most recent call last)",
      "Cell \u001b[0;32mIn[35], line 2\u001b[0m\n\u001b[1;32m      1\u001b[0m \u001b[38;5;28;01mfor\u001b[39;00m i \u001b[38;5;129;01min\u001b[39;00m cmmnt_box:\n\u001b[0;32m----> 2\u001b[0m     \u001b[38;5;28mprint\u001b[39m(\u001b[43mi\u001b[49m\u001b[38;5;241;43m.\u001b[39;49m\u001b[43mdiv\u001b[49m\u001b[38;5;241;43m.\u001b[39;49m\u001b[43mdiv\u001b[49m\u001b[38;5;241m.\u001b[39mdiv\u001b[38;5;241m.\u001b[39mdiv\u001b[38;5;241m.\u001b[39mtext)\n",
      "\u001b[0;31mAttributeError\u001b[0m: 'NoneType' object has no attribute 'div'"
     ]
    }
   ],
   "source": [
    "for i in cmmnt_box:\n",
    "    print(i.div.div.div.div.text)"
   ]
  },
  {
   "cell_type": "markdown",
   "id": "15fcd179-622c-4999-b714-c496ffaded27",
   "metadata": {},
   "source": [
    "**fetching heading of comment messages**"
   ]
  },
  {
   "cell_type": "code",
   "execution_count": 42,
   "id": "4a1c3c41-2638-4c1f-950b-ca9d2c8bcf78",
   "metadata": {},
   "outputs": [
    {
     "data": {
      "text/plain": [
       "'Classy product'"
      ]
     },
     "execution_count": 42,
     "metadata": {},
     "output_type": "execute_result"
    }
   ],
   "source": [
    "cmmnt_box[0].div.div.div.p.text"
   ]
  },
  {
   "cell_type": "code",
   "execution_count": 43,
   "id": "981c1f3f-9fbc-4c18-bbe3-d8e3af20ffc9",
   "metadata": {},
   "outputs": [
    {
     "name": "stdout",
     "output_type": "stream",
     "text": [
      "Classy product\n",
      "Great product\n",
      "Terrific purchase\n",
      "Worth every penny\n",
      "Brilliant\n",
      "Wonderful\n",
      "Great product\n",
      "Worth the money\n",
      "Really Nice\n",
      "Awesome\n"
     ]
    },
    {
     "ename": "AttributeError",
     "evalue": "'NoneType' object has no attribute 'div'",
     "output_type": "error",
     "traceback": [
      "\u001b[0;31m---------------------------------------------------------------------------\u001b[0m",
      "\u001b[0;31mAttributeError\u001b[0m                            Traceback (most recent call last)",
      "Cell \u001b[0;32mIn[43], line 2\u001b[0m\n\u001b[1;32m      1\u001b[0m \u001b[38;5;28;01mfor\u001b[39;00m i \u001b[38;5;129;01min\u001b[39;00m cmmnt_box:\n\u001b[0;32m----> 2\u001b[0m     \u001b[38;5;28mprint\u001b[39m(\u001b[43mi\u001b[49m\u001b[38;5;241;43m.\u001b[39;49m\u001b[43mdiv\u001b[49m\u001b[38;5;241;43m.\u001b[39;49m\u001b[43mdiv\u001b[49m\u001b[38;5;241m.\u001b[39mdiv\u001b[38;5;241m.\u001b[39mp\u001b[38;5;241m.\u001b[39mtext)\n",
      "\u001b[0;31mAttributeError\u001b[0m: 'NoneType' object has no attribute 'div'"
     ]
    }
   ],
   "source": [
    "for i in cmmnt_box:\n",
    "    print(i.div.div.div.p.text)"
   ]
  },
  {
   "cell_type": "markdown",
   "id": "c897dde5-bebd-4dd6-a288-3e757c6d5c11",
   "metadata": {},
   "source": [
    "**fetching comment messages**"
   ]
  },
  {
   "cell_type": "code",
   "execution_count": 51,
   "id": "7d7fcc6a-7179-4e7b-91c5-cdce1866aa62",
   "metadata": {},
   "outputs": [
    {
     "data": {
      "text/plain": [
       "'Nice tv.. Good clarity of picture.. @this cost it is very good tv.. But no installation done. Installation done by self..'"
      ]
     },
     "execution_count": 51,
     "metadata": {},
     "output_type": "execute_result"
    }
   ],
   "source": [
    "cmmnt_box[0].div.div.find_all(\"div\", {\"class\":\"\"})[0].div.text"
   ]
  },
  {
   "cell_type": "code",
   "execution_count": 52,
   "id": "7bd5d251-b006-4f8f-a1a5-a732f0346a04",
   "metadata": {},
   "outputs": [
    {
     "name": "stdout",
     "output_type": "stream",
     "text": [
      "Nice tv.. Good clarity of picture.. @this cost it is very good tv.. But no installation done. Installation done by self..\n",
      "It's a good item.iloved.it superit's very good tv on screen mirroring wifi usb.   And support superb tv thankyou Flipkart\n",
      "Nice tv picture quality good & sound is to good screen minoring is not available\n",
      "Nice product in such a low price range, good picture quality, good sound quality. Overall a good to buy in such a price range.\n",
      "I'm happy with the service and installation. The product is awesome a great deal of price. The picture quality is good and sound is best this segment. The system is also used friendly. Completely satisfied with the product..\n",
      "This product is very good quality.sound and all things is good and remote is better so I suggest that led tv because it's my country brand and all things is good and Nice product in such a low price range I am impressed.\n",
      "Very good build quality & software works very smoothly & fast. Picture & sound quality is excellent. This is value for money, Go for ot with closed eyes\n",
      "Very fast dilivery, was suppose get one 28 th arrived on 26 , giving one star less I got confirm message of installation for tv but they never arrived and cancelled from there end . Other wise picture quality , sound all good with good price .\n",
      "Installed led smart tv today,happy to see its picture and sound quality.price wise it's a good deal,you get all smart features accept Disney plus hot star,app doesn't not run on my smart tv.. overall go for it without hesitation..\n",
      "It's very good TV picture quality and sound quality is very good such as price range is sweetable for me.i am very happy after bought adsun led TV. I also like that because it is made in India. Fully domestic.\n"
     ]
    },
    {
     "ename": "AttributeError",
     "evalue": "'NoneType' object has no attribute 'div'",
     "output_type": "error",
     "traceback": [
      "\u001b[0;31m---------------------------------------------------------------------------\u001b[0m",
      "\u001b[0;31mAttributeError\u001b[0m                            Traceback (most recent call last)",
      "Cell \u001b[0;32mIn[52], line 2\u001b[0m\n\u001b[1;32m      1\u001b[0m \u001b[38;5;28;01mfor\u001b[39;00m i \u001b[38;5;129;01min\u001b[39;00m cmmnt_box:\n\u001b[0;32m----> 2\u001b[0m     \u001b[38;5;28mprint\u001b[39m(\u001b[43mi\u001b[49m\u001b[38;5;241;43m.\u001b[39;49m\u001b[43mdiv\u001b[49m\u001b[38;5;241;43m.\u001b[39;49m\u001b[43mdiv\u001b[49m\u001b[38;5;241m.\u001b[39mfind_all(\u001b[38;5;124m\"\u001b[39m\u001b[38;5;124mdiv\u001b[39m\u001b[38;5;124m\"\u001b[39m, {\u001b[38;5;124m\"\u001b[39m\u001b[38;5;124mclass\u001b[39m\u001b[38;5;124m\"\u001b[39m:\u001b[38;5;124m\"\u001b[39m\u001b[38;5;124m\"\u001b[39m})[\u001b[38;5;241m0\u001b[39m]\u001b[38;5;241m.\u001b[39mdiv\u001b[38;5;241m.\u001b[39mtext)\n",
      "\u001b[0;31mAttributeError\u001b[0m: 'NoneType' object has no attribute 'div'"
     ]
    }
   ],
   "source": [
    "for i in cmmnt_box:\n",
    "    print(i.div.div.find_all(\"div\", {\"class\":\"\"})[0].div.text)"
   ]
  },
  {
   "cell_type": "code",
   "execution_count": null,
   "id": "31909d82-e181-491f-afef-d6abbbf7f473",
   "metadata": {},
   "outputs": [],
   "source": []
  }
 ],
 "metadata": {
  "kernelspec": {
   "display_name": "Python 3 (ipykernel)",
   "language": "python",
   "name": "python3"
  },
  "language_info": {
   "codemirror_mode": {
    "name": "ipython",
    "version": 3
   },
   "file_extension": ".py",
   "mimetype": "text/x-python",
   "name": "python",
   "nbconvert_exporter": "python",
   "pygments_lexer": "ipython3",
   "version": "3.10.8"
  }
 },
 "nbformat": 4,
 "nbformat_minor": 5
}
