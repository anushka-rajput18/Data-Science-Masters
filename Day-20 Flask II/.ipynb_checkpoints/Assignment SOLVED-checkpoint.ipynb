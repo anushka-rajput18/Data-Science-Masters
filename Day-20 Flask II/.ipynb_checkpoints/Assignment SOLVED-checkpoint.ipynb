{
 "cells": [
  {
   "cell_type": "markdown",
   "id": "b08b8f3a",
   "metadata": {},
   "source": [
    "**Q1. Explain GET and POST methods.**"
   ]
  },
  {
   "cell_type": "markdown",
   "id": "c4e93c32",
   "metadata": {},
   "source": [
    "**GET method** is used to retrieve data from the server. When a client sends a GET request, the server responds by sending back the requested data in the response body. GET requests can be cached by the client and the server, which can improve performance, and they can also be bookmarked and shared easily. However, GET requests should not be used to transmit sensitive data like passwords, as the data is visible in the URL, and can be intercepted and read by third parties.\n",
    "\n",
    "**POST method** is used to send data to the server to be processed. When a client sends a POST request, the data is sent in the request body. The server can then use the data to create or update resources on the server, or perform some other operation. POST requests are not cached, and cannot be bookmarked or shared easily, but they are more secure than GET requests, as the data is not visible in the URL.\n",
    "\n",
    "In summary, GET is used to retrieve data, while POST is used to send data to the server for processing. Both methods are important for building web applications and exchanging data between clients and servers."
   ]
  },
  {
   "cell_type": "markdown",
   "id": "3294c66d",
   "metadata": {},
   "source": [
    "**Q2. Why is request used in Flask?**"
   ]
  },
  {
   "cell_type": "markdown",
   "id": "1cb5a0e3",
   "metadata": {},
   "source": [
    "The **request object** in Flask is used to access the incoming HTTP request data from a client-side user. This object contains information about the request method, headers, URL parameters, form data, cookies, and more. By accessing the request object, a Flask application can extract and process the data from the request to generate a response. Flask uses the request object to facilitate communication between clients and servers, allowing users to interact with the web application and retrieve data from it. The request object is an essential component of building web applications with Flask."
   ]
  },
  {
   "cell_type": "markdown",
   "id": "c0b87fea",
   "metadata": {},
   "source": [
    "**Q3. Why is redirect() used in Flask?**"
   ]
  },
  {
   "cell_type": "markdown",
   "id": "a8fa74c0",
   "metadata": {},
   "source": [
    "The **redirect()** function takes a URL argument as its parameter and returns a redirect response to the client. When the client receives the response, it will automatically make a new request to the specified URL, causing the browser to navigate to the new page. It basically prevents duplicate submissions."
   ]
  },
  {
   "cell_type": "markdown",
   "id": "633fcf85",
   "metadata": {},
   "source": [
    "**Q4. What are templates in Flask? Why is the render_template() function used?**"
   ]
  },
  {
   "cell_type": "markdown",
   "id": "2d9936fc",
   "metadata": {},
   "source": [
    "Templates in Flask are files that define the structure and layout of HTML pages, and are created using a template engine such as Jinja2. The render_template() function is used to render a template and generate an HTML response, and takes the name of a template file and any additional variables to pass to the template."
   ]
  },
  {
   "cell_type": "markdown",
   "id": "297e1b6a",
   "metadata": {},
   "source": [
    "**Q5. Create a simple API. Use Postman to test it. Attach the screenshot of the output in the Jupyter Notebook.**"
   ]
  },
  {
   "cell_type": "code",
   "execution_count": 7,
   "id": "1d9cda08",
   "metadata": {},
   "outputs": [
    {
     "data": {
      "text/html": [
       "<img src=\"output1.png\" width=\"900\" height=\"900\"/>"
      ],
      "text/plain": [
       "<IPython.core.display.Image object>"
      ]
     },
     "execution_count": 7,
     "metadata": {},
     "output_type": "execute_result"
    }
   ],
   "source": [
    "from IPython.display import Image\n",
    "  \n",
    "# get the image\n",
    "Image(url=\"output1.png\", width=900, height=900)"
   ]
  },
  {
   "cell_type": "code",
   "execution_count": 8,
   "id": "ab483288",
   "metadata": {},
   "outputs": [
    {
     "data": {
      "text/html": [
       "<img src=\"output2.png\" width=\"900\" height=\"900\"/>"
      ],
      "text/plain": [
       "<IPython.core.display.Image object>"
      ]
     },
     "execution_count": 8,
     "metadata": {},
     "output_type": "execute_result"
    }
   ],
   "source": [
    "from IPython.display import Image\n",
    "  \n",
    "# get the image\n",
    "Image(url=\"output2.png\", width=900, height=900)"
   ]
  }
 ],
 "metadata": {
  "kernelspec": {
   "display_name": "Python 3",
   "language": "python",
   "name": "python3"
  },
  "language_info": {
   "codemirror_mode": {
    "name": "ipython",
    "version": 3
   },
   "file_extension": ".py",
   "mimetype": "text/x-python",
   "name": "python",
   "nbconvert_exporter": "python",
   "pygments_lexer": "ipython3",
   "version": "3.8.8"
  }
 },
 "nbformat": 4,
 "nbformat_minor": 5
}
