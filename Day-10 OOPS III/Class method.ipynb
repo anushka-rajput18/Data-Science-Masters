{
 "cells": [
  {
   "cell_type": "code",
   "execution_count": 1,
   "id": "f658a18b",
   "metadata": {},
   "outputs": [],
   "source": [
    "class pwskills:\n",
    "    def __init__(self, name, email):\n",
    "        self.name = name\n",
    "        self.email = email\n",
    "        \n",
    "    def student_details(self):\n",
    "        print(self.name, self.email)\n",
    "        \n",
    "pw = pwskills(\"Anushka\", \"anu@gmail.com\")"
   ]
  },
  {
   "cell_type": "code",
   "execution_count": 2,
   "id": "7f54206e",
   "metadata": {},
   "outputs": [
    {
     "data": {
      "text/plain": [
       "'Anushka'"
      ]
     },
     "execution_count": 2,
     "metadata": {},
     "output_type": "execute_result"
    }
   ],
   "source": [
    "pw.name"
   ]
  },
  {
   "cell_type": "code",
   "execution_count": 3,
   "id": "9441d38e",
   "metadata": {},
   "outputs": [
    {
     "data": {
      "text/plain": [
       "'anu@gmail.com'"
      ]
     },
     "execution_count": 3,
     "metadata": {},
     "output_type": "execute_result"
    }
   ],
   "source": [
    "pw.email"
   ]
  },
  {
   "cell_type": "code",
   "execution_count": 4,
   "id": "98e893d0",
   "metadata": {},
   "outputs": [
    {
     "name": "stdout",
     "output_type": "stream",
     "text": [
      "Anushka anu@gmail.com\n"
     ]
    }
   ],
   "source": [
    "pw.student_details()"
   ]
  },
  {
   "cell_type": "code",
   "execution_count": 15,
   "id": "c52777af",
   "metadata": {},
   "outputs": [],
   "source": [
    "class pwskills:\n",
    "    \n",
    "    def __init__(self, name, email):\n",
    "        self.name = name\n",
    "        self.email = email\n",
    "       \n",
    "    @classmethod\n",
    "    def details(cls, name, email):\n",
    "        return cls(name, email)\n",
    "    \n",
    "    def student_details(self):\n",
    "        print(self.name, self.email)\n",
    " \n",
    "#feeding data to class method\n",
    "pw1 = pwskills.details(\"Anu\", \"anushka@gmail.com\")"
   ]
  },
  {
   "cell_type": "code",
   "execution_count": 16,
   "id": "0f66add2",
   "metadata": {},
   "outputs": [
    {
     "data": {
      "text/plain": [
       "'Anu'"
      ]
     },
     "execution_count": 16,
     "metadata": {},
     "output_type": "execute_result"
    }
   ],
   "source": [
    "pw1.name"
   ]
  },
  {
   "cell_type": "code",
   "execution_count": 17,
   "id": "a08a3b0d",
   "metadata": {},
   "outputs": [
    {
     "data": {
      "text/plain": [
       "'anushka@gmail.com'"
      ]
     },
     "execution_count": 17,
     "metadata": {},
     "output_type": "execute_result"
    }
   ],
   "source": [
    "pw1.email"
   ]
  },
  {
   "cell_type": "code",
   "execution_count": 18,
   "id": "640da2d3",
   "metadata": {},
   "outputs": [
    {
     "name": "stdout",
     "output_type": "stream",
     "text": [
      "Anu anushka@gmail.com\n"
     ]
    }
   ],
   "source": [
    "pw1.student_details()"
   ]
  },
  {
   "cell_type": "code",
   "execution_count": 32,
   "id": "45c15bc1",
   "metadata": {},
   "outputs": [],
   "source": [
    "class pwskills2:\n",
    "    phone_number = 9876543210\n",
    "    def __init__(self, name, email):\n",
    "        self.name = name\n",
    "        self.email = email\n",
    "    \n",
    "    @classmethod \n",
    "    def change_number(cls, mobile):\n",
    "        pwskills3.phone_number = mobile\n",
    "    \n",
    "    @classmethod\n",
    "    def details(cls, name, email):\n",
    "        return cls(name, email)\n",
    "    \n",
    "    def student_details(self):\n",
    "        print(self.name, self.email, pwskills2.phone_number)"
   ]
  },
  {
   "cell_type": "code",
   "execution_count": 33,
   "id": "c2300dac",
   "metadata": {},
   "outputs": [
    {
     "data": {
      "text/plain": [
       "9876543210"
      ]
     },
     "execution_count": 33,
     "metadata": {},
     "output_type": "execute_result"
    }
   ],
   "source": [
    "pwskills2.phone_number"
   ]
  },
  {
   "cell_type": "code",
   "execution_count": 34,
   "id": "802cbdfa",
   "metadata": {},
   "outputs": [
    {
     "name": "stdout",
     "output_type": "stream",
     "text": [
      "sohan so@gmail 9876543210\n"
     ]
    }
   ],
   "source": [
    "pw2 = pwskills2.details(\"sohan\",\"so@gmail\")\n",
    "pw2.student_details()"
   ]
  },
  {
   "cell_type": "code",
   "execution_count": 35,
   "id": "f04f022b",
   "metadata": {},
   "outputs": [
    {
     "name": "stdout",
     "output_type": "stream",
     "text": [
      "rohan ro@gmail 9876543210\n"
     ]
    }
   ],
   "source": [
    "pw2_obj = pwskills2(\"rohan\",\"ro@gmail\")\n",
    "pw2_obj.student_details()"
   ]
  },
  {
   "cell_type": "code",
   "execution_count": 36,
   "id": "ed06e1d2",
   "metadata": {},
   "outputs": [],
   "source": [
    "pwskills2.change_number(257469292)"
   ]
  },
  {
   "cell_type": "code",
   "execution_count": 38,
   "id": "e77885f4",
   "metadata": {},
   "outputs": [
    {
     "data": {
      "text/plain": [
       "9876543210"
      ]
     },
     "execution_count": 38,
     "metadata": {},
     "output_type": "execute_result"
    }
   ],
   "source": [
    "pwskills2.phone_number"
   ]
  },
  {
   "cell_type": "code",
   "execution_count": 39,
   "id": "eaaa518c",
   "metadata": {},
   "outputs": [],
   "source": [
    "pw2_obj = pwskills2(\"sohail\", \"sheal@gmail.com\")"
   ]
  },
  {
   "cell_type": "markdown",
   "id": "1ad860b7",
   "metadata": {},
   "source": [
    "# OR"
   ]
  },
  {
   "cell_type": "markdown",
   "id": "af717de9",
   "metadata": {},
   "source": [
    "**What are Python Class Methods?**\n",
    "<br>A class method is a type of method that is bound to the class and not the instance of the class. In other words, it operates on the class as a whole, rather than on a specific instance of the class. Class methods are defined using the \"@classmethod\" decorator, followed by a function definition. The first argument of the function is always \"cls,\" which represents the class itself."
   ]
  },
  {
   "cell_type": "markdown",
   "id": "b3c03409",
   "metadata": {},
   "source": [
    "**Why Use Python Class Methods?**\n",
    "<br>Class methods are useful in several situations. For example, you might want to create a factory method that creates instances of your class in a specific way. You could define a class method that creates the instance and returns it to the caller. Another common use case is to provide alternative constructors for your class. This can be useful if you want to create instances of your class in multiple ways, but still have a consistent interface for doing so."
   ]
  },
  {
   "cell_type": "code",
   "execution_count": 3,
   "id": "cdcd38df",
   "metadata": {},
   "outputs": [
    {
     "name": "stdout",
     "output_type": "stream",
     "text": [
      "The name is Harry and company is Apple\n",
      "The name is Harry and company is Tesla\n",
      "Apple\n"
     ]
    }
   ],
   "source": [
    "class Employee:\n",
    "    company = \"Apple\"\n",
    "    def show(self):\n",
    "        print(f\"The name is {self.name} and company is {self.company}\")\n",
    "    \n",
    "    def changeCompany(self, newCompany):\n",
    "        self.company = newCompany\n",
    "        \n",
    "e1 = Employee()\n",
    "e1.name = \"Harry\"\n",
    "e1.show()\n",
    "e1.changeCompany(\"Tesla\")\n",
    "e1.show()\n",
    "print(Employee.company)"
   ]
  },
  {
   "cell_type": "code",
   "execution_count": 4,
   "id": "3187567a",
   "metadata": {},
   "outputs": [
    {
     "name": "stdout",
     "output_type": "stream",
     "text": [
      "The name is Harry and company is Apple\n",
      "The name is Harry and company is Tesla\n",
      "Tesla\n"
     ]
    }
   ],
   "source": [
    "class Employee:\n",
    "    company = \"Apple\"\n",
    "    def show(self):\n",
    "        print(f\"The name is {self.name} and company is {self.company}\")\n",
    "    \n",
    "    @classmethod\n",
    "    def changeCompany(self, newCompany):\n",
    "        self.company = newCompany\n",
    "        \n",
    "e1 = Employee()\n",
    "e1.name = \"Harry\"\n",
    "e1.show()\n",
    "e1.changeCompany(\"Tesla\")\n",
    "e1.show()\n",
    "print(Employee.company)"
   ]
  },
  {
   "cell_type": "markdown",
   "id": "e8ee892f",
   "metadata": {},
   "source": [
    "**How to Use Python Class Methods**\n",
    "To define a class method, you simply use the \"@classmethod\" decorator before the method definition. The first argument of the method should always be \"cls,\" which represents the class itself. Here is an example of how to define a class method:"
   ]
  },
  {
   "cell_type": "code",
   "execution_count": 5,
   "id": "f5d776e4",
   "metadata": {},
   "outputs": [],
   "source": [
    "class ExampleClass:\n",
    "    @classmethod\n",
    "    def factory_method(cls, argument1, argument2):\n",
    "        return cls(argument1, argument2)"
   ]
  },
  {
   "cell_type": "markdown",
   "id": "34b6adb1",
   "metadata": {},
   "source": [
    "In this example, the \"factory_method\" is a class method that takes two arguments, \"argument1\" and \"argument2.\" It creates a new instance of the class \"ExampleClass\" using the \"cls\" keyword, and returns the new instance to the caller.\n",
    "\n",
    "It's important to note that class methods cannot modify the class in any way. If you need to modify the class, you should use a class level variable instead."
   ]
  },
  {
   "cell_type": "code",
   "execution_count": null,
   "id": "0bf7a32a",
   "metadata": {},
   "outputs": [],
   "source": []
  }
 ],
 "metadata": {
  "kernelspec": {
   "display_name": "Python 3",
   "language": "python",
   "name": "python3"
  },
  "language_info": {
   "codemirror_mode": {
    "name": "ipython",
    "version": 3
   },
   "file_extension": ".py",
   "mimetype": "text/x-python",
   "name": "python",
   "nbconvert_exporter": "python",
   "pygments_lexer": "ipython3",
   "version": "3.8.8"
  }
 },
 "nbformat": 4,
 "nbformat_minor": 5
}
