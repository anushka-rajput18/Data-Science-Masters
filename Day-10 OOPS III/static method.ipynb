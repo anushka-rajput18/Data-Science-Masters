{
 "cells": [
  {
   "cell_type": "markdown",
   "id": "2da66754",
   "metadata": {},
   "source": [
    "Static methods in Python are methods that belong to a class rather than an instance of the class. They are defined using the @staticmethod decorator and do not have access to the instance of the class (i.e. self). They are called on the class itself, not on an instance of the class. Static methods are often used to create utility functions that don't need access to instance data."
   ]
  },
  {
   "cell_type": "code",
   "execution_count": 1,
   "id": "b439debf",
   "metadata": {},
   "outputs": [
    {
     "name": "stdout",
     "output_type": "stream",
     "text": [
      "3\n"
     ]
    }
   ],
   "source": [
    "class Math:\n",
    "    @staticmethod\n",
    "    def add(a, b):\n",
    "        return a + b\n",
    "\n",
    "result = Math.add(1, 2)\n",
    "print(result) # Output: 3"
   ]
  },
  {
   "cell_type": "markdown",
   "id": "cf1c6dc2",
   "metadata": {},
   "source": [
    "In this example, the add method is a static method of the Math class. It takes two parameters a and b and returns their sum. The method can be called on the class itself, without the need to create an instance of the class."
   ]
  },
  {
   "cell_type": "code",
   "execution_count": 1,
   "id": "f38e450f",
   "metadata": {},
   "outputs": [
    {
     "name": "stdout",
     "output_type": "stream",
     "text": [
      "anu anu@gmail.com 987654\n"
     ]
    }
   ],
   "source": [
    "class pwskills:\n",
    "    def student_details(self, name, mail_id, number):\n",
    "        print(name, mail_id, number)\n",
    "        \n",
    "obj = pwskills()\n",
    "obj.student_details(\"anu\",\"anu@gmail.com\", 987654)"
   ]
  },
  {
   "cell_type": "markdown",
   "id": "b836296d",
   "metadata": {},
   "source": [
    "- we want a method which is not depended on obj because we cant always keep creating obj"
   ]
  },
  {
   "cell_type": "code",
   "execution_count": 3,
   "id": "33ae7fd5",
   "metadata": {},
   "outputs": [],
   "source": [
    "class pwskills1:\n",
    "    def student_details(self, name, mail_id, number):\n",
    "        print(name, mail_id, number)\n",
    "        \n",
    "    @staticmethod\n",
    "    def mentor_class(list_mentor):\n",
    "        print(list_mentor)\n",
    "\n",
    "    def mentor(self, mentor_list):\n",
    "        print(mentor_list)"
   ]
  },
  {
   "cell_type": "code",
   "execution_count": 3,
   "id": "702e3961",
   "metadata": {},
   "outputs": [
    {
     "name": "stdout",
     "output_type": "stream",
     "text": [
      "['subh', 'krish']\n"
     ]
    }
   ],
   "source": [
    "pwskills1.mentor_class([\"subh\", \"krish\"])"
   ]
  },
  {
   "cell_type": "code",
   "execution_count": 5,
   "id": "96ac586b",
   "metadata": {},
   "outputs": [
    {
     "name": "stdout",
     "output_type": "stream",
     "text": [
      "['subh', 'krish']\n"
     ]
    }
   ],
   "source": [
    "pw1 = pwskills1()\n",
    "pw1.mentor([\"subh\", \"krish\"])"
   ]
  },
  {
   "cell_type": "code",
   "execution_count": 6,
   "id": "0b9987db",
   "metadata": {},
   "outputs": [
    {
     "name": "stdout",
     "output_type": "stream",
     "text": [
      "['subh', 'krish']\n"
     ]
    }
   ],
   "source": [
    "pw1.mentor_class([\"subh\", \"krish\"])"
   ]
  },
  {
   "cell_type": "markdown",
   "id": "d5216400",
   "metadata": {},
   "source": [
    "- we can call static method inside instance method provided it is defined before that instance method"
   ]
  },
  {
   "cell_type": "markdown",
   "id": "9baec549",
   "metadata": {},
   "source": [
    "- we can call static method inside class method but static method should be defined first"
   ]
  }
 ],
 "metadata": {
  "kernelspec": {
   "display_name": "Python 3",
   "language": "python",
   "name": "python3"
  },
  "language_info": {
   "codemirror_mode": {
    "name": "ipython",
    "version": 3
   },
   "file_extension": ".py",
   "mimetype": "text/x-python",
   "name": "python",
   "nbconvert_exporter": "python",
   "pygments_lexer": "ipython3",
   "version": "3.8.8"
  }
 },
 "nbformat": 4,
 "nbformat_minor": 5
}
