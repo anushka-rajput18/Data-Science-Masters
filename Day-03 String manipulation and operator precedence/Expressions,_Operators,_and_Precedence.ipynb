{
 "cells": [
  {
   "cell_type": "markdown",
   "metadata": {
    "id": "pQEGDvx_F1lx"
   },
   "source": []
  },
  {
   "cell_type": "markdown",
   "metadata": {
    "id": "RW7RTua28iVx"
   },
   "source": [
    "## 4.1 Operators\n",
    "\n",
    "* Logical\n",
    "* Equality \n",
    "* Comparision\n",
    "* Arithmetic\n",
    "* Bitwise"
   ]
  },
  {
   "cell_type": "markdown",
   "metadata": {
    "id": "FE7oKQVqOuXL"
   },
   "source": [
    "### 4.1.1 Logical Operators\n",
    "In python following keywords are used for boolean operations -\n",
    "\n",
    "|Keywords | Meaning|\n",
    "|-|-|\n",
    "|**not**|unary negation|\n",
    "|**and**|conditional AND|\n",
    "|**or**|conditional OR| \n",
    "\n",
    "**EXAMPLES**:"
   ]
  },
  {
   "cell_type": "code",
   "execution_count": 1,
   "metadata": {
    "colab": {
     "base_uri": "https://localhost:8080/",
     "height": 175
    },
    "id": "A6P7MGeiAV_u",
    "outputId": "03496c3c-a1a5-48bb-c1e5-57e46fa32929"
   },
   "outputs": [
    {
     "name": "stdout",
     "output_type": "stream",
     "text": [
      "Defined value of START = True\n",
      "Defined value of STOP = False \n",
      "\n",
      "Defined value of START = True\n",
      "Value of STOP by negating START= False \n",
      "\n",
      "Value of START by negating STOP = True\n",
      "Defined value of STOP = False \n",
      "\n"
     ]
    }
   ],
   "source": [
    "# Lets define two variables having boolean values True and False-\n",
    "START = True\n",
    "STOP = False\n",
    "\n",
    "# Print the values as it is\n",
    "print(f\"Defined value of START = {START}\")\n",
    "print(f\"Defined value of STOP = {STOP} \\n\")\n",
    "\n",
    "# it can also be written as - \n",
    "print(f\"Defined value of START = {START}\")\n",
    "print(f\"Value of STOP by negating START= {not START} \\n\")\n",
    "\n",
    "# alternatively -\n",
    "print(f\"Value of START by negating STOP = {not STOP}\")\n",
    "print(f\"Defined value of STOP = {STOP} \\n\")\n"
   ]
  },
  {
   "cell_type": "markdown",
   "metadata": {
    "id": "lCeP3wVWGwrl"
   },
   "source": [
    "> Lets define two variables with integer values 1 and 0-"
   ]
  },
  {
   "cell_type": "code",
   "execution_count": 2,
   "metadata": {
    "colab": {
     "base_uri": "https://localhost:8080/",
     "height": 175
    },
    "id": "n781oO_qA9rJ",
    "outputId": "c84d243f-4819-476d-dd81-4ad08e5ca5b9"
   },
   "outputs": [
    {
     "name": "stdout",
     "output_type": "stream",
     "text": [
      "Defined value of START = 1\n",
      "Defined value of STOP = 0 \n",
      "\n",
      "Defined value of START = 1\n",
      "Value of STOP by negating START= 0 \n",
      "\n",
      "Value of START by negating STOP = 1\n",
      "Defined value of STOP = 0 \n",
      "\n"
     ]
    }
   ],
   "source": [
    "START = 1\n",
    "STOP = 0\n",
    "\n",
    "# Print the values as it is\n",
    "print(f\"Defined value of START = {START}\")\n",
    "print(f\"Defined value of STOP = {STOP} \\n\")\n",
    "\n",
    "# if can also be written as - \n",
    "print(f\"Defined value of START = {START}\")\n",
    "print(f\"Value of STOP by negating START= {int(not START)} \\n\")\n",
    "\n",
    "# alternatively -\n",
    "print(f\"Value of START by negating STOP = {int(not STOP)}\")\n",
    "print(f\"Defined value of STOP = {STOP} \\n\")"
   ]
  },
  {
   "cell_type": "markdown",
   "metadata": {
    "id": "hnALRoJxGfV9"
   },
   "source": [
    "> carefully observe the following examples:- "
   ]
  },
  {
   "cell_type": "code",
   "execution_count": 3,
   "metadata": {
    "colab": {
     "base_uri": "https://localhost:8080/",
     "height": 281
    },
    "id": "YUEA-MUPCdWM",
    "outputId": "66a2f9f8-5904-4c59-e10a-ec4e652c1996"
   },
   "outputs": [
    {
     "name": "stdout",
     "output_type": "stream",
     "text": [
      "boolean value of no. 0 is False\n",
      "boolean value of no. 1 is True\n",
      "negation of 0 is True and negation of 1 is False\n",
      "\n",
      "#------------------------#\n",
      "\n",
      "boolean value of no. -5 is True\n",
      "boolean value of no. 5 is True\n",
      "negation of -5 is False and negation of 5 is False\n",
      "\n",
      "#------------------------#\n",
      "\n",
      "boolean value of no. -5.99 is True\n",
      "boolean value of no. 5.6 is True\n",
      "negation of -5.99 is False and negation of 5.6 is False\n"
     ]
    }
   ],
   "source": [
    "zero = 0\n",
    "one = 1\n",
    "\n",
    "print(f\"boolean value of no. {zero} is {bool(zero)}\")\n",
    "print(f\"boolean value of no. {one} is {bool(one)}\")\n",
    "print(f\"negation of {zero} is {not zero} and negation of {one} is {not one}\")\n",
    "print(\"\\n#------------------------#\\n\")\n",
    "\n",
    "Some_negative_integer = -5\n",
    "Some_positive_integer = 5\n",
    "\n",
    "print(f\"boolean value of no. {Some_negative_integer} is {bool(Some_negative_integer)}\")\n",
    "print(f\"boolean value of no. {Some_positive_integer} is {bool(Some_positive_integer)}\")\n",
    "print(f\"negation of {Some_negative_integer} is {not Some_negative_integer} \\\n",
    "and negation of {Some_positive_integer} is {not Some_positive_integer}\")\n",
    "\n",
    "print(\"\\n#------------------------#\\n\")\n",
    "\n",
    "Some_negative_float = -5.99\n",
    "Some_positive_float = 5.6\n",
    "\n",
    "print(f\"boolean value of no. {Some_negative_float} is {bool(Some_negative_float)}\")\n",
    "print(f\"boolean value of no. {Some_positive_float} is {bool(Some_positive_float)}\")\n",
    "print(f\"negation of {Some_negative_float} is {not Some_negative_float} \\\n",
    "and negation of {Some_positive_float} is {not Some_positive_float}\")"
   ]
  },
  {
   "cell_type": "code",
   "execution_count": 5,
   "metadata": {},
   "outputs": [
    {
     "name": "stdout",
     "output_type": "stream",
     "text": [
      "True\n"
     ]
    }
   ],
   "source": [
    "num = -5.89\n",
    "print(bool(num))"
   ]
  },
  {
   "cell_type": "markdown",
   "metadata": {
    "id": "hnheij8tHWLq"
   },
   "source": [
    "> Example for logical AND operation-"
   ]
  },
  {
   "cell_type": "code",
   "execution_count": null,
   "metadata": {
    "colab": {
     "base_uri": "https://localhost:8080/",
     "height": 158
    },
    "id": "8hfaoPG3DKmT",
    "outputId": "36c994d2-781a-41d2-d984-0ef682d2080a"
   },
   "outputs": [
    {
     "name": "stdout",
     "output_type": "stream",
     "text": [
      "Dish contains VEGETABLES: True\n",
      "Dish contains SALT: False\n",
      "Hence dish prepared was good: False\n",
      "\n",
      "Dish contains VEGETABLES: True\n",
      "Dish contains SALT: True\n",
      "Hence dish prepared was good: True\n",
      "\n"
     ]
    }
   ],
   "source": [
    "VEGETABLES = True\n",
    "SALT = False\n",
    "DISH = VEGETABLES and SALT\n",
    "\n",
    "print(f\"Dish contains VEGETABLES: {VEGETABLES}\")\n",
    "print(f\"Dish contains SALT: {SALT}\")\n",
    "print(f\"Hence dish prepared was good: {DISH}\\n\")\n",
    "\n",
    "VEGETABLES = True\n",
    "SALT = True\n",
    "DISH = VEGETABLES and SALT\n",
    "\n",
    "print(f\"Dish contains VEGETABLES: {VEGETABLES}\")\n",
    "print(f\"Dish contains SALT: {SALT}\")\n",
    "print(f\"Hence dish prepared was good: {DISH}\\n\")"
   ]
  },
  {
   "cell_type": "markdown",
   "metadata": {
    "id": "3qh4HV0BD0uY"
   },
   "source": [
    "Above example in tablular format-\n",
    "\n",
    "|VEGETABLES|SALT|DISH|\n",
    "|:-:|:-:|:-:|\n",
    "|False|False|False|\n",
    "|False|True|False|\n",
    "|True|False|False|\n",
    "|True|True|True|\n",
    "\n",
    "Above table represents AND gate's Truth table-\n",
    "\n",
    "|X|Y|Z|\n",
    "|-|-|-|\n",
    "|0|0|0|\n",
    "|0|1|0|\n",
    "|1|0|0|\n",
    "|1|1|1|\n"
   ]
  },
  {
   "cell_type": "markdown",
   "metadata": {
    "id": "d8Vv6kqAJlPf"
   },
   "source": [
    "> Example for logical OR operation"
   ]
  },
  {
   "cell_type": "code",
   "execution_count": null,
   "metadata": {
    "colab": {
     "base_uri": "https://localhost:8080/",
     "height": 70
    },
    "id": "gLc4OV9pI2ME",
    "outputId": "82faef72-8016-40b1-ffb5-6eb566da757e"
   },
   "outputs": [
    {
     "name": "stdout",
     "output_type": "stream",
     "text": [
      "You have BIKE: True\n",
      "You have CAR: True\n",
      "You can travel 100 KMs: True\n"
     ]
    }
   ],
   "source": [
    "BIKE = True\n",
    "CAR = True\n",
    "TRAVEL_100_KM = BIKE or CAR\n",
    "\n",
    "print(f\"You have BIKE: {BIKE}\")\n",
    "print(f\"You have CAR: {CAR}\")\n",
    "print(f\"You can travel 100 KMs: {TRAVEL_100_KM}\")\n"
   ]
  },
  {
   "cell_type": "code",
   "execution_count": null,
   "metadata": {
    "colab": {
     "base_uri": "https://localhost:8080/",
     "height": 70
    },
    "id": "oCIElZ4e8oh8",
    "outputId": "ac575978-80ea-4b81-b1c8-2d1e0ab00164"
   },
   "outputs": [
    {
     "name": "stdout",
     "output_type": "stream",
     "text": [
      "You have BIKE: True\n",
      "You have CAR: False\n",
      "You can travel 100 KMs: True\n"
     ]
    }
   ],
   "source": [
    "BIKE = True\n",
    "CAR = False\n",
    "TRAVEL_100_KM = BIKE or CAR\n",
    "\n",
    "print(f\"You have BIKE: {BIKE}\")\n",
    "print(f\"You have CAR: {CAR}\")\n",
    "print(f\"You can travel 100 KMs: {TRAVEL_100_KM}\")\n"
   ]
  },
  {
   "cell_type": "code",
   "execution_count": null,
   "metadata": {
    "colab": {
     "base_uri": "https://localhost:8080/",
     "height": 70
    },
    "id": "1QLPw6X28r7P",
    "outputId": "68446e98-48fe-43e9-8d37-0968c10b3e14"
   },
   "outputs": [
    {
     "name": "stdout",
     "output_type": "stream",
     "text": [
      "You have BIKE: False\n",
      "You have CAR: True\n",
      "You can travel 100 KMs: True\n"
     ]
    }
   ],
   "source": [
    "BIKE = False\n",
    "CAR = True\n",
    "TRAVEL_100_KM = BIKE or CAR\n",
    "\n",
    "print(f\"You have BIKE: {BIKE}\")\n",
    "print(f\"You have CAR: {CAR}\")\n",
    "print(f\"You can travel 100 KMs: {TRAVEL_100_KM}\")"
   ]
  },
  {
   "cell_type": "code",
   "execution_count": null,
   "metadata": {
    "colab": {
     "base_uri": "https://localhost:8080/",
     "height": 70
    },
    "id": "IVIsJa3A8vdO",
    "outputId": "9d04472b-b839-4d1e-d000-af591ef9967b"
   },
   "outputs": [
    {
     "name": "stdout",
     "output_type": "stream",
     "text": [
      "You have BIKE: False\n",
      "You have CAR: False\n",
      "You can travel 100 KMs: False\n"
     ]
    }
   ],
   "source": [
    "BIKE = False\n",
    "CAR = False\n",
    "TRAVEL_100_KM = BIKE or CAR\n",
    "\n",
    "print(f\"You have BIKE: {BIKE}\")\n",
    "print(f\"You have CAR: {CAR}\")\n",
    "print(f\"You can travel 100 KMs: {TRAVEL_100_KM}\")"
   ]
  },
  {
   "cell_type": "markdown",
   "metadata": {
    "id": "l1PUiMErCndW"
   },
   "source": [
    "Above example in tablular format-\n",
    "\n",
    "|BIKE|CAR|TRAVEL_100_KM|\n",
    "|:-:|:-:|:-:|\n",
    "|False|False|False|\n",
    "|False|True|True|\n",
    "|True|False|True|\n",
    "|True|True|True|\n",
    "\n",
    "Above table represents OR gates Truth table-\n",
    "\n",
    "|X|Y|Z|\n",
    "|-|-|-|\n",
    "|0|0|0|\n",
    "|0|1|1|\n",
    "|1|0|1|\n",
    "|1|1|1|\n",
    "\n",
    "---\n",
    "\n"
   ]
  },
  {
   "cell_type": "markdown",
   "metadata": {
    "id": "x8cSdpZZNero"
   },
   "source": [
    "### 4.1.2 Equality Operators\n",
    "\n",
    "Following operations are present in python for equlity check operation-\n",
    "\n",
    "|Operators|Meaning|\n",
    "|-|-|\n",
    "|**is**|***a is b*** returns true if variable/identifiers a and b *points* to the *same object*|\n",
    "|**is not**|***a is not b*** returns true if variable/identifiers a and b *points* to the *different object*|\n",
    "|**==**|***a == b*** returns true if variable/identifiers a and b has same value|\n",
    "|**!=**|***a != b*** returns true if variable/identifiers a and b has different value|"
   ]
  },
  {
   "cell_type": "markdown",
   "metadata": {
    "id": "aqytu3oofhwP"
   },
   "source": [
    "> Observe the results below carefully -"
   ]
  },
  {
   "cell_type": "code",
   "execution_count": null,
   "metadata": {
    "colab": {
     "base_uri": "https://localhost:8080/",
     "height": 87
    },
    "id": "8tTpE8Elfgf1",
    "outputId": "996ca3a2-86a3-48ad-901f-c52c479b7b01"
   },
   "outputs": [
    {
     "name": "stdout",
     "output_type": "stream",
     "text": [
      "id of list_a = 139926863182024\n",
      "id of list_b = 139926863182152\n",
      "list_a is list_b = False\n",
      "list_a == list_b = True\n"
     ]
    }
   ],
   "source": [
    "list_a = [1,2,3]\n",
    "list_b = [1,2,3]\n",
    "\n",
    "print(f\"id of list_a = {id(list_a)}\")\n",
    "print(f\"id of list_b = {id(list_b)}\")\n",
    "print(f\"list_a is list_b = {list_a is list_b}\")\n",
    "print(f\"list_a == list_b = {list_a == list_b}\")\n"
   ]
  },
  {
   "cell_type": "code",
   "execution_count": null,
   "metadata": {
    "colab": {
     "base_uri": "https://localhost:8080/",
     "height": 87
    },
    "id": "JKmQVE8pkYak",
    "outputId": "61aaff40-3c0c-478b-aa8c-0abf6a89a2ae"
   },
   "outputs": [
    {
     "name": "stdout",
     "output_type": "stream",
     "text": [
      "id of list_a = 139926863182024\n",
      "id of list_c = 139926863182024\n",
      "list_a is list_c = True\n",
      "list_a == list_c = True\n"
     ]
    }
   ],
   "source": [
    "list_c = list_a\n",
    "\n",
    "print(f\"id of list_a = {id(list_a)}\")\n",
    "print(f\"id of list_c = {id(list_c)}\")\n",
    "print(f\"list_a is list_c = {list_a is list_c}\")\n",
    "print(f\"list_a == list_c = {list_a == list_c}\")"
   ]
  },
  {
   "cell_type": "markdown",
   "metadata": {
    "id": "yeCkfKdNNJ-9"
   },
   "source": [
    "> Example for **is not** Operator"
   ]
  },
  {
   "cell_type": "code",
   "execution_count": null,
   "metadata": {
    "colab": {
     "base_uri": "https://localhost:8080/",
     "height": 34
    },
    "id": "r2d928V-NzQ_",
    "outputId": "de291723-a811-4973-e760-1fcb147c9a5d"
   },
   "outputs": [
    {
     "name": "stdout",
     "output_type": "stream",
     "text": [
      "list_d is not list_e = True\n"
     ]
    }
   ],
   "source": [
    "list_d = [1,2,3]\n",
    "list_e = [3,4]\n",
    "\n",
    "print(f\"list_d is not list_e = {list_d is not list_e}\")"
   ]
  },
  {
   "cell_type": "markdown",
   "metadata": {
    "id": "OCD0C4YuNMvN"
   },
   "source": [
    "> Example for **==** Operator"
   ]
  },
  {
   "cell_type": "code",
   "execution_count": null,
   "metadata": {
    "colab": {
     "base_uri": "https://localhost:8080/",
     "height": 34
    },
    "id": "jbtwKQs3OTbg",
    "outputId": "4e4e939c-604f-4a87-9487-6c328068298b"
   },
   "outputs": [
    {
     "name": "stdout",
     "output_type": "stream",
     "text": [
      "list_d == list_e = False\n"
     ]
    }
   ],
   "source": [
    "list_d = [1,2,3]\n",
    "list_e = [3,4]\n",
    "\n",
    "print(f\"list_d == list_e = {list_d == list_e}\")"
   ]
  },
  {
   "cell_type": "markdown",
   "metadata": {
    "id": "Xv2C6nb-NO3A"
   },
   "source": [
    "> Example for **!=** Operator"
   ]
  },
  {
   "cell_type": "code",
   "execution_count": null,
   "metadata": {
    "colab": {
     "base_uri": "https://localhost:8080/",
     "height": 34
    },
    "id": "gyIqGWP_XU0p",
    "outputId": "2026d959-7c38-4b18-e5ff-f7de0ff80083"
   },
   "outputs": [
    {
     "name": "stdout",
     "output_type": "stream",
     "text": [
      "list_d == list_e = True\n"
     ]
    }
   ],
   "source": [
    "list_d = [1,2,3]\n",
    "list_e = [3,4]\n",
    "\n",
    "print(f\"list_d == list_e = {list_d != list_e}\")"
   ]
  },
  {
   "cell_type": "markdown",
   "metadata": {
    "id": "s4hW8qlWO6v3"
   },
   "source": [
    "### 4.1.3 Comparison Operators"
   ]
  },
  {
   "cell_type": "markdown",
   "metadata": {
    "id": "tkeM9-x3QXPI"
   },
   "source": [
    "|Operation|Meaning|\n",
    "|:-:|:-:|\n",
    "| **<** |less than|\n",
    "| **<=** |less than or equal to|\n",
    "| **>** |greater than|\n",
    "| **>=** |greater than or equal to|\n",
    "\n",
    "\n",
    "\n"
   ]
  },
  {
   "cell_type": "code",
   "execution_count": null,
   "metadata": {
    "colab": {
     "base_uri": "https://localhost:8080/",
     "height": 34
    },
    "id": "6L0hosLGO6L8",
    "outputId": "7aa2f54a-bdda-4650-fa1c-a1ee71dce103"
   },
   "outputs": [
    {
     "name": "stdout",
     "output_type": "stream",
     "text": [
      "bike is faster than car: False\n"
     ]
    }
   ],
   "source": [
    "maxium_speed_of_bike = 150\n",
    "max_speed_of_car = 200\n",
    "\n",
    "print(f\"bike is faster than car: {maxium_speed_of_bike > max_speed_of_car}\")"
   ]
  },
  {
   "cell_type": "code",
   "execution_count": null,
   "metadata": {
    "colab": {
     "base_uri": "https://localhost:8080/",
     "height": 34
    },
    "id": "C4ByMSjyQJfq",
    "outputId": "a15c8bd1-3315-497b-d910-0930d0b3eab4"
   },
   "outputs": [
    {
     "name": "stdout",
     "output_type": "stream",
     "text": [
      "bike is slower than car: True\n"
     ]
    }
   ],
   "source": [
    "print(f\"bike is slower than car: {maxium_speed_of_bike < max_speed_of_car}\")"
   ]
  },
  {
   "cell_type": "code",
   "execution_count": null,
   "metadata": {
    "colab": {
     "base_uri": "https://localhost:8080/",
     "height": 34
    },
    "id": "09rmC5cCQSN_",
    "outputId": "04db40b0-fd3b-4c77-f9a0-b7ff3611673d"
   },
   "outputs": [
    {
     "name": "stdout",
     "output_type": "stream",
     "text": [
      "today's temperature is less than or equal to yesterday's: True\n"
     ]
    }
   ],
   "source": [
    "temp_today = 25\n",
    "temp_yesterday = 27\n",
    "predicted_temp_nextDay = 27\n",
    "\n",
    "print(f\"today's temperature is less than or equal to yesterday's: {temp_today <= temp_yesterday}\")"
   ]
  },
  {
   "cell_type": "code",
   "execution_count": null,
   "metadata": {
    "colab": {
     "base_uri": "https://localhost:8080/",
     "height": 34
    },
    "id": "nY6s2qJ9S16U",
    "outputId": "30819427-3f2b-44b6-9dd0-839e4955e76e"
   },
   "outputs": [
    {
     "name": "stdout",
     "output_type": "stream",
     "text": [
      "tomorrow's temperature is expected to be same or more as of today: True\n"
     ]
    }
   ],
   "source": [
    "print(f\"tomorrow's temperature is expected to be same or more as of today: {predicted_temp_nextDay >= temp_today}\")"
   ]
  },
  {
   "cell_type": "markdown",
   "metadata": {
    "id": "mQ9levVjRIJM"
   },
   "source": [
    "### 4.1.4 Arithmetic Operators"
   ]
  },
  {
   "cell_type": "markdown",
   "metadata": {
    "id": "hcfFvuFMRQVi"
   },
   "source": [
    "|Operation|Meaning|\n",
    "|:-:|:-:|\n",
    "| **+** |addition|\n",
    "| **-** |subtraction|\n",
    "| **\\*** |multiplication|\n",
    "| **/** |true division|\n",
    "| **//** |integer division|\n",
    "| **%** |the modulo operator|"
   ]
  },
  {
   "cell_type": "markdown",
   "metadata": {
    "id": "1PSG2lHtii9s"
   },
   "source": [
    "Here `+`, `-`, `*`, `/` are regular arithmatic operators. Lets look at the `//` and `%` operators"
   ]
  },
  {
   "cell_type": "code",
   "execution_count": null,
   "metadata": {
    "colab": {
     "base_uri": "https://localhost:8080/",
     "height": 53
    },
    "id": "FBJjm0E7RseR",
    "outputId": "a16d51ee-cf07-4141-ad86-7b97d380c48c"
   },
   "outputs": [
    {
     "name": "stdout",
     "output_type": "stream",
     "text": [
      "integer division:\n",
      "25/5=5\n"
     ]
    }
   ],
   "source": [
    "var_a = 5\n",
    "var_b = 25\n",
    "integer_division = var_b // var_a\n",
    "print(f\"integer division:\\n{var_b}/{var_a}={integer_division}\")"
   ]
  },
  {
   "cell_type": "code",
   "execution_count": null,
   "metadata": {
    "colab": {
     "base_uri": "https://localhost:8080/",
     "height": 53
    },
    "id": "NU0MHosYjJRX",
    "outputId": "27e0a006-0121-48fa-8422-bf8932304736"
   },
   "outputs": [
    {
     "name": "stdout",
     "output_type": "stream",
     "text": [
      "integer division:\n",
      "25/3=8\n"
     ]
    }
   ],
   "source": [
    "var_a = 3\n",
    "var_b = 25\n",
    "integer_division = var_b // var_a\n",
    "print(f\"integer division:\\n{var_b}/{var_a}={integer_division}\")"
   ]
  },
  {
   "cell_type": "code",
   "execution_count": null,
   "metadata": {
    "colab": {
     "base_uri": "https://localhost:8080/",
     "height": 53
    },
    "id": "18H0OmhZjaBx",
    "outputId": "ff3c1c45-9714-4b4f-9bba-1cd0db31f55a"
   },
   "outputs": [
    {
     "name": "stdout",
     "output_type": "stream",
     "text": [
      "remainder:\n",
      "25/5 is 0\n"
     ]
    }
   ],
   "source": [
    "var_a = 5\n",
    "var_b = 25\n",
    "remainder = var_b % var_a\n",
    "print(f\"remainder:\\n{var_b}/{var_a} is {remainder}\")"
   ]
  },
  {
   "cell_type": "code",
   "execution_count": null,
   "metadata": {
    "colab": {
     "base_uri": "https://localhost:8080/",
     "height": 53
    },
    "id": "pij5VKWcjPJI",
    "outputId": "b71a1bc4-fc52-440d-eef6-25cf9eff8e4f"
   },
   "outputs": [
    {
     "name": "stdout",
     "output_type": "stream",
     "text": [
      "remainder:\n",
      "25/3 is 1\n"
     ]
    }
   ],
   "source": [
    "var_a = 3\n",
    "var_b = 25\n",
    "remainder = var_b % var_a\n",
    "print(f\"remainder:\\n{var_b}/{var_a} is {remainder}\")"
   ]
  },
  {
   "cell_type": "markdown",
   "metadata": {
    "id": "RMRbsMVkSA6L"
   },
   "source": [
    "### 4.1.5 Bitwise Operators"
   ]
  },
  {
   "cell_type": "markdown",
   "metadata": {
    "id": "drYqZiGuR-gn"
   },
   "source": [
    "|Operation|Meaning|\n",
    "|:-:|:-:|\n",
    "| **∼** |bitwise complement (prefix unary operator)|\n",
    "| **&** |bitwise and|\n",
    "| **\\|** |bitwise or|\n",
    "| **^** |bitwise exclusive-or|\n",
    "| **<<** |shift bits left, filling in with zeros|\n",
    "| **>>** |shift bits right, filling in with sign bit|\n"
   ]
  },
  {
   "cell_type": "markdown",
   "metadata": {
    "id": "kY1kOPX9uEaz"
   },
   "source": [
    "|x|y|&|\n",
    "|:-:|:-:|:-:|\n",
    "|0|0|0|\n",
    "|0|1|0|\n",
    "|1|0|0|\n",
    "|1|1|1|\n",
    "\n",
    "\n",
    "|x|y|\\||\n",
    "|:-:|:-:|:-:|\n",
    "|0|0|0|\n",
    "|0|1|1|\n",
    "|1|0|1|\n",
    "|1|1|1|\n",
    "\n",
    "\n",
    "|x|y|^|\n",
    "|:-:|:-:|:-:|\n",
    "|0|0|0|\n",
    "|0|1|1|\n",
    "|1|0|1|\n",
    "|1|1|0|\n",
    "\n"
   ]
  },
  {
   "cell_type": "code",
   "execution_count": null,
   "metadata": {
    "colab": {
     "base_uri": "https://localhost:8080/",
     "height": 53
    },
    "id": "XalvWJ09mtBy",
    "outputId": "028c47c6-c774-4b5b-c644-208b970264d9"
   },
   "outputs": [
    {
     "name": "stdout",
     "output_type": "stream",
     "text": [
      "var_a: 10 binary of var_a: 0b1010\n",
      "complement of var_a: -11 binary of complement of var_a: -0b1011\n"
     ]
    }
   ],
   "source": [
    "var_a = 10\n",
    "binary_a = bin(var_a)\n",
    "\n",
    "complement_a = ~var_a\n",
    "binary_complement_a = bin(complement_a)\n",
    "\n",
    "print(f\"var_a: {var_a} binary of var_a: {binary_a}\")\n",
    "print(f\"complement of var_a: {complement_a} \\\n",
    "binary of complement of var_a: {binary_complement_a}\") # returns one's compliment"
   ]
  },
  {
   "cell_type": "code",
   "execution_count": null,
   "metadata": {
    "colab": {
     "base_uri": "https://localhost:8080/",
     "height": 71
    },
    "id": "KKc1c81-nJgT",
    "outputId": "2dfe60a2-d253-47d9-b75f-9c144bb19404"
   },
   "outputs": [
    {
     "name": "stdout",
     "output_type": "stream",
     "text": [
      "var_a: 10, var_b: 4\n",
      "binary of var_a: 0b1010, binary of var_b: 0b100\n",
      "bitwise_and: 0, binary_of_bitwise_and: 0b0\n"
     ]
    }
   ],
   "source": [
    "var_a = 10\n",
    "var_b = 4\n",
    "\n",
    "binary_a = bin(var_a)\n",
    "binary_b = bin(var_b)\n",
    "\n",
    "bitwise_and = var_a & var_b\n",
    "binary_bitwise_and = bin(bitwise_and)\n",
    "\n",
    "print(f\"var_a: {var_a}, var_b: {var_b}\")\n",
    "print(f\"binary of var_a: {binary_a}, binary of var_b: {binary_b}\")\n",
    "\n",
    "print(f\"bitwise_and: {bitwise_and}, binary_of_bitwise_and: {binary_bitwise_and}\")"
   ]
  },
  {
   "cell_type": "code",
   "execution_count": null,
   "metadata": {
    "colab": {
     "base_uri": "https://localhost:8080/",
     "height": 71
    },
    "id": "oPTLVNB7paoR",
    "outputId": "9a67ad6f-df88-496b-b7c3-153942138a44"
   },
   "outputs": [
    {
     "name": "stdout",
     "output_type": "stream",
     "text": [
      "var_a: 10, var_b: 4\n",
      "binary of var_a: 0b1010, binary of var_b: 0b100\n",
      "bitwise_or: 14, binary_bitwise_or: 0b1110\n"
     ]
    }
   ],
   "source": [
    "var_a = 10\n",
    "var_b = 4\n",
    "\n",
    "binary_a = bin(var_a)\n",
    "binary_b = bin(var_b)\n",
    "\n",
    "bitwise_or = var_a | var_b\n",
    "binary_bitwise_or = bin(bitwise_and)\n",
    "\n",
    "print(f\"var_a: {var_a}, var_b: {var_b}\")\n",
    "print(f\"binary of var_a: {binary_a}, binary of var_b: {binary_b}\")\n",
    "\n",
    "print(f\"bitwise_or: {bitwise_or}, binary_bitwise_or: {binary_bitwise_or}\")"
   ]
  },
  {
   "cell_type": "code",
   "execution_count": null,
   "metadata": {
    "colab": {
     "base_uri": "https://localhost:8080/",
     "height": 71
    },
    "id": "tfciUP0Yp8nh",
    "outputId": "14aa0938-329d-4ff0-e685-e7c7f2a35865"
   },
   "outputs": [
    {
     "name": "stdout",
     "output_type": "stream",
     "text": [
      "var_a: 10, var_b: 4\n",
      "binary of var_a: 0b1010, binary of var_b: 0b100\n",
      "bitwise_xor: 14, binary_bitwise_xor: 0b1110\n"
     ]
    }
   ],
   "source": [
    "var_a = 10\n",
    "var_b = 4\n",
    "\n",
    "binary_a = bin(var_a)\n",
    "binary_b = bin(var_b)\n",
    "\n",
    "bitwise_xor = var_a ^ var_b\n",
    "binary_bitwise_xor = bin(bitwise_and)\n",
    "\n",
    "print(f\"var_a: {var_a}, var_b: {var_b}\")\n",
    "print(f\"binary of var_a: {binary_a}, binary of var_b: {binary_b}\")\n",
    "\n",
    "print(f\"bitwise_xor: {bitwise_xor}, binary_bitwise_xor: {binary_bitwise_xor}\")"
   ]
  },
  {
   "cell_type": "code",
   "execution_count": null,
   "metadata": {
    "colab": {
     "base_uri": "https://localhost:8080/",
     "height": 89
    },
    "id": "DZv78UusqLsX",
    "outputId": "1f243f21-1b14-4c05-f016-69289effd44c"
   },
   "outputs": [
    {
     "name": "stdout",
     "output_type": "stream",
     "text": [
      "var_a: 50\n",
      "binary of var_a: 0b110010\n",
      "right_shift: 25\n",
      "binary_right_shift: 0b11001\n"
     ]
    }
   ],
   "source": [
    "var_a = 50\n",
    "\n",
    "binary_a = bin(var_a)\n",
    "\n",
    "right_shift = var_a >> 1\n",
    "binary_right_shift = bin(right_shift)\n",
    "\n",
    "print(f\"var_a: {var_a}\")\n",
    "print(f\"binary of var_a: {binary_a}\")\n",
    "\n",
    "print(f\"right_shift: {right_shift}\")\n",
    "print(f\"binary_right_shift: {binary_right_shift}\")"
   ]
  },
  {
   "cell_type": "code",
   "execution_count": null,
   "metadata": {
    "colab": {
     "base_uri": "https://localhost:8080/",
     "height": 35
    },
    "id": "yDfB7kEIwSK9",
    "outputId": "7d729336-fe81-46d3-b7b6-062672c58040"
   },
   "outputs": [
    {
     "data": {
      "text/plain": [
       "True"
      ]
     },
     "execution_count": 31,
     "metadata": {
      "tags": []
     },
     "output_type": "execute_result"
    }
   ],
   "source": [
    "# compare above results with interger division\n",
    "N = 1\n",
    "var_a // 2**N == var_a >> N "
   ]
  },
  {
   "cell_type": "code",
   "execution_count": null,
   "metadata": {
    "colab": {
     "base_uri": "https://localhost:8080/",
     "height": 35
    },
    "id": "cFS4nWIawulh",
    "outputId": "71acc456-8680-49e3-8313-201a32cda5f2"
   },
   "outputs": [
    {
     "data": {
      "text/plain": [
       "True"
      ]
     },
     "execution_count": 32,
     "metadata": {
      "tags": []
     },
     "output_type": "execute_result"
    }
   ],
   "source": [
    "N = 2\n",
    "var_a // 2**N == var_a >> N "
   ]
  },
  {
   "cell_type": "code",
   "execution_count": null,
   "metadata": {
    "colab": {
     "base_uri": "https://localhost:8080/",
     "height": 35
    },
    "id": "bF75DDxTw0Fx",
    "outputId": "e07d7d67-dd7f-4258-d003-154790178844"
   },
   "outputs": [
    {
     "data": {
      "text/plain": [
       "True"
      ]
     },
     "execution_count": 33,
     "metadata": {
      "tags": []
     },
     "output_type": "execute_result"
    }
   ],
   "source": [
    "var_a = 5\n",
    "N = 2\n",
    "var_a // 2**N == var_a >> N "
   ]
  },
  {
   "cell_type": "code",
   "execution_count": null,
   "metadata": {
    "colab": {
     "base_uri": "https://localhost:8080/",
     "height": 89
    },
    "id": "BiFAwapTq9Bt",
    "outputId": "7cc4478e-ad97-44e5-e4b0-2e756d96345c"
   },
   "outputs": [
    {
     "name": "stdout",
     "output_type": "stream",
     "text": [
      "var_a: 48\n",
      "binary of var_a: 0b110000\n",
      "left_shift: 96\n",
      "binary_left_shift: 0b1100000\n"
     ]
    }
   ],
   "source": [
    "var_a = 48\n",
    "\n",
    "binary_a = bin(var_a)\n",
    "\n",
    "left_shift = var_a << 1\n",
    "binary_left_shift = bin(left_shift)\n",
    "\n",
    "print(f\"var_a: {var_a}\")\n",
    "print(f\"binary of var_a: {binary_a}\")\n",
    "\n",
    "print(f\"left_shift: {left_shift}\")\n",
    "print(f\"binary_left_shift: {binary_left_shift}\")"
   ]
  },
  {
   "cell_type": "code",
   "execution_count": null,
   "metadata": {
    "colab": {
     "base_uri": "https://localhost:8080/",
     "height": 35
    },
    "id": "kevaWudjw-sH",
    "outputId": "4f285f38-b4c7-451d-8d40-a68bfe665ec1"
   },
   "outputs": [
    {
     "data": {
      "text/plain": [
       "True"
      ]
     },
     "execution_count": 35,
     "metadata": {
      "tags": []
     },
     "output_type": "execute_result"
    }
   ],
   "source": [
    "# compare the above results with multiplication by powers of 2\n",
    "var_a = 5\n",
    "N = 2\n",
    "var_a * 2**N == var_a << N "
   ]
  },
  {
   "cell_type": "code",
   "execution_count": null,
   "metadata": {
    "colab": {
     "base_uri": "https://localhost:8080/",
     "height": 35
    },
    "id": "3mK_Qn6LxQ9d",
    "outputId": "e3e1b285-d2a4-47c1-af5e-a3ea02aec87f"
   },
   "outputs": [
    {
     "data": {
      "text/plain": [
       "True"
      ]
     },
     "execution_count": 36,
     "metadata": {
      "tags": []
     },
     "output_type": "execute_result"
    }
   ],
   "source": [
    "# compare the above results with multiplication by powers of 2\n",
    "var_a = 25\n",
    "N = 2\n",
    "var_a * 2**N == var_a << N "
   ]
  },
  {
   "cell_type": "markdown",
   "metadata": {
    "id": "G0wAbxaam7dG"
   },
   "source": [
    "## 4.2 Operators for Sets and Dictionaries"
   ]
  },
  {
   "cell_type": "markdown",
   "metadata": {
    "id": "_-2-QmRXm_XG"
   },
   "source": [
    "|Operation|Meaning|\n",
    "|:-:|:-:|\n",
    "|key in s|containment check|\n",
    "| key not in s | non-containment check |\n",
    "| s1 == s2 | s1 is equivalent to s2 |\n",
    "| s1 != s2 | s1 is not equivalent to s2 |\n",
    "| s1 <= s2 | s1 is subset of s2 |\n",
    "| s1 < s2 | s1 is proper subset of s2 | \n",
    "| s1 >= s2 | s1 is superset of s2 | \n",
    "| s1 > s2 | s1 is proper superset of s2 |\n",
    "| s1 \\| s2 | the union of s1 and s2 |\n",
    "| s1 & s2 | the intersection of s1 and s2 |\n",
    "| s1 − s2 | the set of elements in s1 but not s2 |\n",
    "| s1 ˆ s2 | the set of elements in precisely one of s1 or s2 |"
   ]
  },
  {
   "cell_type": "markdown",
   "metadata": {
    "id": "MGHXaN2P6xt_"
   },
   "source": [
    "> Operations on Dictionary"
   ]
  },
  {
   "cell_type": "code",
   "execution_count": null,
   "metadata": {
    "colab": {
     "base_uri": "https://localhost:8080/",
     "height": 35
    },
    "id": "I1h93hkVnkmY",
    "outputId": "4a0530d5-bd24-4edc-c198-0780c5d29c2e"
   },
   "outputs": [
    {
     "data": {
      "text/plain": [
       "True"
      ]
     },
     "execution_count": 38,
     "metadata": {
      "tags": []
     },
     "output_type": "execute_result"
    }
   ],
   "source": [
    "\"x\" in {\"x\":25, \"y\":34}"
   ]
  },
  {
   "cell_type": "code",
   "execution_count": null,
   "metadata": {
    "colab": {
     "base_uri": "https://localhost:8080/",
     "height": 35
    },
    "id": "GooZjXbnxyKH",
    "outputId": "5756cefd-7f6e-4b9d-80d7-6ffa71cab538"
   },
   "outputs": [
    {
     "data": {
      "text/plain": [
       "False"
      ]
     },
     "execution_count": 39,
     "metadata": {
      "tags": []
     },
     "output_type": "execute_result"
    }
   ],
   "source": [
    "\"z\" in {\"x\":25, \"y\":34}"
   ]
  },
  {
   "cell_type": "code",
   "execution_count": null,
   "metadata": {
    "colab": {
     "base_uri": "https://localhost:8080/",
     "height": 35
    },
    "id": "D2s-ohfhx1yg",
    "outputId": "fc43a6b4-d4d8-4843-deb2-7bf960b748fb"
   },
   "outputs": [
    {
     "data": {
      "text/plain": [
       "True"
      ]
     },
     "execution_count": 40,
     "metadata": {
      "tags": []
     },
     "output_type": "execute_result"
    }
   ],
   "source": [
    "\"z\" not in {\"x\":25, \"y\":34}"
   ]
  },
  {
   "cell_type": "markdown",
   "metadata": {
    "id": "GEcszXDd64Cs"
   },
   "source": [
    "> Operations on Sets"
   ]
  },
  {
   "cell_type": "code",
   "execution_count": null,
   "metadata": {
    "colab": {
     "base_uri": "https://localhost:8080/",
     "height": 35
    },
    "id": "6bNEuIu9x5F0",
    "outputId": "66a35884-01dd-4ff7-b366-b98fd817bfe1"
   },
   "outputs": [
    {
     "data": {
      "text/plain": [
       "False"
      ]
     },
     "execution_count": 41,
     "metadata": {
      "tags": []
     },
     "output_type": "execute_result"
    }
   ],
   "source": [
    "set_1 = {1,2,3}\n",
    "set_2 = {1,2,5}\n",
    "\n",
    "set_1 == set_2"
   ]
  },
  {
   "cell_type": "code",
   "execution_count": null,
   "metadata": {
    "colab": {
     "base_uri": "https://localhost:8080/",
     "height": 35
    },
    "id": "RZs90G1UyBAp",
    "outputId": "157fe534-e308-4841-9355-3578edfb1c86"
   },
   "outputs": [
    {
     "data": {
      "text/plain": [
       "True"
      ]
     },
     "execution_count": 42,
     "metadata": {
      "tags": []
     },
     "output_type": "execute_result"
    }
   ],
   "source": [
    "set_1 == set_1"
   ]
  },
  {
   "cell_type": "code",
   "execution_count": null,
   "metadata": {
    "colab": {
     "base_uri": "https://localhost:8080/",
     "height": 35
    },
    "id": "P3qoOl5uyEgh",
    "outputId": "76077aab-419c-4ccf-dcc9-f3b727fd1536"
   },
   "outputs": [
    {
     "data": {
      "text/plain": [
       "True"
      ]
     },
     "execution_count": 43,
     "metadata": {
      "tags": []
     },
     "output_type": "execute_result"
    }
   ],
   "source": [
    "set_1 != set_2"
   ]
  },
  {
   "cell_type": "markdown",
   "metadata": {
    "id": "A5R_RBRe7I2e"
   },
   "source": [
    "> set_1 $\\subseteq$ set_2"
   ]
  },
  {
   "cell_type": "code",
   "execution_count": null,
   "metadata": {
    "colab": {
     "base_uri": "https://localhost:8080/",
     "height": 35
    },
    "id": "zPW5TQ3pyGvT",
    "outputId": "090efb9c-c866-4e6b-aa67-00e82d6ff5a2"
   },
   "outputs": [
    {
     "data": {
      "text/plain": [
       "False"
      ]
     },
     "execution_count": 44,
     "metadata": {
      "tags": []
     },
     "output_type": "execute_result"
    }
   ],
   "source": [
    "set_1 <= set_2"
   ]
  },
  {
   "cell_type": "code",
   "execution_count": null,
   "metadata": {
    "colab": {
     "base_uri": "https://localhost:8080/",
     "height": 35
    },
    "id": "ySLhgqLEyL4u",
    "outputId": "f38df935-eb9b-46a1-aecc-9b48a0abfca9"
   },
   "outputs": [
    {
     "data": {
      "text/plain": [
       "True"
      ]
     },
     "execution_count": 45,
     "metadata": {
      "tags": []
     },
     "output_type": "execute_result"
    }
   ],
   "source": [
    "set_1 = {1,2,3}\n",
    "set_2 = {1,2}\n",
    "\n",
    "set_2 <= set_1"
   ]
  },
  {
   "cell_type": "markdown",
   "metadata": {
    "id": "kX2cZlcj7ftJ"
   },
   "source": [
    "> set_1 $\\subset$ set_2"
   ]
  },
  {
   "cell_type": "code",
   "execution_count": null,
   "metadata": {
    "colab": {
     "base_uri": "https://localhost:8080/",
     "height": 35
    },
    "id": "aR1sCz2jyRQA",
    "outputId": "025ea8c7-f92d-4ea2-b901-ec4a8781edc8"
   },
   "outputs": [
    {
     "data": {
      "text/plain": [
       "True"
      ]
     },
     "execution_count": 46,
     "metadata": {
      "tags": []
     },
     "output_type": "execute_result"
    }
   ],
   "source": [
    "set_2 < set_1"
   ]
  },
  {
   "cell_type": "markdown",
   "metadata": {
    "id": "q7h1AUpa7jtC"
   },
   "source": [
    "> set_1 $\\supseteq$ set_2"
   ]
  },
  {
   "cell_type": "code",
   "execution_count": null,
   "metadata": {
    "colab": {
     "base_uri": "https://localhost:8080/",
     "height": 35
    },
    "id": "cDmOOC1tyTj_",
    "outputId": "819bb582-700f-4110-9583-d130e60ff219"
   },
   "outputs": [
    {
     "data": {
      "text/plain": [
       "False"
      ]
     },
     "execution_count": 48,
     "metadata": {
      "tags": []
     },
     "output_type": "execute_result"
    }
   ],
   "source": [
    "set_2 >= set_1"
   ]
  },
  {
   "cell_type": "code",
   "execution_count": null,
   "metadata": {
    "colab": {
     "base_uri": "https://localhost:8080/",
     "height": 35
    },
    "id": "ZdiPT8W_ybXI",
    "outputId": "017dff1f-a25f-4a60-b42a-256f964b87f0"
   },
   "outputs": [
    {
     "data": {
      "text/plain": [
       "True"
      ]
     },
     "execution_count": 49,
     "metadata": {
      "tags": []
     },
     "output_type": "execute_result"
    }
   ],
   "source": [
    "set_1 >= set_2"
   ]
  },
  {
   "cell_type": "markdown",
   "metadata": {
    "id": "R_Fb2nvo7y78"
   },
   "source": [
    "> set_1 $\\supset$ set_2"
   ]
  },
  {
   "cell_type": "code",
   "execution_count": null,
   "metadata": {
    "colab": {
     "base_uri": "https://localhost:8080/",
     "height": 35
    },
    "id": "E_5-lxC9yeOE",
    "outputId": "803bb8ba-da55-44e5-8520-9826f22aabb9"
   },
   "outputs": [
    {
     "data": {
      "text/plain": [
       "True"
      ]
     },
     "execution_count": 50,
     "metadata": {
      "tags": []
     },
     "output_type": "execute_result"
    }
   ],
   "source": [
    "set_1 > set_2"
   ]
  },
  {
   "cell_type": "markdown",
   "metadata": {
    "id": "xpQk7bmA72T7"
   },
   "source": [
    "> set_1 $\\cup$ set_2"
   ]
  },
  {
   "cell_type": "code",
   "execution_count": null,
   "metadata": {
    "colab": {
     "base_uri": "https://localhost:8080/",
     "height": 35
    },
    "id": "iTli4s07yjtj",
    "outputId": "28601d36-3c57-4f00-860f-2761549f9b9e"
   },
   "outputs": [
    {
     "data": {
      "text/plain": [
       "{1, 2, 3}"
      ]
     },
     "execution_count": 51,
     "metadata": {
      "tags": []
     },
     "output_type": "execute_result"
    }
   ],
   "source": [
    "set_1 | set_2\n"
   ]
  },
  {
   "cell_type": "markdown",
   "metadata": {
    "id": "ej9Bp9sF8ALF"
   },
   "source": [
    "> set_1 $\\cap$ set_2"
   ]
  },
  {
   "cell_type": "code",
   "execution_count": null,
   "metadata": {
    "colab": {
     "base_uri": "https://localhost:8080/",
     "height": 35
    },
    "id": "_1ivequyymKA",
    "outputId": "8ffd2ae4-7a8d-4a66-8055-8a7646e11867"
   },
   "outputs": [
    {
     "data": {
      "text/plain": [
       "{1, 2}"
      ]
     },
     "execution_count": 52,
     "metadata": {
      "tags": []
     },
     "output_type": "execute_result"
    }
   ],
   "source": [
    "set_1 & set_2\n"
   ]
  },
  {
   "cell_type": "markdown",
   "metadata": {
    "id": "fhoX3VNo8DHc"
   },
   "source": [
    "> set_1 - set_2"
   ]
  },
  {
   "cell_type": "code",
   "execution_count": null,
   "metadata": {
    "colab": {
     "base_uri": "https://localhost:8080/",
     "height": 35
    },
    "id": "o0LMmLdWyvEl",
    "outputId": "76ab22b4-2cc6-4c28-9938-9dfbe9514005"
   },
   "outputs": [
    {
     "data": {
      "text/plain": [
       "{3}"
      ]
     },
     "execution_count": 53,
     "metadata": {
      "tags": []
     },
     "output_type": "execute_result"
    }
   ],
   "source": [
    "set_1 - set_2"
   ]
  },
  {
   "cell_type": "markdown",
   "metadata": {
    "id": "BqKZLu9p8GRM"
   },
   "source": [
    "> set_1 ^ set_2"
   ]
  },
  {
   "cell_type": "code",
   "execution_count": null,
   "metadata": {
    "colab": {
     "base_uri": "https://localhost:8080/",
     "height": 35
    },
    "id": "NPV1oryAyyuW",
    "outputId": "7a5c0988-7ada-40a6-cb40-fdac06d3a329"
   },
   "outputs": [
    {
     "data": {
      "text/plain": [
       "{3}"
      ]
     },
     "execution_count": 54,
     "metadata": {
      "tags": []
     },
     "output_type": "execute_result"
    }
   ],
   "source": [
    "set_1 ^ set_2"
   ]
  },
  {
   "cell_type": "markdown",
   "metadata": {
    "id": "9v_X5cgRnsDH"
   },
   "source": [
    "## 4.3 Extended Assignment Operators\n",
    "\n"
   ]
  },
  {
   "cell_type": "code",
   "execution_count": null,
   "metadata": {
    "id": "zWC-PFJinxa6"
   },
   "outputs": [],
   "source": [
    "alpha = [1, 2, 3]\n",
    "beta = alpha # an alias for alpha\n",
    "beta += [4, 5] # extends the original list with two more elements\n",
    "beta = beta + [6, 7] # reassigns beta to a new\n",
    "print(alpha)"
   ]
  },
  {
   "cell_type": "markdown",
   "metadata": {
    "id": "hsoSRaYHoA5f"
   },
   "source": [
    "## 4.4 Operator Precedence\n",
    "\n",
    "Following table represents operators from highest to the lowest precedence -"
   ]
  },
  {
   "cell_type": "markdown",
   "metadata": {
    "id": "rKrpCbJZoD-l"
   },
   "source": [
    "| Operator Precedence |\n",
    "|: - :|\n",
    "\n",
    "|Precedence| Type | Symbols |\n",
    "|:-:|:-:|:-:|\n",
    "|1| member access | expr.member |\n",
    "|2| function/method calls | expr(...) |\n",
    "|3| container subscripts/slices | expr[...] | \n",
    "|4| exponentiation | ** |\n",
    "|5| unary operators | +expr, −expr, ~expr |\n",
    "|6| multiplication, division | *, /, //, % |\n",
    "|7| addition, subtraction | +, − |\n",
    "|8| bitwise shifting | <<, >> |\n",
    "|9| bitwise-and | & |\n",
    "|10| bitwise-xor | ˆ |\n",
    "|11| bitwise-or |\\| | \n",
    "|12| comparisons | is, is not, ==, !=, <, <=, >, >= |\n",
    "|13| containment | in, not in |\n",
    "|14| logical-not | not expr |\n",
    "|15| logical-and | and |\n",
    "|16| logical-or | or |\n",
    "|17| conditional | val1 if condition else val2 |\n",
    "|18| assignments | =, +=, −=, =, etc. |"
   ]
  },
  {
   "cell_type": "markdown",
   "metadata": {
    "id": "zBy1q3245XHV"
   },
   "source": [
    "Reference:-\n",
    "```\n",
    "@book{goodrich2013data,\n",
    "  title={Data Structures and Algorithms in Python},\n",
    "  author={Goodrich, M.T. and Tamassia, R. and Goldwasser, M.H.},\n",
    "  isbn={9788126562176},\n",
    "  url={https://books.google.co.in/books?id=IbCOzQEACAAJ},\n",
    "  year={2013},\n",
    "  publisher={J. Wiley \\& Sons}\n",
    "}\n",
    "```\n"
   ]
  }
 ],
 "metadata": {
  "colab": {
   "provenance": []
  },
  "kernelspec": {
   "display_name": "Python 3",
   "language": "python",
   "name": "python3"
  },
  "language_info": {
   "codemirror_mode": {
    "name": "ipython",
    "version": 3
   },
   "file_extension": ".py",
   "mimetype": "text/x-python",
   "name": "python",
   "nbconvert_exporter": "python",
   "pygments_lexer": "ipython3",
   "version": "3.8.8"
  }
 },
 "nbformat": 4,
 "nbformat_minor": 1
}
