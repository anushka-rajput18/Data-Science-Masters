{
 "cells": [
  {
   "cell_type": "markdown",
   "id": "fae1780f",
   "metadata": {},
   "source": [
    "\"OOPS\" stands for Object-Oriented Programming System"
   ]
  },
  {
   "cell_type": "code",
   "execution_count": 1,
   "id": "c1d2ac61",
   "metadata": {},
   "outputs": [],
   "source": [
    "a = 1"
   ]
  },
  {
   "cell_type": "code",
   "execution_count": 2,
   "id": "a364cf89",
   "metadata": {},
   "outputs": [
    {
     "name": "stdout",
     "output_type": "stream",
     "text": [
      "<class 'int'>\n"
     ]
    }
   ],
   "source": [
    "print(type(1))"
   ]
  },
  {
   "cell_type": "code",
   "execution_count": 3,
   "id": "5fded88f",
   "metadata": {},
   "outputs": [
    {
     "name": "stdout",
     "output_type": "stream",
     "text": [
      "<class 'str'>\n"
     ]
    }
   ],
   "source": [
    "print(type(\"Pwskills\"))"
   ]
  },
  {
   "cell_type": "code",
   "execution_count": 5,
   "id": "fe95a9d0",
   "metadata": {},
   "outputs": [],
   "source": [
    "class test:\n",
    "    pass"
   ]
  },
  {
   "cell_type": "code",
   "execution_count": 6,
   "id": "15c7755e",
   "metadata": {},
   "outputs": [
    {
     "name": "stdout",
     "output_type": "stream",
     "text": [
      "<class '__main__.test'>\n"
     ]
    }
   ],
   "source": [
    "a = test()\n",
    "print(type(a))"
   ]
  },
  {
   "cell_type": "code",
   "execution_count": 15,
   "id": "4e53fed7",
   "metadata": {},
   "outputs": [],
   "source": [
    "class pwskills:\n",
    "    \n",
    "    def welcome_msg(self):\n",
    "        print(\"Welcome to pwskills\")"
   ]
  },
  {
   "cell_type": "code",
   "execution_count": 16,
   "id": "f49d57a3",
   "metadata": {},
   "outputs": [],
   "source": [
    "rohan = pwskills()"
   ]
  },
  {
   "cell_type": "code",
   "execution_count": 17,
   "id": "faf73968",
   "metadata": {},
   "outputs": [
    {
     "name": "stdout",
     "output_type": "stream",
     "text": [
      "Welcome to pwskills\n"
     ]
    }
   ],
   "source": [
    "rohan.welcome_msg()"
   ]
  },
  {
   "cell_type": "code",
   "execution_count": 18,
   "id": "b21a3eaa",
   "metadata": {},
   "outputs": [
    {
     "name": "stdout",
     "output_type": "stream",
     "text": [
      "Welcome to pwskills\n"
     ]
    }
   ],
   "source": [
    "sohan = pwskills()\n",
    "sohan.welcome_msg()"
   ]
  },
  {
   "cell_type": "code",
   "execution_count": 22,
   "id": "faa7d04e",
   "metadata": {},
   "outputs": [],
   "source": [
    "class pwskill:\n",
    "    #self is just a reference of this class you can take anything in place of self\n",
    "    def __init__(self,phone_number,email_id,student_id):\n",
    "        self.phone_number = phone_number\n",
    "        self.email_id = email_id\n",
    "        self.student_id = student_id\n",
    "        \n",
    "    def return_student_details(self):\n",
    "        return self.phone_number, self.email_id, self.student_id"
   ]
  },
  {
   "cell_type": "code",
   "execution_count": 23,
   "id": "7f377dc0",
   "metadata": {},
   "outputs": [],
   "source": [
    "anu = pwskill(1234567890,\"anu@gmail.com\",101)"
   ]
  },
  {
   "cell_type": "code",
   "execution_count": 24,
   "id": "e73c91f0",
   "metadata": {},
   "outputs": [
    {
     "data": {
      "text/plain": [
       "1234567890"
      ]
     },
     "execution_count": 24,
     "metadata": {},
     "output_type": "execute_result"
    }
   ],
   "source": [
    "anu.phone_number"
   ]
  },
  {
   "cell_type": "code",
   "execution_count": 25,
   "id": "a6fb2d9e",
   "metadata": {},
   "outputs": [
    {
     "data": {
      "text/plain": [
       "'anu@gmail.com'"
      ]
     },
     "execution_count": 25,
     "metadata": {},
     "output_type": "execute_result"
    }
   ],
   "source": [
    "anu.email_id"
   ]
  },
  {
   "cell_type": "code",
   "execution_count": 26,
   "id": "4804b6b7",
   "metadata": {},
   "outputs": [
    {
     "data": {
      "text/plain": [
       "101"
      ]
     },
     "execution_count": 26,
     "metadata": {},
     "output_type": "execute_result"
    }
   ],
   "source": [
    "anu.student_id"
   ]
  },
  {
   "cell_type": "code",
   "execution_count": 27,
   "id": "e581f4e2",
   "metadata": {},
   "outputs": [
    {
     "data": {
      "text/plain": [
       "(1234567890, 'anu@gmail.com', 101)"
      ]
     },
     "execution_count": 27,
     "metadata": {},
     "output_type": "execute_result"
    }
   ],
   "source": [
    "anu.return_student_details()"
   ]
  },
  {
   "cell_type": "code",
   "execution_count": 39,
   "id": "594b7430",
   "metadata": {},
   "outputs": [],
   "source": [
    "class pwskill3:\n",
    "    #self is just a reference of this class you can take anything in place of self\n",
    "    def __init__(self,phone_number,email_id,student_id):\n",
    "        self.phone_number1 = phone_number\n",
    "        self.email_id = email_id\n",
    "        self.student_id = student_id\n",
    "        \n",
    "    def return_student_details(self):\n",
    "        return self.phone_number1, self.email_id, self.student_id"
   ]
  },
  {
   "cell_type": "code",
   "execution_count": 40,
   "id": "cc4bde5f",
   "metadata": {},
   "outputs": [],
   "source": [
    "anushka = pwskill3(4749302,\"a@gmail.com\",102)"
   ]
  },
  {
   "cell_type": "code",
   "execution_count": 41,
   "id": "c27e6be8",
   "metadata": {},
   "outputs": [
    {
     "ename": "AttributeError",
     "evalue": "'pwskill3' object has no attribute 'phone_number'",
     "output_type": "error",
     "traceback": [
      "\u001b[1;31m---------------------------------------------------------------------------\u001b[0m",
      "\u001b[1;31mAttributeError\u001b[0m                            Traceback (most recent call last)",
      "\u001b[1;32m<ipython-input-41-aeb31fe9a7af>\u001b[0m in \u001b[0;36m<module>\u001b[1;34m\u001b[0m\n\u001b[1;32m----> 1\u001b[1;33m \u001b[0manushka\u001b[0m\u001b[1;33m.\u001b[0m\u001b[0mphone_number\u001b[0m\u001b[1;33m\u001b[0m\u001b[1;33m\u001b[0m\u001b[0m\n\u001b[0m",
      "\u001b[1;31mAttributeError\u001b[0m: 'pwskill3' object has no attribute 'phone_number'"
     ]
    }
   ],
   "source": [
    "anushka.phone_number"
   ]
  },
  {
   "cell_type": "code",
   "execution_count": 42,
   "id": "1e88798a",
   "metadata": {},
   "outputs": [
    {
     "data": {
      "text/plain": [
       "4749302"
      ]
     },
     "execution_count": 42,
     "metadata": {},
     "output_type": "execute_result"
    }
   ],
   "source": [
    "anushka.phone_number1 #phone_number1 only belong to class phone_number is just an assignment"
   ]
  },
  {
   "cell_type": "code",
   "execution_count": 44,
   "id": "483764fb",
   "metadata": {},
   "outputs": [
    {
     "data": {
      "text/plain": [
       "(4749302, 'a@gmail.com', 102)"
      ]
     },
     "execution_count": 44,
     "metadata": {},
     "output_type": "execute_result"
    }
   ],
   "source": [
    "anushka.return_student_details()"
   ]
  },
  {
   "cell_type": "markdown",
   "id": "b9909bed",
   "metadata": {},
   "source": [
    "https://www.geeksforgeeks.org/python-oops-concepts/"
   ]
  }
 ],
 "metadata": {
  "kernelspec": {
   "display_name": "Python 3",
   "language": "python",
   "name": "python3"
  },
  "language_info": {
   "codemirror_mode": {
    "name": "ipython",
    "version": 3
   },
   "file_extension": ".py",
   "mimetype": "text/x-python",
   "name": "python",
   "nbconvert_exporter": "python",
   "pygments_lexer": "ipython3",
   "version": "3.8.8"
  }
 },
 "nbformat": 4,
 "nbformat_minor": 5
}
