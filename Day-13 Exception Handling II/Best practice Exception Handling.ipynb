{
 "cells": [
  {
   "cell_type": "code",
   "execution_count": 1,
   "id": "e27d65a4",
   "metadata": {},
   "outputs": [
    {
     "name": "stdout",
     "output_type": "stream",
     "text": [
      "division by zero\n"
     ]
    }
   ],
   "source": [
    "#use always a specific exception\n",
    "try:\n",
    "    10/0\n",
    "except Exception as e:\n",
    "    print(e)"
   ]
  },
  {
   "cell_type": "code",
   "execution_count": 2,
   "id": "8ff9f315",
   "metadata": {},
   "outputs": [
    {
     "name": "stdout",
     "output_type": "stream",
     "text": [
      "division by zero\n"
     ]
    }
   ],
   "source": [
    "try:\n",
    "    10/0\n",
    "except ZeroDivisionError as e:\n",
    "    print(e)"
   ]
  },
  {
   "cell_type": "code",
   "execution_count": 3,
   "id": "c4df0d25",
   "metadata": {},
   "outputs": [
    {
     "name": "stdout",
     "output_type": "stream",
     "text": [
      "this is my zero division error i am handling..\n"
     ]
    }
   ],
   "source": [
    "#print always a valid msg\n",
    "try:\n",
    "    10/0\n",
    "except ZeroDivisionError as e:\n",
    "    print(\"this is my zero division error i am handling..\")"
   ]
  },
  {
   "cell_type": "code",
   "execution_count": 5,
   "id": "62e06440",
   "metadata": {},
   "outputs": [],
   "source": [
    "#always try to log \n",
    "import logging\n",
    "logging.basicConfig(filename = \"error.log\" , level = logging.ERROR)\n",
    "try :\n",
    "    10/0\n",
    "except ZeroDivisionError as e :\n",
    "    logging.error(\"this is my zero dedision error i am handling {} \".format( e))"
   ]
  },
  {
   "cell_type": "code",
   "execution_count": 6,
   "id": "53f41ba9",
   "metadata": {},
   "outputs": [],
   "source": [
    "#always avoid to write a multiple exception handling \n",
    "try :\n",
    "    10/0\n",
    "except FileNotFoundError as e : \n",
    "    logging.error(\"this is my file not found  {} \".format( e))\n",
    "except AttributeError as e : \n",
    "    logging.error(\"this is my attribute erro  {} \".format( e))\n",
    "except ZeroDivisionError as e :\n",
    "    logging.error(\"this is my zero dedision error i am handling {} \".format( e))"
   ]
  },
  {
   "cell_type": "code",
   "execution_count": 7,
   "id": "9813d1de",
   "metadata": {},
   "outputs": [],
   "source": [
    "#prepare a proper documnetation"
   ]
  },
  {
   "cell_type": "code",
   "execution_count": 8,
   "id": "74816882",
   "metadata": {},
   "outputs": [],
   "source": [
    "#cleanup all the resources \n",
    "\n",
    "try :\n",
    "    with open(\"test.txt\" , \"w\" ) as f :\n",
    "        f.write(\"thsi is my msg to file \" )\n",
    "except FileNotFoundError as e : \n",
    "     logging.error(\"this is my file not found  {} \".format( e))\n",
    "finally : \n",
    "    f.close()"
   ]
  }
 ],
 "metadata": {
  "kernelspec": {
   "display_name": "Python 3",
   "language": "python",
   "name": "python3"
  },
  "language_info": {
   "codemirror_mode": {
    "name": "ipython",
    "version": 3
   },
   "file_extension": ".py",
   "mimetype": "text/x-python",
   "name": "python",
   "nbconvert_exporter": "python",
   "pygments_lexer": "ipython3",
   "version": "3.8.8"
  }
 },
 "nbformat": 4,
 "nbformat_minor": 5
}
