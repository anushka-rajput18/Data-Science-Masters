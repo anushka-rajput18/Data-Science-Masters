{
 "cells": [
  {
   "cell_type": "markdown",
   "id": "14cb860d",
   "metadata": {},
   "source": [
    "**Q.1 What is multithreading in python? Why is it used? Name the module used to handle threads in python**"
   ]
  },
  {
   "cell_type": "markdown",
   "id": "a4311039",
   "metadata": {},
   "source": [
    "Multithreading is a threading technique in Python programming to run multiple threads concurrently by rapidly switching between threads with a CPU help (called context switching). Besides, it allows sharing of its data space with the main threads inside a process that share information and communication with other threads easier than individual processes. Multithreading aims to perform multiple tasks simultaneously, which increases performance, speed and improves the rendering of the application.\n",
    "\n",
    "It is a very useful technique for time-saving and improving the performance of an application. Multithreading allows the programmer to divide application tasks into sub-tasks and simultaneously run them in a program. It allows threads to communicate and share resources such as files, data, and memory to the same processor. Furthermore, it increases the user's responsiveness to continue running a program even if a part of the application is the length or blocked.\n",
    "\n",
    "**Threading** module is usd to handle threads in python"
   ]
  },
  {
   "cell_type": "markdown",
   "id": "936561b7",
   "metadata": {},
   "source": [
    "**Q.2 Why threading module used? Write the use of the following functions**"
   ]
  },
  {
   "cell_type": "markdown",
   "id": "8da7f820",
   "metadata": {},
   "source": [
    "The threading module is used in Python to create and manage threads. It allows multiple threads of execution to run simultaneously within a single program. This can be useful in situations where there are tasks that can be performed concurrently, such as downloading data while processing it, or when a program needs to remain responsive while a time-consuming operation is being performed.\n",
    "\n",
    "Here are some common functions of the threading module and their uses:\n",
    "\n",
    "1. ***threading.Thread(target=func, args=())***: This function creates a new thread object and starts it running the given target function with the provided arguments.\n",
    "\n",
    "2. ***threading.Lock()***: This function creates a new lock object that can be used to synchronize access to shared resources between multiple threads.\n",
    "\n",
    "3. ***threading.Event()***: This function creates a new event object that can be used to signal between threads.\n",
    "\n",
    "4. ***threading.Condition()***: This function creates a new condition variable object that can be used to coordinate access to shared resources between multiple threads.\n",
    "\n",
    "5. ***threading.Timer(interval, function, args=())***: This function creates a new timer object that will execute the given function after the specified interval has elapsed.\n",
    "\n",
    "6. ***threading.activeCount()***: This function returns the number of active threads in the current process.\n",
    "\n",
    "7. ***threading.currentThread()***: This function returns a reference to the current thread object.\n",
    "\n",
    "8. ***threading.enumerate()***: This function returns a list of all thread objects that are currently active in the current process."
   ]
  },
  {
   "cell_type": "markdown",
   "id": "c0c5bef1",
   "metadata": {},
   "source": [
    "**Q.3 Explain the following functions:**"
   ]
  },
  {
   "cell_type": "markdown",
   "id": "21c804c6",
   "metadata": {},
   "source": [
    "1. **run()** : The run() function in multithreading is the method that is executed when a new thread is started. It contains the code that will be executed in the new thread. When a Thread object is created, the run() function is the default target function that is called when no other function is specified.\n",
    "\n",
    "\n",
    "2. **start()** : The start() function is used to start a new thread of execution. When a Thread object is created, it does not start executing until the start() function is called. The start() function creates a new thread and calls the run() function in that new thread.Here are some key points about the start() function in multithreading:\n",
    "    - The start() function must be called on a Thread object before the thread will begin executing.\n",
    "    - Calling start() multiple times on the same Thread object will result in an error.\n",
    "    - Once a thread has been started, it cannot be started again.\n",
    "    - The start() function returns immediately, allowing the main thread to continue executing while the new thread is started in the background.\n",
    "    - It is important to note that the order of execution of threads is non-deterministic, meaning that the order in which threads are executed is not guaranteed and may vary between different runs of the program.\n",
    " \n",
    " \n",
    "3. **join()** : The join() function is used to wait for a thread to complete its execution before continuing with the rest of the program. When the join() function is called on a Thread object, the calling thread (usually the main thread) will block and wait for the specified thread to finish executing. Here are some key points about the join() function in multithreading:\n",
    "    - The join() function must be called on a Thread object.\n",
    "    - When the join() function is called, the calling thread will block until the specified thread has completed its execution.\n",
    "    - If the specified thread has already completed its execution, the join() function will return immediately.\n",
    "    - If the specified timeout (in seconds) is reached before the specified thread completes its execution, the join() function will return anyway.\n",
    "    - It is important to note that calling join() on a thread that has not been started will have no effect.\n",
    "\n",
    "\n",
    "4. **isAlive()** : The isAlive() function in multithreading is used to check if a thread is currently executing or not. It returns True if the specified thread is executing, and False if the thread has completed its execution. The function must be called on a Thread object, and its result is only valid at the time it is called.\n"
   ]
  },
  {
   "cell_type": "markdown",
   "id": "ec847a71",
   "metadata": {},
   "source": [
    "**Q.4 Write a python program to create two threads. Thread one must print the list of squares and thread two must print the list of cubes**"
   ]
  },
  {
   "cell_type": "code",
   "execution_count": 1,
   "id": "3ea0021c",
   "metadata": {},
   "outputs": [
    {
     "name": "stdout",
     "output_type": "stream",
     "text": [
      "1\n",
      "4\n",
      "9\n",
      "16\n",
      "25\n",
      "36\n",
      "49\n",
      "64\n",
      "81\n",
      "100\n",
      "1\n",
      "8\n",
      "27\n",
      "64\n",
      "125\n",
      "216\n",
      "343\n",
      "512\n",
      "729\n",
      "1000\n",
      "Done!\n"
     ]
    }
   ],
   "source": [
    "import threading\n",
    "\n",
    "def print_squares():\n",
    "    for i in range(1, 11):\n",
    "        print(i**2)\n",
    "\n",
    "def print_cubes():\n",
    "    for i in range(1, 11):\n",
    "        print(i**3)\n",
    "\n",
    "# create thread objects\n",
    "t1 = threading.Thread(target=print_squares)\n",
    "t2 = threading.Thread(target=print_cubes)\n",
    "\n",
    "# start threads\n",
    "t1.start()\n",
    "t2.start()\n",
    "\n",
    "# wait for threads to finish\n",
    "t1.join()\n",
    "t2.join()\n",
    "\n",
    "print(\"Done!\")\n"
   ]
  },
  {
   "cell_type": "markdown",
   "id": "eb22b858",
   "metadata": {},
   "source": [
    "**Q.5 State advantages and disadvantages of multithreading**"
   ]
  },
  {
   "cell_type": "markdown",
   "id": "8d3e8b48",
   "metadata": {},
   "source": [
    "Advantage of Multithreading: \n",
    "1. Increased performance: Multithreading can lead to improved performance by allowing multiple threads to execute in parallel, taking advantage of multiple CPU cores or processors.\n",
    "2. Enhanced responsiveness: By using multithreading, an application can be designed to remain responsive to user input even while performing intensive operations in the background.\n",
    "3. Resource sharing: Multiple threads can share the same resources, such as memory and I/O devices, leading to efficient use of resources.\n",
    "4. Modularity: By dividing a program into multiple threads, it becomes easier to manage and maintain the code.\n",
    "\n",
    "\n",
    "\n",
    "\n",
    "DisAdvantage of Multithreading: \n",
    "1. Complexity: Multithreaded programming can be more complex than single-threaded programming due to the potential for synchronization issues and race conditions.\n",
    "2. Synchronization overhead: Synchronizing access to shared resources can lead to overhead and reduced performance.\n",
    "3. Deadlocks and race conditions: Multithreaded programs can be prone to deadlocks and race conditions, which can be difficult to diagnose and fix.\n",
    "4. Debugging difficulty: Multithreaded programs can be more difficult to debug due to the non-deterministic nature of thread execution and potential timing issues."
   ]
  },
  {
   "cell_type": "markdown",
   "id": "f94d0dd2",
   "metadata": {},
   "source": [
    "**Q.6 Explain deadlocks and race conditions.**"
   ]
  },
  {
   "cell_type": "markdown",
   "id": "2be88321",
   "metadata": {},
   "source": [
    "Deadlocks and race conditions are two types of concurrency issues that can occur in multithreaded programs.\n",
    "\n",
    "A deadlock occurs when two or more threads are waiting for each other to release a resource, such as a lock or a semaphore, that they need in order to proceed. This can result in a situation where all threads are blocked and unable to make progress, effectively halting the program. Deadlocks are usually caused by incorrect synchronization of shared resources or a circular chain of resource dependencies.\n",
    "\n",
    "A race condition occurs when the behavior of a program depends on the order or timing of events, and multiple threads are involved in those events. In other words, the outcome of the program is \"racing\" to be determined by whichever thread completes its operation first. This can result in unpredictable behavior or even program crashes. Race conditions are usually caused by incorrect use of shared resources or incorrect synchronization of threads.\n",
    "\n",
    "Both deadlocks and race conditions can be difficult to diagnose and fix, and can be especially problematic in large, complex programs. Careful attention to synchronization and resource management is necessary to prevent these types of issues from occurring in multithreaded programs."
   ]
  }
 ],
 "metadata": {
  "kernelspec": {
   "display_name": "Python 3",
   "language": "python",
   "name": "python3"
  },
  "language_info": {
   "codemirror_mode": {
    "name": "ipython",
    "version": 3
   },
   "file_extension": ".py",
   "mimetype": "text/x-python",
   "name": "python",
   "nbconvert_exporter": "python",
   "pygments_lexer": "ipython3",
   "version": "3.8.8"
  }
 },
 "nbformat": 4,
 "nbformat_minor": 5
}
